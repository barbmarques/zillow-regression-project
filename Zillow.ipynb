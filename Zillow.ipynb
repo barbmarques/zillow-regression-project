{
 "cells": [
  {
   "cell_type": "markdown",
   "metadata": {},
   "source": [
    "### Explorations for Zillow Project\n"
   ]
  },
  {
   "cell_type": "markdown",
   "metadata": {},
   "source": [
    "Does the lot size affect the value of the house?\n",
    "Should I combine bathroom/bedroom count\n",
    "\n",
    "Counties by FIP:\n",
    "    6037 - Los Angeles County\n",
    "    6059 - Orange County\n",
    "    6111 - Ventura County\n",
    "    "
   ]
  },
  {
   "cell_type": "code",
   "execution_count": 6,
   "metadata": {},
   "outputs": [],
   "source": [
    "import pandas as pd\n",
    "import matplotlib.pyplot as plt\n",
    "import seaborn as sns\n",
    "import env\n",
    "import acquire\n",
    "\n",
    "import warnings\n",
    "warnings.filterwarnings(\"ignore\")"
   ]
  },
  {
   "cell_type": "code",
   "execution_count": 7,
   "metadata": {},
   "outputs": [
    {
     "data": {
      "text/html": [
       "<div>\n",
       "<style scoped>\n",
       "    .dataframe tbody tr th:only-of-type {\n",
       "        vertical-align: middle;\n",
       "    }\n",
       "\n",
       "    .dataframe tbody tr th {\n",
       "        vertical-align: top;\n",
       "    }\n",
       "\n",
       "    .dataframe thead th {\n",
       "        text-align: right;\n",
       "    }\n",
       "</style>\n",
       "<table border=\"1\" class=\"dataframe\">\n",
       "  <thead>\n",
       "    <tr style=\"text-align: right;\">\n",
       "      <th></th>\n",
       "      <th>bathroomcnt</th>\n",
       "      <th>bedroomcnt</th>\n",
       "      <th>yearbuilt</th>\n",
       "      <th>calculatedfinishedsquarefeet</th>\n",
       "      <th>lotsizesquarefeet</th>\n",
       "      <th>parcelid</th>\n",
       "      <th>fips</th>\n",
       "      <th>regionidzip</th>\n",
       "      <th>taxvaluedollarcnt</th>\n",
       "      <th>taxamount</th>\n",
       "    </tr>\n",
       "  </thead>\n",
       "  <tbody>\n",
       "    <tr>\n",
       "      <th>0</th>\n",
       "      <td>2.0</td>\n",
       "      <td>3.0</td>\n",
       "      <td>1923.0</td>\n",
       "      <td>1316.0</td>\n",
       "      <td>5672.0</td>\n",
       "      <td>11721753</td>\n",
       "      <td>6037.0</td>\n",
       "      <td>95997.0</td>\n",
       "      <td>205123.0</td>\n",
       "      <td>2627.48</td>\n",
       "    </tr>\n",
       "    <tr>\n",
       "      <th>1</th>\n",
       "      <td>2.0</td>\n",
       "      <td>3.0</td>\n",
       "      <td>1970.0</td>\n",
       "      <td>1458.0</td>\n",
       "      <td>8284.0</td>\n",
       "      <td>11289917</td>\n",
       "      <td>6037.0</td>\n",
       "      <td>97318.0</td>\n",
       "      <td>136104.0</td>\n",
       "      <td>2319.90</td>\n",
       "    </tr>\n",
       "    <tr>\n",
       "      <th>2</th>\n",
       "      <td>2.0</td>\n",
       "      <td>3.0</td>\n",
       "      <td>1980.0</td>\n",
       "      <td>1766.0</td>\n",
       "      <td>25082.0</td>\n",
       "      <td>11637029</td>\n",
       "      <td>6037.0</td>\n",
       "      <td>96086.0</td>\n",
       "      <td>810694.0</td>\n",
       "      <td>9407.01</td>\n",
       "    </tr>\n",
       "    <tr>\n",
       "      <th>3</th>\n",
       "      <td>1.0</td>\n",
       "      <td>2.0</td>\n",
       "      <td>1911.0</td>\n",
       "      <td>1421.0</td>\n",
       "      <td>6707.0</td>\n",
       "      <td>11705026</td>\n",
       "      <td>6037.0</td>\n",
       "      <td>96018.0</td>\n",
       "      <td>35606.0</td>\n",
       "      <td>543.69</td>\n",
       "    </tr>\n",
       "    <tr>\n",
       "      <th>4</th>\n",
       "      <td>3.0</td>\n",
       "      <td>4.0</td>\n",
       "      <td>2003.0</td>\n",
       "      <td>2541.0</td>\n",
       "      <td>4975.0</td>\n",
       "      <td>14269464</td>\n",
       "      <td>6059.0</td>\n",
       "      <td>96958.0</td>\n",
       "      <td>880456.0</td>\n",
       "      <td>9819.72</td>\n",
       "    </tr>\n",
       "  </tbody>\n",
       "</table>\n",
       "</div>"
      ],
      "text/plain": [
       "   bathroomcnt  bedroomcnt  yearbuilt  calculatedfinishedsquarefeet  \\\n",
       "0          2.0         3.0     1923.0                        1316.0   \n",
       "1          2.0         3.0     1970.0                        1458.0   \n",
       "2          2.0         3.0     1980.0                        1766.0   \n",
       "3          1.0         2.0     1911.0                        1421.0   \n",
       "4          3.0         4.0     2003.0                        2541.0   \n",
       "\n",
       "   lotsizesquarefeet  parcelid    fips  regionidzip  taxvaluedollarcnt  \\\n",
       "0             5672.0  11721753  6037.0      95997.0           205123.0   \n",
       "1             8284.0  11289917  6037.0      97318.0           136104.0   \n",
       "2            25082.0  11637029  6037.0      96086.0           810694.0   \n",
       "3             6707.0  11705026  6037.0      96018.0            35606.0   \n",
       "4             4975.0  14269464  6059.0      96958.0           880456.0   \n",
       "\n",
       "   taxamount  \n",
       "0    2627.48  \n",
       "1    2319.90  \n",
       "2    9407.01  \n",
       "3     543.69  \n",
       "4    9819.72  "
      ]
     },
     "execution_count": 7,
     "metadata": {},
     "output_type": "execute_result"
    }
   ],
   "source": [
    "df = acquire.acquire('zillow')\n",
    "df.head()"
   ]
  },
  {
   "cell_type": "code",
   "execution_count": 8,
   "metadata": {},
   "outputs": [],
   "source": [
    "# Some prep\n",
    "df = df.rename(columns={\"bedroomcnt\": \"bedrooms\", \"bathroomcnt\": \"bathrooms\", \n",
    "                        \"calculatedfinishedsquarefeet\":\"square_feet\", \"taxamount\": \"taxes\", \n",
    "                        \"taxvaluedollarcnt\": \"tax_value\", \"parcelid\":\"parcel_id\",\n",
    "                        \"buildingqualitytypeid\":\"building_quality\",\"regionidcounty\":\"county\",\n",
    "                        \"regionidzip\":\"zip_code\",\"lotsizesquarefeet\":\"lot_size\", \"yearbuilt\":\"age\"})"
   ]
  },
  {
   "cell_type": "code",
   "execution_count": 9,
   "metadata": {},
   "outputs": [
    {
     "data": {
      "text/html": [
       "<div>\n",
       "<style scoped>\n",
       "    .dataframe tbody tr th:only-of-type {\n",
       "        vertical-align: middle;\n",
       "    }\n",
       "\n",
       "    .dataframe tbody tr th {\n",
       "        vertical-align: top;\n",
       "    }\n",
       "\n",
       "    .dataframe thead th {\n",
       "        text-align: right;\n",
       "    }\n",
       "</style>\n",
       "<table border=\"1\" class=\"dataframe\">\n",
       "  <thead>\n",
       "    <tr style=\"text-align: right;\">\n",
       "      <th></th>\n",
       "      <th>bathrooms</th>\n",
       "      <th>bedrooms</th>\n",
       "      <th>age</th>\n",
       "      <th>square_feet</th>\n",
       "      <th>lot_size</th>\n",
       "      <th>parcel_id</th>\n",
       "      <th>fips</th>\n",
       "      <th>zip_code</th>\n",
       "      <th>tax_value</th>\n",
       "      <th>taxes</th>\n",
       "    </tr>\n",
       "  </thead>\n",
       "  <tbody>\n",
       "    <tr>\n",
       "      <th>0</th>\n",
       "      <td>2.0</td>\n",
       "      <td>3.0</td>\n",
       "      <td>1923.0</td>\n",
       "      <td>1316.0</td>\n",
       "      <td>5672.0</td>\n",
       "      <td>11721753</td>\n",
       "      <td>6037.0</td>\n",
       "      <td>95997.0</td>\n",
       "      <td>205123.0</td>\n",
       "      <td>2627.48</td>\n",
       "    </tr>\n",
       "    <tr>\n",
       "      <th>1</th>\n",
       "      <td>2.0</td>\n",
       "      <td>3.0</td>\n",
       "      <td>1970.0</td>\n",
       "      <td>1458.0</td>\n",
       "      <td>8284.0</td>\n",
       "      <td>11289917</td>\n",
       "      <td>6037.0</td>\n",
       "      <td>97318.0</td>\n",
       "      <td>136104.0</td>\n",
       "      <td>2319.90</td>\n",
       "    </tr>\n",
       "    <tr>\n",
       "      <th>2</th>\n",
       "      <td>2.0</td>\n",
       "      <td>3.0</td>\n",
       "      <td>1980.0</td>\n",
       "      <td>1766.0</td>\n",
       "      <td>25082.0</td>\n",
       "      <td>11637029</td>\n",
       "      <td>6037.0</td>\n",
       "      <td>96086.0</td>\n",
       "      <td>810694.0</td>\n",
       "      <td>9407.01</td>\n",
       "    </tr>\n",
       "    <tr>\n",
       "      <th>3</th>\n",
       "      <td>1.0</td>\n",
       "      <td>2.0</td>\n",
       "      <td>1911.0</td>\n",
       "      <td>1421.0</td>\n",
       "      <td>6707.0</td>\n",
       "      <td>11705026</td>\n",
       "      <td>6037.0</td>\n",
       "      <td>96018.0</td>\n",
       "      <td>35606.0</td>\n",
       "      <td>543.69</td>\n",
       "    </tr>\n",
       "    <tr>\n",
       "      <th>4</th>\n",
       "      <td>3.0</td>\n",
       "      <td>4.0</td>\n",
       "      <td>2003.0</td>\n",
       "      <td>2541.0</td>\n",
       "      <td>4975.0</td>\n",
       "      <td>14269464</td>\n",
       "      <td>6059.0</td>\n",
       "      <td>96958.0</td>\n",
       "      <td>880456.0</td>\n",
       "      <td>9819.72</td>\n",
       "    </tr>\n",
       "  </tbody>\n",
       "</table>\n",
       "</div>"
      ],
      "text/plain": [
       "   bathrooms  bedrooms     age  square_feet  lot_size  parcel_id    fips  \\\n",
       "0        2.0       3.0  1923.0       1316.0    5672.0   11721753  6037.0   \n",
       "1        2.0       3.0  1970.0       1458.0    8284.0   11289917  6037.0   \n",
       "2        2.0       3.0  1980.0       1766.0   25082.0   11637029  6037.0   \n",
       "3        1.0       2.0  1911.0       1421.0    6707.0   11705026  6037.0   \n",
       "4        3.0       4.0  2003.0       2541.0    4975.0   14269464  6059.0   \n",
       "\n",
       "   zip_code  tax_value    taxes  \n",
       "0   95997.0   205123.0  2627.48  \n",
       "1   97318.0   136104.0  2319.90  \n",
       "2   96086.0   810694.0  9407.01  \n",
       "3   96018.0    35606.0   543.69  \n",
       "4   96958.0   880456.0  9819.72  "
      ]
     },
     "execution_count": 9,
     "metadata": {},
     "output_type": "execute_result"
    }
   ],
   "source": [
    "df.head()"
   ]
  },
  {
   "cell_type": "code",
   "execution_count": 10,
   "metadata": {},
   "outputs": [
    {
     "data": {
      "text/plain": [
       "(34363, 10)"
      ]
     },
     "execution_count": 10,
     "metadata": {},
     "output_type": "execute_result"
    }
   ],
   "source": [
    "df.shape"
   ]
  },
  {
   "cell_type": "code",
   "execution_count": 11,
   "metadata": {},
   "outputs": [
    {
     "data": {
      "text/html": [
       "<div>\n",
       "<style scoped>\n",
       "    .dataframe tbody tr th:only-of-type {\n",
       "        vertical-align: middle;\n",
       "    }\n",
       "\n",
       "    .dataframe tbody tr th {\n",
       "        vertical-align: top;\n",
       "    }\n",
       "\n",
       "    .dataframe thead th {\n",
       "        text-align: right;\n",
       "    }\n",
       "</style>\n",
       "<table border=\"1\" class=\"dataframe\">\n",
       "  <thead>\n",
       "    <tr style=\"text-align: right;\">\n",
       "      <th></th>\n",
       "      <th>bathrooms</th>\n",
       "      <th>bedrooms</th>\n",
       "      <th>age</th>\n",
       "      <th>square_feet</th>\n",
       "      <th>lot_size</th>\n",
       "      <th>parcel_id</th>\n",
       "      <th>fips</th>\n",
       "      <th>zip_code</th>\n",
       "      <th>tax_value</th>\n",
       "      <th>taxes</th>\n",
       "    </tr>\n",
       "  </thead>\n",
       "  <tbody>\n",
       "    <tr>\n",
       "      <th>0</th>\n",
       "      <td>2.0</td>\n",
       "      <td>3.0</td>\n",
       "      <td>94.0</td>\n",
       "      <td>1316.0</td>\n",
       "      <td>5672.0</td>\n",
       "      <td>11721753</td>\n",
       "      <td>6037.0</td>\n",
       "      <td>95997.0</td>\n",
       "      <td>205123.0</td>\n",
       "      <td>2627.48</td>\n",
       "    </tr>\n",
       "    <tr>\n",
       "      <th>1</th>\n",
       "      <td>2.0</td>\n",
       "      <td>3.0</td>\n",
       "      <td>47.0</td>\n",
       "      <td>1458.0</td>\n",
       "      <td>8284.0</td>\n",
       "      <td>11289917</td>\n",
       "      <td>6037.0</td>\n",
       "      <td>97318.0</td>\n",
       "      <td>136104.0</td>\n",
       "      <td>2319.90</td>\n",
       "    </tr>\n",
       "    <tr>\n",
       "      <th>2</th>\n",
       "      <td>2.0</td>\n",
       "      <td>3.0</td>\n",
       "      <td>37.0</td>\n",
       "      <td>1766.0</td>\n",
       "      <td>25082.0</td>\n",
       "      <td>11637029</td>\n",
       "      <td>6037.0</td>\n",
       "      <td>96086.0</td>\n",
       "      <td>810694.0</td>\n",
       "      <td>9407.01</td>\n",
       "    </tr>\n",
       "    <tr>\n",
       "      <th>3</th>\n",
       "      <td>1.0</td>\n",
       "      <td>2.0</td>\n",
       "      <td>106.0</td>\n",
       "      <td>1421.0</td>\n",
       "      <td>6707.0</td>\n",
       "      <td>11705026</td>\n",
       "      <td>6037.0</td>\n",
       "      <td>96018.0</td>\n",
       "      <td>35606.0</td>\n",
       "      <td>543.69</td>\n",
       "    </tr>\n",
       "    <tr>\n",
       "      <th>4</th>\n",
       "      <td>3.0</td>\n",
       "      <td>4.0</td>\n",
       "      <td>14.0</td>\n",
       "      <td>2541.0</td>\n",
       "      <td>4975.0</td>\n",
       "      <td>14269464</td>\n",
       "      <td>6059.0</td>\n",
       "      <td>96958.0</td>\n",
       "      <td>880456.0</td>\n",
       "      <td>9819.72</td>\n",
       "    </tr>\n",
       "    <tr>\n",
       "      <th>...</th>\n",
       "      <td>...</td>\n",
       "      <td>...</td>\n",
       "      <td>...</td>\n",
       "      <td>...</td>\n",
       "      <td>...</td>\n",
       "      <td>...</td>\n",
       "      <td>...</td>\n",
       "      <td>...</td>\n",
       "      <td>...</td>\n",
       "      <td>...</td>\n",
       "    </tr>\n",
       "    <tr>\n",
       "      <th>34358</th>\n",
       "      <td>3.0</td>\n",
       "      <td>5.0</td>\n",
       "      <td>15.0</td>\n",
       "      <td>3015.0</td>\n",
       "      <td>7207.0</td>\n",
       "      <td>14453399</td>\n",
       "      <td>6059.0</td>\n",
       "      <td>96983.0</td>\n",
       "      <td>852813.0</td>\n",
       "      <td>11662.88</td>\n",
       "    </tr>\n",
       "    <tr>\n",
       "      <th>34359</th>\n",
       "      <td>2.0</td>\n",
       "      <td>1.0</td>\n",
       "      <td>53.0</td>\n",
       "      <td>769.0</td>\n",
       "      <td>62464.0</td>\n",
       "      <td>12019061</td>\n",
       "      <td>6037.0</td>\n",
       "      <td>96050.0</td>\n",
       "      <td>492395.0</td>\n",
       "      <td>6023.37</td>\n",
       "    </tr>\n",
       "    <tr>\n",
       "      <th>34360</th>\n",
       "      <td>2.0</td>\n",
       "      <td>2.0</td>\n",
       "      <td>48.0</td>\n",
       "      <td>1212.0</td>\n",
       "      <td>45200.0</td>\n",
       "      <td>11570288</td>\n",
       "      <td>6037.0</td>\n",
       "      <td>96030.0</td>\n",
       "      <td>600608.0</td>\n",
       "      <td>7255.87</td>\n",
       "    </tr>\n",
       "    <tr>\n",
       "      <th>34361</th>\n",
       "      <td>3.0</td>\n",
       "      <td>5.0</td>\n",
       "      <td>40.0</td>\n",
       "      <td>2992.0</td>\n",
       "      <td>40567.0</td>\n",
       "      <td>11128688</td>\n",
       "      <td>6037.0</td>\n",
       "      <td>96356.0</td>\n",
       "      <td>1120000.0</td>\n",
       "      <td>13663.03</td>\n",
       "    </tr>\n",
       "    <tr>\n",
       "      <th>34362</th>\n",
       "      <td>3.0</td>\n",
       "      <td>3.0</td>\n",
       "      <td>66.0</td>\n",
       "      <td>1574.0</td>\n",
       "      <td>25762.0</td>\n",
       "      <td>10713993</td>\n",
       "      <td>6037.0</td>\n",
       "      <td>96346.0</td>\n",
       "      <td>563463.0</td>\n",
       "      <td>6903.66</td>\n",
       "    </tr>\n",
       "  </tbody>\n",
       "</table>\n",
       "<p>34363 rows × 10 columns</p>\n",
       "</div>"
      ],
      "text/plain": [
       "       bathrooms  bedrooms    age  square_feet  lot_size  parcel_id    fips  \\\n",
       "0            2.0       3.0   94.0       1316.0    5672.0   11721753  6037.0   \n",
       "1            2.0       3.0   47.0       1458.0    8284.0   11289917  6037.0   \n",
       "2            2.0       3.0   37.0       1766.0   25082.0   11637029  6037.0   \n",
       "3            1.0       2.0  106.0       1421.0    6707.0   11705026  6037.0   \n",
       "4            3.0       4.0   14.0       2541.0    4975.0   14269464  6059.0   \n",
       "...          ...       ...    ...          ...       ...        ...     ...   \n",
       "34358        3.0       5.0   15.0       3015.0    7207.0   14453399  6059.0   \n",
       "34359        2.0       1.0   53.0        769.0   62464.0   12019061  6037.0   \n",
       "34360        2.0       2.0   48.0       1212.0   45200.0   11570288  6037.0   \n",
       "34361        3.0       5.0   40.0       2992.0   40567.0   11128688  6037.0   \n",
       "34362        3.0       3.0   66.0       1574.0   25762.0   10713993  6037.0   \n",
       "\n",
       "       zip_code  tax_value     taxes  \n",
       "0       95997.0   205123.0   2627.48  \n",
       "1       97318.0   136104.0   2319.90  \n",
       "2       96086.0   810694.0   9407.01  \n",
       "3       96018.0    35606.0    543.69  \n",
       "4       96958.0   880456.0   9819.72  \n",
       "...         ...        ...       ...  \n",
       "34358   96983.0   852813.0  11662.88  \n",
       "34359   96050.0   492395.0   6023.37  \n",
       "34360   96030.0   600608.0   7255.87  \n",
       "34361   96356.0  1120000.0  13663.03  \n",
       "34362   96346.0   563463.0   6903.66  \n",
       "\n",
       "[34363 rows x 10 columns]"
      ]
     },
     "execution_count": 11,
     "metadata": {},
     "output_type": "execute_result"
    }
   ],
   "source": [
    "df.age = 2017 - df.age\n",
    "df"
   ]
  },
  {
   "cell_type": "code",
   "execution_count": 12,
   "metadata": {},
   "outputs": [
    {
     "data": {
      "text/html": [
       "<div>\n",
       "<style scoped>\n",
       "    .dataframe tbody tr th:only-of-type {\n",
       "        vertical-align: middle;\n",
       "    }\n",
       "\n",
       "    .dataframe tbody tr th {\n",
       "        vertical-align: top;\n",
       "    }\n",
       "\n",
       "    .dataframe thead th {\n",
       "        text-align: right;\n",
       "    }\n",
       "</style>\n",
       "<table border=\"1\" class=\"dataframe\">\n",
       "  <thead>\n",
       "    <tr style=\"text-align: right;\">\n",
       "      <th></th>\n",
       "      <th>bathrooms</th>\n",
       "      <th>bedrooms</th>\n",
       "      <th>age</th>\n",
       "      <th>square_feet</th>\n",
       "      <th>lot_size</th>\n",
       "      <th>fips</th>\n",
       "      <th>zip_code</th>\n",
       "      <th>tax_value</th>\n",
       "      <th>taxes</th>\n",
       "    </tr>\n",
       "    <tr>\n",
       "      <th>parcel_id</th>\n",
       "      <th></th>\n",
       "      <th></th>\n",
       "      <th></th>\n",
       "      <th></th>\n",
       "      <th></th>\n",
       "      <th></th>\n",
       "      <th></th>\n",
       "      <th></th>\n",
       "      <th></th>\n",
       "    </tr>\n",
       "  </thead>\n",
       "  <tbody>\n",
       "    <tr>\n",
       "      <th>11721753</th>\n",
       "      <td>2.0</td>\n",
       "      <td>3.0</td>\n",
       "      <td>94.0</td>\n",
       "      <td>1316.0</td>\n",
       "      <td>5672.0</td>\n",
       "      <td>6037.0</td>\n",
       "      <td>95997.0</td>\n",
       "      <td>205123.0</td>\n",
       "      <td>2627.48</td>\n",
       "    </tr>\n",
       "    <tr>\n",
       "      <th>11289917</th>\n",
       "      <td>2.0</td>\n",
       "      <td>3.0</td>\n",
       "      <td>47.0</td>\n",
       "      <td>1458.0</td>\n",
       "      <td>8284.0</td>\n",
       "      <td>6037.0</td>\n",
       "      <td>97318.0</td>\n",
       "      <td>136104.0</td>\n",
       "      <td>2319.90</td>\n",
       "    </tr>\n",
       "    <tr>\n",
       "      <th>11637029</th>\n",
       "      <td>2.0</td>\n",
       "      <td>3.0</td>\n",
       "      <td>37.0</td>\n",
       "      <td>1766.0</td>\n",
       "      <td>25082.0</td>\n",
       "      <td>6037.0</td>\n",
       "      <td>96086.0</td>\n",
       "      <td>810694.0</td>\n",
       "      <td>9407.01</td>\n",
       "    </tr>\n",
       "    <tr>\n",
       "      <th>11705026</th>\n",
       "      <td>1.0</td>\n",
       "      <td>2.0</td>\n",
       "      <td>106.0</td>\n",
       "      <td>1421.0</td>\n",
       "      <td>6707.0</td>\n",
       "      <td>6037.0</td>\n",
       "      <td>96018.0</td>\n",
       "      <td>35606.0</td>\n",
       "      <td>543.69</td>\n",
       "    </tr>\n",
       "    <tr>\n",
       "      <th>14269464</th>\n",
       "      <td>3.0</td>\n",
       "      <td>4.0</td>\n",
       "      <td>14.0</td>\n",
       "      <td>2541.0</td>\n",
       "      <td>4975.0</td>\n",
       "      <td>6059.0</td>\n",
       "      <td>96958.0</td>\n",
       "      <td>880456.0</td>\n",
       "      <td>9819.72</td>\n",
       "    </tr>\n",
       "    <tr>\n",
       "      <th>...</th>\n",
       "      <td>...</td>\n",
       "      <td>...</td>\n",
       "      <td>...</td>\n",
       "      <td>...</td>\n",
       "      <td>...</td>\n",
       "      <td>...</td>\n",
       "      <td>...</td>\n",
       "      <td>...</td>\n",
       "      <td>...</td>\n",
       "    </tr>\n",
       "    <tr>\n",
       "      <th>14453399</th>\n",
       "      <td>3.0</td>\n",
       "      <td>5.0</td>\n",
       "      <td>15.0</td>\n",
       "      <td>3015.0</td>\n",
       "      <td>7207.0</td>\n",
       "      <td>6059.0</td>\n",
       "      <td>96983.0</td>\n",
       "      <td>852813.0</td>\n",
       "      <td>11662.88</td>\n",
       "    </tr>\n",
       "    <tr>\n",
       "      <th>12019061</th>\n",
       "      <td>2.0</td>\n",
       "      <td>1.0</td>\n",
       "      <td>53.0</td>\n",
       "      <td>769.0</td>\n",
       "      <td>62464.0</td>\n",
       "      <td>6037.0</td>\n",
       "      <td>96050.0</td>\n",
       "      <td>492395.0</td>\n",
       "      <td>6023.37</td>\n",
       "    </tr>\n",
       "    <tr>\n",
       "      <th>11570288</th>\n",
       "      <td>2.0</td>\n",
       "      <td>2.0</td>\n",
       "      <td>48.0</td>\n",
       "      <td>1212.0</td>\n",
       "      <td>45200.0</td>\n",
       "      <td>6037.0</td>\n",
       "      <td>96030.0</td>\n",
       "      <td>600608.0</td>\n",
       "      <td>7255.87</td>\n",
       "    </tr>\n",
       "    <tr>\n",
       "      <th>11128688</th>\n",
       "      <td>3.0</td>\n",
       "      <td>5.0</td>\n",
       "      <td>40.0</td>\n",
       "      <td>2992.0</td>\n",
       "      <td>40567.0</td>\n",
       "      <td>6037.0</td>\n",
       "      <td>96356.0</td>\n",
       "      <td>1120000.0</td>\n",
       "      <td>13663.03</td>\n",
       "    </tr>\n",
       "    <tr>\n",
       "      <th>10713993</th>\n",
       "      <td>3.0</td>\n",
       "      <td>3.0</td>\n",
       "      <td>66.0</td>\n",
       "      <td>1574.0</td>\n",
       "      <td>25762.0</td>\n",
       "      <td>6037.0</td>\n",
       "      <td>96346.0</td>\n",
       "      <td>563463.0</td>\n",
       "      <td>6903.66</td>\n",
       "    </tr>\n",
       "  </tbody>\n",
       "</table>\n",
       "<p>34363 rows × 9 columns</p>\n",
       "</div>"
      ],
      "text/plain": [
       "           bathrooms  bedrooms    age  square_feet  lot_size    fips  \\\n",
       "parcel_id                                                              \n",
       "11721753         2.0       3.0   94.0       1316.0    5672.0  6037.0   \n",
       "11289917         2.0       3.0   47.0       1458.0    8284.0  6037.0   \n",
       "11637029         2.0       3.0   37.0       1766.0   25082.0  6037.0   \n",
       "11705026         1.0       2.0  106.0       1421.0    6707.0  6037.0   \n",
       "14269464         3.0       4.0   14.0       2541.0    4975.0  6059.0   \n",
       "...              ...       ...    ...          ...       ...     ...   \n",
       "14453399         3.0       5.0   15.0       3015.0    7207.0  6059.0   \n",
       "12019061         2.0       1.0   53.0        769.0   62464.0  6037.0   \n",
       "11570288         2.0       2.0   48.0       1212.0   45200.0  6037.0   \n",
       "11128688         3.0       5.0   40.0       2992.0   40567.0  6037.0   \n",
       "10713993         3.0       3.0   66.0       1574.0   25762.0  6037.0   \n",
       "\n",
       "           zip_code  tax_value     taxes  \n",
       "parcel_id                                 \n",
       "11721753    95997.0   205123.0   2627.48  \n",
       "11289917    97318.0   136104.0   2319.90  \n",
       "11637029    96086.0   810694.0   9407.01  \n",
       "11705026    96018.0    35606.0    543.69  \n",
       "14269464    96958.0   880456.0   9819.72  \n",
       "...             ...        ...       ...  \n",
       "14453399    96983.0   852813.0  11662.88  \n",
       "12019061    96050.0   492395.0   6023.37  \n",
       "11570288    96030.0   600608.0   7255.87  \n",
       "11128688    96356.0  1120000.0  13663.03  \n",
       "10713993    96346.0   563463.0   6903.66  \n",
       "\n",
       "[34363 rows x 9 columns]"
      ]
     },
     "execution_count": 12,
     "metadata": {},
     "output_type": "execute_result"
    }
   ],
   "source": [
    "df.set_index('parcel_id')"
   ]
  },
  {
   "cell_type": "code",
   "execution_count": 13,
   "metadata": {},
   "outputs": [
    {
     "name": "stdout",
     "output_type": "stream",
     "text": [
      "<class 'pandas.core.frame.DataFrame'>\n",
      "RangeIndex: 34363 entries, 0 to 34362\n",
      "Data columns (total 10 columns):\n",
      " #   Column       Non-Null Count  Dtype  \n",
      "---  ------       --------------  -----  \n",
      " 0   bathrooms    34363 non-null  float64\n",
      " 1   bedrooms     34363 non-null  float64\n",
      " 2   age          34363 non-null  float64\n",
      " 3   square_feet  34363 non-null  float64\n",
      " 4   lot_size     34363 non-null  float64\n",
      " 5   parcel_id    34363 non-null  int64  \n",
      " 6   fips         34363 non-null  float64\n",
      " 7   zip_code     34363 non-null  float64\n",
      " 8   tax_value    34363 non-null  float64\n",
      " 9   taxes        34363 non-null  float64\n",
      "dtypes: float64(9), int64(1)\n",
      "memory usage: 2.6 MB\n"
     ]
    }
   ],
   "source": [
    "df.info()"
   ]
  },
  {
   "cell_type": "code",
   "execution_count": 14,
   "metadata": {},
   "outputs": [
    {
     "data": {
      "text/plain": [
       "age\n",
       "62.0     1016\n",
       "67.0      878\n",
       "53.0      825\n",
       "64.0      795\n",
       "63.0      783\n",
       "         ... \n",
       "125.0       1\n",
       "129.0       1\n",
       "132.0       1\n",
       "135.0       1\n",
       "1.0         1\n",
       "Length: 131, dtype: int64"
      ]
     },
     "execution_count": 14,
     "metadata": {},
     "output_type": "execute_result"
    }
   ],
   "source": [
    "df.value_counts('age')"
   ]
  },
  {
   "cell_type": "code",
   "execution_count": 15,
   "metadata": {},
   "outputs": [
    {
     "data": {
      "text/plain": [
       "square_feet\n",
       "1120.0    84\n",
       "1200.0    79\n",
       "1080.0    64\n",
       "864.0     61\n",
       "1040.0    59\n",
       "          ..\n",
       "4140.0     1\n",
       "4142.0     1\n",
       "4147.0     1\n",
       "4148.0     1\n",
       "242.0      1\n",
       "Length: 4144, dtype: int64"
      ]
     },
     "execution_count": 15,
     "metadata": {},
     "output_type": "execute_result"
    }
   ],
   "source": [
    "df.value_counts('square_feet')"
   ]
  },
  {
   "cell_type": "code",
   "execution_count": 16,
   "metadata": {},
   "outputs": [
    {
     "data": {
      "text/plain": [
       "bathrooms\n",
       "2.0     14390\n",
       "3.0      8442\n",
       "1.0      5749\n",
       "2.5      2203\n",
       "4.0      1327\n",
       "3.5       541\n",
       "5.0       470\n",
       "1.5       446\n",
       "4.5       381\n",
       "6.0       176\n",
       "5.5       111\n",
       "7.0        54\n",
       "8.0        30\n",
       "6.5        27\n",
       "7.5         9\n",
       "9.0         4\n",
       "11.0        2\n",
       "10.0        1\n",
       "dtype: int64"
      ]
     },
     "execution_count": 16,
     "metadata": {},
     "output_type": "execute_result"
    }
   ],
   "source": [
    "df.value_counts('bathrooms')"
   ]
  },
  {
   "cell_type": "code",
   "execution_count": 17,
   "metadata": {},
   "outputs": [
    {
     "data": {
      "text/plain": [
       "lot_size\n",
       "6000.0     475\n",
       "5000.0     231\n",
       "7200.0     183\n",
       "7000.0     159\n",
       "6500.0     149\n",
       "          ... \n",
       "14720.0      1\n",
       "14717.0      1\n",
       "14714.0      1\n",
       "14711.0      1\n",
       "236.0        1\n",
       "Length: 13544, dtype: int64"
      ]
     },
     "execution_count": 17,
     "metadata": {},
     "output_type": "execute_result"
    }
   ],
   "source": [
    "df.value_counts('lot_size')"
   ]
  },
  {
   "cell_type": "code",
   "execution_count": 30,
   "metadata": {},
   "outputs": [
    {
     "data": {
      "text/plain": [
       "taxes\n",
       "False    34363\n",
       "dtype: int64"
      ]
     },
     "execution_count": 30,
     "metadata": {},
     "output_type": "execute_result"
    }
   ],
   "source": [
    "# df.sort_values(by = 'square_feet', ascending = False)\n",
    "\n",
    "nulls=df.isnull()\n",
    "nulls\n",
    "\n",
    "nulls.value_counts(\"taxes\")"
   ]
  },
  {
   "cell_type": "code",
   "execution_count": 19,
   "metadata": {},
   "outputs": [
    {
     "name": "stdout",
     "output_type": "stream",
     "text": [
      "<class 'pandas.core.frame.DataFrame'>\n",
      "RangeIndex: 34363 entries, 0 to 34362\n",
      "Data columns (total 10 columns):\n",
      " #   Column       Non-Null Count  Dtype  \n",
      "---  ------       --------------  -----  \n",
      " 0   bathrooms    34363 non-null  float64\n",
      " 1   bedrooms     34363 non-null  float64\n",
      " 2   age          34363 non-null  float64\n",
      " 3   square_feet  34363 non-null  float64\n",
      " 4   lot_size     34363 non-null  float64\n",
      " 5   parcel_id    34363 non-null  int64  \n",
      " 6   fips         34363 non-null  float64\n",
      " 7   zip_code     34363 non-null  float64\n",
      " 8   tax_value    34363 non-null  float64\n",
      " 9   taxes        34363 non-null  float64\n",
      "dtypes: float64(9), int64(1)\n",
      "memory usage: 2.6 MB\n"
     ]
    }
   ],
   "source": [
    "df.info()"
   ]
  },
  {
   "cell_type": "code",
   "execution_count": 48,
   "metadata": {},
   "outputs": [
    {
     "data": {
      "image/png": "[encoded data removed]",
      "text/plain": [
       "<Figure size 576x144 with 2 Axes>"
      ]
     },
     "metadata": {
      "needs_background": "light"
     },
     "output_type": "display_data"
    },
    {
     "name": "stdout",
     "output_type": "stream",
     "text": [
      "count    35277.000000\n",
      "mean         2.323709\n",
      "std          0.979712\n",
      "min          0.000000\n",
      "25%          2.000000\n",
      "50%          2.000000\n",
      "75%          3.000000\n",
      "max         11.000000\n",
      "Name: bathrooms, dtype: float64\n"
     ]
    },
    {
     "data": {
      "image/png": "[encoded data removed]",
      "text/plain": [
       "<Figure size 576x144 with 2 Axes>"
      ]
     },
     "metadata": {
      "needs_background": "light"
     },
     "output_type": "display_data"
    },
    {
     "name": "stdout",
     "output_type": "stream",
     "text": [
      "count    35277.000000\n",
      "mean         3.111999\n",
      "std          1.013998\n",
      "min          0.000000\n",
      "25%          2.000000\n",
      "50%          3.000000\n",
      "75%          4.000000\n",
      "max         12.000000\n",
      "Name: bedrooms, dtype: float64\n"
     ]
    },
    {
     "data": {
      "image/png": "[encoded data removed]",
      "text/plain": [
       "<Figure size 576x144 with 2 Axes>"
      ]
     },
     "metadata": {
      "needs_background": "light"
     },
     "output_type": "display_data"
    },
    {
     "name": "stdout",
     "output_type": "stream",
     "text": [
      "count    35194.000000\n",
      "mean        49.123828\n",
      "std         23.137764\n",
      "min          1.000000\n",
      "25%         31.000000\n",
      "50%         50.000000\n",
      "75%         64.000000\n",
      "max        139.000000\n",
      "Name: age, dtype: float64\n"
     ]
    },
    {
     "data": {
      "image/png": "[encoded data removed]",
      "text/plain": [
       "<Figure size 576x144 with 2 Axes>"
      ]
     },
     "metadata": {
      "needs_background": "light"
     },
     "output_type": "display_data"
    },
    {
     "name": "stdout",
     "output_type": "stream",
     "text": [
      "count    35217.000000\n",
      "mean      1830.036233\n",
      "std        973.184108\n",
      "min        240.000000\n",
      "25%       1217.000000\n",
      "50%       1582.000000\n",
      "75%       2175.000000\n",
      "max      35640.000000\n",
      "Name: square_feet, dtype: float64\n"
     ]
    },
    {
     "data": {
      "image/png": "[encoded data removed]",
      "text/plain": [
       "<Figure size 576x144 with 2 Axes>"
      ]
     },
     "metadata": {
      "needs_background": "light"
     },
     "output_type": "display_data"
    },
    {
     "name": "stdout",
     "output_type": "stream",
     "text": [
      "count    3.461400e+04\n",
      "mean     3.022767e+04\n",
      "std      1.121878e+05\n",
      "min      2.360000e+02\n",
      "25%      5.842000e+03\n",
      "50%      7.332500e+03\n",
      "75%      1.232375e+04\n",
      "max      6.971010e+06\n",
      "Name: lot_size, dtype: float64\n"
     ]
    },
    {
     "data": {
      "image/png": "[encoded data removed]",
      "text/plain": [
       "<Figure size 576x144 with 2 Axes>"
      ]
     },
     "metadata": {
      "needs_background": "light"
     },
     "output_type": "display_data"
    },
    {
     "name": "stdout",
     "output_type": "stream",
     "text": [
      "count    3.527700e+04\n",
      "mean     1.281312e+07\n",
      "std      3.781330e+06\n",
      "min      1.071186e+07\n",
      "25%      1.143254e+07\n",
      "50%      1.239349e+07\n",
      "75%      1.398154e+07\n",
      "max      1.676878e+08\n",
      "Name: parcel_id, dtype: float64\n"
     ]
    },
    {
     "data": {
      "image/png": "[encoded data removed]",
      "text/plain": [
       "<Figure size 576x144 with 2 Axes>"
      ]
     },
     "metadata": {
      "needs_background": "light"
     },
     "output_type": "display_data"
    },
    {
     "name": "stdout",
     "output_type": "stream",
     "text": [
      "count     35255.000000\n",
      "mean      96579.834860\n",
      "std        4584.184545\n",
      "min       95982.000000\n",
      "25%       96192.000000\n",
      "50%       96377.000000\n",
      "75%       96978.000000\n",
      "max      399675.000000\n",
      "Name: zip_code, dtype: float64\n"
     ]
    },
    {
     "data": {
      "image/png": "[encoded data removed]",
      "text/plain": [
       "<Figure size 576x144 with 2 Axes>"
      ]
     },
     "metadata": {
      "needs_background": "light"
     },
     "output_type": "display_data"
    },
    {
     "name": "stdout",
     "output_type": "stream",
     "text": [
      "count    3.527600e+04\n",
      "mean     5.110853e+05\n",
      "std      6.523098e+05\n",
      "min      1.000000e+03\n",
      "25%      2.067780e+05\n",
      "50%      3.707255e+05\n",
      "75%      6.010000e+05\n",
      "max      2.385837e+07\n",
      "Name: tax_value, dtype: float64\n"
     ]
    },
    {
     "data": {
      "image/png": "[encoded data removed]",
      "text/plain": [
       "<Figure size 576x144 with 2 Axes>"
      ]
     },
     "metadata": {
      "needs_background": "light"
     },
     "output_type": "display_data"
    },
    {
     "name": "stdout",
     "output_type": "stream",
     "text": [
      "count     35276.000000\n",
      "mean       6242.947423\n",
      "std        7585.765700\n",
      "min          51.260000\n",
      "25%        2753.922500\n",
      "50%        4616.890000\n",
      "75%        7230.452500\n",
      "max      276797.830000\n",
      "Name: taxes, dtype: float64\n"
     ]
    }
   ],
   "source": [
    "# def plot_cat_by_target(train, target, cat_var):\n",
    "#     p = plt.figure(figsize=(8,8))\n",
    "#     p = sns.barplot(cat_var, target, data=train, alpha=.8, color='lightseagreen')\n",
    "#     overall_rate = train[target].mean()\n",
    "#     p = plt.axhline(overall_rate, ls='--', color='gray')\n",
    "#     return p \n",
    "\n",
    "# plot_cat_by_target(df, df.tax_value, df.bedrooms)\n",
    "cat_vars = []\n",
    "quant_vars = ['bathrooms', 'bedrooms', 'age', 'square_feet', 'lot_size', 'parcel_id', 'zip_code', 'tax_value', 'taxes']\n",
    "def explore_univariate_quant(train, quant_var):\n",
    "    '''\n",
    "    takes in a dataframe and a quantitative variable and returns\n",
    "    descriptive stats table, histogram, and boxplot of the distributions. \n",
    "    '''\n",
    "    descriptive_stats = train[quant_var].describe()\n",
    "    plt.figure(figsize=(8,2))\n",
    "\n",
    "    p = plt.subplot(1, 2, 1)\n",
    "    p = plt.hist(train[quant_var], color='lightseagreen')\n",
    "    p = plt.title(quant_var)\n",
    "\n",
    "    # second plot: box plot\n",
    "    p = plt.subplot(1, 2, 2)\n",
    "    p = plt.boxplot(train[quant_var])\n",
    "    p = plt.title(quant_var)\n",
    "    return p, descriptive_stats\n",
    "\n",
    "def explore_univariate(train, cat_vars, quant_vars):\n",
    "    for var in cat_vars:\n",
    "        explore_univariate_categorical(train, var)\n",
    "        print('_________________________________________________________________')\n",
    "    for col in quant_vars:\n",
    "        p, descriptive_stats = explore_univariate_quant(train, col)\n",
    "        plt.show(p)\n",
    "        print(descriptive_stats)\n",
    "        \n",
    "explore_univariate(df, cat_vars, quant_vars)"
   ]
  },
  {
   "cell_type": "code",
   "execution_count": 31,
   "metadata": {},
   "outputs": [],
   "source": [
    "# Takeaways:\n",
    "# #     \n",
    "# Change to int: bathrooms, bedrooms, zip_code\n",
    "    \n",
    "# Bathrooms - remove 13, with value of 0\n",
    "# Bedrooms - remove 68, with value of 0\n"
   ]
  },
  {
   "cell_type": "code",
   "execution_count": 32,
   "metadata": {},
   "outputs": [
    {
     "name": "stdout",
     "output_type": "stream",
     "text": [
      "<class 'pandas.core.frame.DataFrame'>\n",
      "RangeIndex: 34363 entries, 0 to 34362\n",
      "Data columns (total 10 columns):\n",
      " #   Column       Non-Null Count  Dtype  \n",
      "---  ------       --------------  -----  \n",
      " 0   bathrooms    34363 non-null  float64\n",
      " 1   bedrooms     34363 non-null  float64\n",
      " 2   age          34363 non-null  float64\n",
      " 3   square_feet  34363 non-null  float64\n",
      " 4   lot_size     34363 non-null  float64\n",
      " 5   parcel_id    34363 non-null  int64  \n",
      " 6   fips         34363 non-null  float64\n",
      " 7   zip_code     34363 non-null  float64\n",
      " 8   tax_value    34363 non-null  float64\n",
      " 9   taxes        34363 non-null  float64\n",
      "dtypes: float64(9), int64(1)\n",
      "memory usage: 2.6 MB\n"
     ]
    }
   ],
   "source": [
    "df.info()"
   ]
  },
  {
   "cell_type": "code",
   "execution_count": 37,
   "metadata": {},
   "outputs": [
    {
     "name": "stdout",
     "output_type": "stream",
     "text": [
      "<class 'pandas.core.frame.DataFrame'>\n",
      "RangeIndex: 34363 entries, 0 to 34362\n",
      "Data columns (total 10 columns):\n",
      " #   Column       Non-Null Count  Dtype  \n",
      "---  ------       --------------  -----  \n",
      " 0   bathrooms    34363 non-null  float64\n",
      " 1   bedrooms     34363 non-null  int64  \n",
      " 2   age          34363 non-null  int64  \n",
      " 3   square_feet  34363 non-null  int64  \n",
      " 4   lot_size     34363 non-null  int64  \n",
      " 5   parcel_id    34363 non-null  int64  \n",
      " 6   fips         34363 non-null  int64  \n",
      " 7   zip_code     34363 non-null  int64  \n",
      " 8   tax_value    34363 non-null  float64\n",
      " 9   taxes        34363 non-null  float64\n",
      "dtypes: float64(3), int64(7)\n",
      "memory usage: 2.6 MB\n"
     ]
    }
   ],
   "source": [
    "# Change datatypes\n",
    "df.bedrooms = df.bedrooms.astype('int64')\n",
    "df.age = df.age.astype('int64')\n",
    "df.square_feet = df.square_feet.astype('int64')\n",
    "df.lot_size = df.lot_size.astype('int64')\n",
    "df.fips = df.fips.astype('int64')\n",
    "df.zip_code = df.zip_code.astype('int64')\n",
    "\n",
    "df.info()"
   ]
  },
  {
   "cell_type": "code",
   "execution_count": null,
   "metadata": {},
   "outputs": [],
   "source": []
  },
  {
   "cell_type": "code",
   "execution_count": null,
   "metadata": {},
   "outputs": [],
   "source": []
  }
 ],
 "metadata": {
  "kernelspec": {
   "display_name": "Python 3",
   "language": "python",
   "name": "python3"
  },
  "language_info": {
   "codemirror_mode": {
    "name": "ipython",
    "version": 3
   },
   "file_extension": ".py",
   "mimetype": "text/x-python",
   "name": "python",
   "nbconvert_exporter": "python",
   "pygments_lexer": "ipython3",
   "version": "3.8.5"
  }
 },
 "nbformat": 4,
 "nbformat_minor": 4
}
