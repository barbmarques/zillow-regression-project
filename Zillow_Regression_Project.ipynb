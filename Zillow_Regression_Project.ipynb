{
 "cells": [
  {
   "cell_type": "markdown",
   "metadata": {},
   "source": [
    "## Regression Project: Predicting Home Values "
   ]
  },
  {
   "cell_type": "markdown",
   "metadata": {},
   "source": [
    "The Zillow Data Science Team wants to be able to predict the values of single unit properties that the tax district assesses based on their data based on property transactions during May through August 2017. Properties are all located in Los Angeles County, Orange County or Ventura County, California\n",
    "\n",
    "Data Source: Zillow database on Codeup's data server.\n",
    "\n",
    "All files referenced in this presentation are available in the github repository for this project:   https://github.com/barbmarques/zillow-regression-project.\n",
    "\n",
    "\n",
    "#### Project Goals:\n",
    "- Predict the tax value of single unit properties in the Ventura County, Los Angeles County and Orange County, California. \n",
    "- Determine the distribution of tax rates for each county. \n",
    "\n",
    "#### Initial Questions: \n",
    "- Does the lot size affect the value of the house?\n",
    "- Does the county a home is located in affect the value of the home?\n",
    "- Does the age of a home affect the value of the home?\n",
    "    "
   ]
  },
  {
   "cell_type": "markdown",
   "metadata": {},
   "source": [
    "### Quick Links to Sections within this Notebook\n",
    "\n",
    "- [Acquire Data](#AD)\n",
    "- [Prepare Data](#PD)\n",
    "- [Split Data](#SD)\n",
    "- [Scale Data](#Scale)\n",
    "- [Explore Data](#Explore)\n",
    "- [Hypothesis Testing](#HypoCorr)\n",
    "- [Create a Baseline Model](#Baseline)\n",
    "- [Model Data (train & validate)](#Model)\n",
    "- [Feature Engineering](#Feature)\n",
    "- [Model on Test Data](#Test)\n",
    "- [Model Visualizations](#Visual)\n",
    "- [Tax Distribution by County](#Rates)\n",
    "- [Recommendations & Key Takeaways](#Recommends)"
   ]
  },
  {
   "cell_type": "code",
   "execution_count": 1,
   "metadata": {},
   "outputs": [],
   "source": [
    "#basic imports\n",
    "import pandas as pd\n",
    "import numpy as np\n",
    "import matplotlib.pyplot as plt\n",
    "import seaborn as sns\n",
    "from math import sqrt\n",
    "from scipy import stats\n",
    "\n",
    "\n",
    "import sklearn.preprocessing\n",
    "from sklearn.preprocessing import StandardScaler, LabelEncoder, QuantileTransformer\n",
    "from statsmodels.formula.api import ols\n",
    "from statsmodels.sandbox.regression.predstd import wls_prediction_std\n",
    "from sklearn.metrics import mean_squared_error,r2_score,explained_variance_score\n",
    "from sklearn.feature_selection import SelectKBest, f_regression, RFE\n",
    "from sklearn.linear_model import LinearRegression, LassoLars, TweedieRegressor\n",
    "from sklearn.preprocessing import PolynomialFeatures\n",
    "\n",
    "# Import created modules\n",
    "import env\n",
    "import wrangle_zillow\n",
    "import explore\n",
    "\n",
    "# Clear pink warning boxes\n",
    "import warnings\n",
    "warnings.filterwarnings(\"ignore\")\n",
    "\n",
    "# Handle large numbers w/o using scientific notation\n",
    "pd.options.display.float_format = '{:.3f}'.format"
   ]
  },
  {
   "cell_type": "markdown",
   "metadata": {},
   "source": [
    "<a id='AD'></a>\n",
    "### ```Acquire Data```"
   ]
  },
  {
   "cell_type": "code",
   "execution_count": 2,
   "metadata": {},
   "outputs": [
    {
     "data": {
      "text/html": [
       "<div>\n",
       "<style scoped>\n",
       "    .dataframe tbody tr th:only-of-type {\n",
       "        vertical-align: middle;\n",
       "    }\n",
       "\n",
       "    .dataframe tbody tr th {\n",
       "        vertical-align: top;\n",
       "    }\n",
       "\n",
       "    .dataframe thead th {\n",
       "        text-align: right;\n",
       "    }\n",
       "</style>\n",
       "<table border=\"1\" class=\"dataframe\">\n",
       "  <thead>\n",
       "    <tr style=\"text-align: right;\">\n",
       "      <th></th>\n",
       "      <th>bathroomcnt</th>\n",
       "      <th>bedroomcnt</th>\n",
       "      <th>yearbuilt</th>\n",
       "      <th>calculatedfinishedsquarefeet</th>\n",
       "      <th>lotsizesquarefeet</th>\n",
       "      <th>parcelid</th>\n",
       "      <th>fips</th>\n",
       "      <th>regionidzip</th>\n",
       "      <th>taxvaluedollarcnt</th>\n",
       "      <th>taxamount</th>\n",
       "    </tr>\n",
       "  </thead>\n",
       "  <tbody>\n",
       "    <tr>\n",
       "      <th>0</th>\n",
       "      <td>2.000</td>\n",
       "      <td>3.000</td>\n",
       "      <td>1923.000</td>\n",
       "      <td>1316.000</td>\n",
       "      <td>5672.000</td>\n",
       "      <td>11721753</td>\n",
       "      <td>6037.000</td>\n",
       "      <td>95997.000</td>\n",
       "      <td>205123.000</td>\n",
       "      <td>2627.480</td>\n",
       "    </tr>\n",
       "    <tr>\n",
       "      <th>1</th>\n",
       "      <td>2.000</td>\n",
       "      <td>3.000</td>\n",
       "      <td>1970.000</td>\n",
       "      <td>1458.000</td>\n",
       "      <td>8284.000</td>\n",
       "      <td>11289917</td>\n",
       "      <td>6037.000</td>\n",
       "      <td>97318.000</td>\n",
       "      <td>136104.000</td>\n",
       "      <td>2319.900</td>\n",
       "    </tr>\n",
       "    <tr>\n",
       "      <th>2</th>\n",
       "      <td>2.000</td>\n",
       "      <td>3.000</td>\n",
       "      <td>1980.000</td>\n",
       "      <td>1766.000</td>\n",
       "      <td>25082.000</td>\n",
       "      <td>11637029</td>\n",
       "      <td>6037.000</td>\n",
       "      <td>96086.000</td>\n",
       "      <td>810694.000</td>\n",
       "      <td>9407.010</td>\n",
       "    </tr>\n",
       "    <tr>\n",
       "      <th>3</th>\n",
       "      <td>3.000</td>\n",
       "      <td>4.000</td>\n",
       "      <td>2003.000</td>\n",
       "      <td>2541.000</td>\n",
       "      <td>4975.000</td>\n",
       "      <td>14269464</td>\n",
       "      <td>6059.000</td>\n",
       "      <td>96958.000</td>\n",
       "      <td>880456.000</td>\n",
       "      <td>9819.720</td>\n",
       "    </tr>\n",
       "    <tr>\n",
       "      <th>4</th>\n",
       "      <td>2.000</td>\n",
       "      <td>3.000</td>\n",
       "      <td>1955.000</td>\n",
       "      <td>1491.000</td>\n",
       "      <td>5000.000</td>\n",
       "      <td>11446756</td>\n",
       "      <td>6037.000</td>\n",
       "      <td>96162.000</td>\n",
       "      <td>107110.000</td>\n",
       "      <td>1399.270</td>\n",
       "    </tr>\n",
       "  </tbody>\n",
       "</table>\n",
       "</div>"
      ],
      "text/plain": [
       "   bathroomcnt  bedroomcnt  yearbuilt  calculatedfinishedsquarefeet  \\\n",
       "0        2.000       3.000   1923.000                      1316.000   \n",
       "1        2.000       3.000   1970.000                      1458.000   \n",
       "2        2.000       3.000   1980.000                      1766.000   \n",
       "3        3.000       4.000   2003.000                      2541.000   \n",
       "4        2.000       3.000   1955.000                      1491.000   \n",
       "\n",
       "   lotsizesquarefeet  parcelid     fips  regionidzip  taxvaluedollarcnt  \\\n",
       "0           5672.000  11721753 6037.000    95997.000         205123.000   \n",
       "1           8284.000  11289917 6037.000    97318.000         136104.000   \n",
       "2          25082.000  11637029 6037.000    96086.000         810694.000   \n",
       "3           4975.000  14269464 6059.000    96958.000         880456.000   \n",
       "4           5000.000  11446756 6037.000    96162.000         107110.000   \n",
       "\n",
       "   taxamount  \n",
       "0   2627.480  \n",
       "1   2319.900  \n",
       "2   9407.010  \n",
       "3   9819.720  \n",
       "4   1399.270  "
      ]
     },
     "execution_count": 2,
     "metadata": {},
     "output_type": "execute_result"
    }
   ],
   "source": [
    "df = wrangle_zillow.acquire('zillow')\n",
    "df.head()"
   ]
  },
  {
   "cell_type": "code",
   "execution_count": 3,
   "metadata": {},
   "outputs": [
    {
     "name": "stdout",
     "output_type": "stream",
     "text": [
      "My original dataframe is coming in with 30259 rows and 10 columns.\n"
     ]
    }
   ],
   "source": [
    "print(f'My original dataframe is coming in with {df.shape[0]} rows and {df.shape[ 1]} columns.')"
   ]
  },
  {
   "cell_type": "markdown",
   "metadata": {},
   "source": [
    "#### ```Takeaways: ```\n",
    "    \n",
    "- Pulled in data for the months of 5/1/2017 - 8/31/2017.\n",
    "\n",
    "- Only properties with a unit count of 1, which includes Single Family Residence, Rural Residence, Mobile Home, Town House, Bungalow, Zero Lot Line, Patio Home and Inferred Single Family Residential \n",
    "- Initial exploration revealed outliers, so the acquire query was adjusted as follows:\n",
    "- Only square footages from 700 - 5500\n",
    "- Assessed with tax values between 90,000 and 3,100,000\n",
    "- 1-8 bedrooms and 1-7 baths\n",
    "\n",
    "Initial review of the data within Sequel revealed: \n",
    "    \n",
    "- bathroomcnt, bedroomcnt, fips, parcelid have no nulls\n",
    "- 10,550 of buildingqualitytypeid are null, so I will remove this feature.  \n",
    "- Replace it with yearbuilt - which has 83 nulls\n",
    "- calculatedfinishedsquarefeet had 60 nulls\n",
    "- lotsizesquarefeet has 663 nulls\n",
    "- regionidzip has 22 nulls\n",
    "    \n",
    "    "
   ]
  },
  {
   "cell_type": "markdown",
   "metadata": {},
   "source": [
    "<a id='PD'></a>\n",
    "### ```Prepare Data```"
   ]
  },
  {
   "cell_type": "code",
   "execution_count": 4,
   "metadata": {},
   "outputs": [
    {
     "data": {
      "text/html": [
       "<div>\n",
       "<style scoped>\n",
       "    .dataframe tbody tr th:only-of-type {\n",
       "        vertical-align: middle;\n",
       "    }\n",
       "\n",
       "    .dataframe tbody tr th {\n",
       "        vertical-align: top;\n",
       "    }\n",
       "\n",
       "    .dataframe thead th {\n",
       "        text-align: right;\n",
       "    }\n",
       "</style>\n",
       "<table border=\"1\" class=\"dataframe\">\n",
       "  <thead>\n",
       "    <tr style=\"text-align: right;\">\n",
       "      <th></th>\n",
       "      <th>bathrooms</th>\n",
       "      <th>bedrooms</th>\n",
       "      <th>age</th>\n",
       "      <th>square_feet</th>\n",
       "      <th>lot_size</th>\n",
       "      <th>fips</th>\n",
       "      <th>zip_code</th>\n",
       "      <th>tax_value</th>\n",
       "      <th>taxes</th>\n",
       "    </tr>\n",
       "    <tr>\n",
       "      <th>parcel_id</th>\n",
       "      <th></th>\n",
       "      <th></th>\n",
       "      <th></th>\n",
       "      <th></th>\n",
       "      <th></th>\n",
       "      <th></th>\n",
       "      <th></th>\n",
       "      <th></th>\n",
       "      <th></th>\n",
       "    </tr>\n",
       "  </thead>\n",
       "  <tbody>\n",
       "    <tr>\n",
       "      <th>11721753</th>\n",
       "      <td>2</td>\n",
       "      <td>3</td>\n",
       "      <td>94</td>\n",
       "      <td>1316</td>\n",
       "      <td>5672.000</td>\n",
       "      <td>6037</td>\n",
       "      <td>95997</td>\n",
       "      <td>205123.000</td>\n",
       "      <td>2627.480</td>\n",
       "    </tr>\n",
       "    <tr>\n",
       "      <th>11289917</th>\n",
       "      <td>2</td>\n",
       "      <td>3</td>\n",
       "      <td>47</td>\n",
       "      <td>1458</td>\n",
       "      <td>8284.000</td>\n",
       "      <td>6037</td>\n",
       "      <td>97318</td>\n",
       "      <td>136104.000</td>\n",
       "      <td>2319.900</td>\n",
       "    </tr>\n",
       "    <tr>\n",
       "      <th>11637029</th>\n",
       "      <td>2</td>\n",
       "      <td>3</td>\n",
       "      <td>37</td>\n",
       "      <td>1766</td>\n",
       "      <td>25082.000</td>\n",
       "      <td>6037</td>\n",
       "      <td>96086</td>\n",
       "      <td>810694.000</td>\n",
       "      <td>9407.010</td>\n",
       "    </tr>\n",
       "    <tr>\n",
       "      <th>14269464</th>\n",
       "      <td>3</td>\n",
       "      <td>4</td>\n",
       "      <td>14</td>\n",
       "      <td>2541</td>\n",
       "      <td>4975.000</td>\n",
       "      <td>6059</td>\n",
       "      <td>96958</td>\n",
       "      <td>880456.000</td>\n",
       "      <td>9819.720</td>\n",
       "    </tr>\n",
       "    <tr>\n",
       "      <th>11446756</th>\n",
       "      <td>2</td>\n",
       "      <td>3</td>\n",
       "      <td>62</td>\n",
       "      <td>1491</td>\n",
       "      <td>5000.000</td>\n",
       "      <td>6037</td>\n",
       "      <td>96162</td>\n",
       "      <td>107110.000</td>\n",
       "      <td>1399.270</td>\n",
       "    </tr>\n",
       "  </tbody>\n",
       "</table>\n",
       "</div>"
      ],
      "text/plain": [
       "           bathrooms  bedrooms  age  square_feet  lot_size  fips  zip_code  \\\n",
       "parcel_id                                                                    \n",
       "11721753           2         3   94         1316  5672.000  6037     95997   \n",
       "11289917           2         3   47         1458  8284.000  6037     97318   \n",
       "11637029           2         3   37         1766 25082.000  6037     96086   \n",
       "14269464           3         4   14         2541  4975.000  6059     96958   \n",
       "11446756           2         3   62         1491  5000.000  6037     96162   \n",
       "\n",
       "           tax_value    taxes  \n",
       "parcel_id                      \n",
       "11721753  205123.000 2627.480  \n",
       "11289917  136104.000 2319.900  \n",
       "11637029  810694.000 9407.010  \n",
       "14269464  880456.000 9819.720  \n",
       "11446756  107110.000 1399.270  "
      ]
     },
     "execution_count": 4,
     "metadata": {},
     "output_type": "execute_result"
    }
   ],
   "source": [
    "df = wrangle_zillow.prep_zillow(df)\n",
    "df.head()"
   ]
  },
  {
   "cell_type": "markdown",
   "metadata": {},
   "source": [
    "#### ```Takeaways:```\n",
    "When ```prep_zillow``` is called:\n",
    "\n",
    "- The index is reset to parcel_id as it is a unique identifier for each observation.\n",
    "    \n",
    "- Features/columns are renamed\n",
    "    \n",
    "- The yearbuilt feature is recalculated to age in years since construction.\n",
    "    \n",
    "- Data types are changed to int or float, as appropriate\n"
   ]
  },
  {
   "cell_type": "code",
   "execution_count": 5,
   "metadata": {},
   "outputs": [
    {
     "name": "stdout",
     "output_type": "stream",
     "text": [
      "<class 'pandas.core.frame.DataFrame'>\n",
      "Int64Index: 30259 entries, 11721753 to 10713993\n",
      "Data columns (total 9 columns):\n",
      " #   Column       Non-Null Count  Dtype  \n",
      "---  ------       --------------  -----  \n",
      " 0   bathrooms    30259 non-null  int64  \n",
      " 1   bedrooms     30259 non-null  int64  \n",
      " 2   age          30259 non-null  int64  \n",
      " 3   square_feet  30259 non-null  int64  \n",
      " 4   lot_size     30259 non-null  float64\n",
      " 5   fips         30259 non-null  int64  \n",
      " 6   zip_code     30259 non-null  int64  \n",
      " 7   tax_value    30259 non-null  float64\n",
      " 8   taxes        30259 non-null  float64\n",
      "dtypes: float64(3), int64(6)\n",
      "memory usage: 2.3 MB\n"
     ]
    }
   ],
   "source": [
    "df.info()"
   ]
  },
  {
   "cell_type": "code",
   "execution_count": 6,
   "metadata": {},
   "outputs": [
    {
     "data": {
      "text/plain": [
       "(30259, 9)"
      ]
     },
     "execution_count": 6,
     "metadata": {},
     "output_type": "execute_result"
    }
   ],
   "source": [
    "df.shape"
   ]
  },
  {
   "cell_type": "code",
   "execution_count": 7,
   "metadata": {},
   "outputs": [
    {
     "data": {
      "text/plain": [
       "Index(['bathrooms', 'bedrooms', 'age', 'square_feet', 'lot_size', 'fips',\n",
       "       'zip_code', 'tax_value', 'taxes'],\n",
       "      dtype='object')"
      ]
     },
     "execution_count": 7,
     "metadata": {},
     "output_type": "execute_result"
    }
   ],
   "source": [
    "df.columns"
   ]
  },
  {
   "cell_type": "code",
   "execution_count": 8,
   "metadata": {},
   "outputs": [],
   "source": [
    "#I see an error in zipcodes -- the max value is six digits\n",
    "zip_check = pd.DataFrame(df.zip_code > 99999)\n",
    "zip_check.value_counts(\"zip_code\")\n",
    "\n",
    "zip_wrong = pd.DataFrame(df.zip_code == True)\n",
    "#zip_wrong                         "
   ]
  },
  {
   "cell_type": "code",
   "execution_count": 9,
   "metadata": {},
   "outputs": [
    {
     "data": {
      "text/plain": [
       "bathrooms      0\n",
       "bedrooms       0\n",
       "age            0\n",
       "square_feet    0\n",
       "lot_size       0\n",
       "fips           0\n",
       "zip_code       0\n",
       "tax_value      0\n",
       "taxes          0\n",
       "dtype: int64"
      ]
     },
     "execution_count": 9,
     "metadata": {},
     "output_type": "execute_result"
    }
   ],
   "source": [
    "# checking for missing values\n",
    "df.isna().sum() "
   ]
  },
  {
   "cell_type": "markdown",
   "metadata": {},
   "source": [
    "#### Several lines of code checking value counts have been commented out below to 'clean up' the notebook.  Removing the # at the beginning of the line of code will allow the code to run. "
   ]
  },
  {
   "cell_type": "code",
   "execution_count": 10,
   "metadata": {},
   "outputs": [],
   "source": [
    "# checking value counts\n",
    "# df.bathrooms.value_counts(dropna=False)"
   ]
  },
  {
   "cell_type": "code",
   "execution_count": 11,
   "metadata": {},
   "outputs": [],
   "source": [
    "#df.bedrooms.value_counts(dropna=False)"
   ]
  },
  {
   "cell_type": "code",
   "execution_count": 12,
   "metadata": {},
   "outputs": [],
   "source": [
    "#df.age.value_counts(dropna=False)"
   ]
  },
  {
   "cell_type": "code",
   "execution_count": 13,
   "metadata": {},
   "outputs": [],
   "source": [
    "#df.square_feet.value_counts(dropna=False)"
   ]
  },
  {
   "cell_type": "code",
   "execution_count": 14,
   "metadata": {},
   "outputs": [],
   "source": [
    "#df.lot_size.value_counts(dropna=False)"
   ]
  },
  {
   "cell_type": "code",
   "execution_count": 15,
   "metadata": {},
   "outputs": [],
   "source": [
    "#df.fips.value_counts(dropna=False)"
   ]
  },
  {
   "cell_type": "code",
   "execution_count": 16,
   "metadata": {},
   "outputs": [
    {
     "data": {
      "text/plain": [
       "97319    404\n",
       "97329    293\n",
       "97118    281\n",
       "97318    276\n",
       "96987    264\n",
       "        ... \n",
       "95995      2\n",
       "96226      2\n",
       "95994      1\n",
       "96039      1\n",
       "96467      1\n",
       "Name: zip_code, Length: 382, dtype: int64"
      ]
     },
     "execution_count": 16,
     "metadata": {},
     "output_type": "execute_result"
    }
   ],
   "source": [
    "df.zip_code.value_counts(dropna=False)"
   ]
  },
  {
   "cell_type": "code",
   "execution_count": 17,
   "metadata": {},
   "outputs": [],
   "source": [
    "#df.tax_value.value_counts(dropna=False)\n",
    "#df.value_counts(\"zip_code\")"
   ]
  },
  {
   "cell_type": "code",
   "execution_count": 18,
   "metadata": {},
   "outputs": [],
   "source": [
    "#df.taxes.value_counts(dropna=False)"
   ]
  },
  {
   "cell_type": "code",
   "execution_count": 19,
   "metadata": {},
   "outputs": [
    {
     "data": {
      "text/html": [
       "<div>\n",
       "<style scoped>\n",
       "    .dataframe tbody tr th:only-of-type {\n",
       "        vertical-align: middle;\n",
       "    }\n",
       "\n",
       "    .dataframe tbody tr th {\n",
       "        vertical-align: top;\n",
       "    }\n",
       "\n",
       "    .dataframe thead th {\n",
       "        text-align: right;\n",
       "    }\n",
       "</style>\n",
       "<table border=\"1\" class=\"dataframe\">\n",
       "  <thead>\n",
       "    <tr style=\"text-align: right;\">\n",
       "      <th></th>\n",
       "      <th>bathrooms</th>\n",
       "      <th>bedrooms</th>\n",
       "      <th>age</th>\n",
       "      <th>square_feet</th>\n",
       "      <th>lot_size</th>\n",
       "      <th>fips</th>\n",
       "      <th>zip_code</th>\n",
       "      <th>tax_value</th>\n",
       "      <th>taxes</th>\n",
       "    </tr>\n",
       "  </thead>\n",
       "  <tbody>\n",
       "    <tr>\n",
       "      <th>count</th>\n",
       "      <td>30259.000</td>\n",
       "      <td>30259.000</td>\n",
       "      <td>30259.000</td>\n",
       "      <td>30259.000</td>\n",
       "      <td>30259.000</td>\n",
       "      <td>30259.000</td>\n",
       "      <td>30259.000</td>\n",
       "      <td>30259.000</td>\n",
       "      <td>30259.000</td>\n",
       "    </tr>\n",
       "    <tr>\n",
       "      <th>mean</th>\n",
       "      <td>2.309</td>\n",
       "      <td>3.167</td>\n",
       "      <td>48.126</td>\n",
       "      <td>1843.995</td>\n",
       "      <td>30609.348</td>\n",
       "      <td>6047.488</td>\n",
       "      <td>96524.673</td>\n",
       "      <td>506419.954</td>\n",
       "      <td>6183.252</td>\n",
       "    </tr>\n",
       "    <tr>\n",
       "      <th>std</th>\n",
       "      <td>0.865</td>\n",
       "      <td>0.947</td>\n",
       "      <td>22.481</td>\n",
       "      <td>811.673</td>\n",
       "      <td>114494.717</td>\n",
       "      <td>20.048</td>\n",
       "      <td>404.214</td>\n",
       "      <td>399716.440</td>\n",
       "      <td>4651.652</td>\n",
       "    </tr>\n",
       "    <tr>\n",
       "      <th>min</th>\n",
       "      <td>1.000</td>\n",
       "      <td>1.000</td>\n",
       "      <td>1.000</td>\n",
       "      <td>700.000</td>\n",
       "      <td>236.000</td>\n",
       "      <td>6037.000</td>\n",
       "      <td>95982.000</td>\n",
       "      <td>90035.000</td>\n",
       "      <td>62.440</td>\n",
       "    </tr>\n",
       "    <tr>\n",
       "      <th>25%</th>\n",
       "      <td>2.000</td>\n",
       "      <td>3.000</td>\n",
       "      <td>31.000</td>\n",
       "      <td>1254.000</td>\n",
       "      <td>5854.500</td>\n",
       "      <td>6037.000</td>\n",
       "      <td>96204.000</td>\n",
       "      <td>248916.000</td>\n",
       "      <td>3256.365</td>\n",
       "    </tr>\n",
       "    <tr>\n",
       "      <th>50%</th>\n",
       "      <td>2.000</td>\n",
       "      <td>3.000</td>\n",
       "      <td>48.000</td>\n",
       "      <td>1638.000</td>\n",
       "      <td>7380.000</td>\n",
       "      <td>6037.000</td>\n",
       "      <td>96383.000</td>\n",
       "      <td>400941.000</td>\n",
       "      <td>4944.940</td>\n",
       "    </tr>\n",
       "    <tr>\n",
       "      <th>75%</th>\n",
       "      <td>3.000</td>\n",
       "      <td>4.000</td>\n",
       "      <td>63.000</td>\n",
       "      <td>2240.000</td>\n",
       "      <td>12455.500</td>\n",
       "      <td>6059.000</td>\n",
       "      <td>96982.000</td>\n",
       "      <td>624139.000</td>\n",
       "      <td>7460.365</td>\n",
       "    </tr>\n",
       "    <tr>\n",
       "      <th>max</th>\n",
       "      <td>6.000</td>\n",
       "      <td>7.000</td>\n",
       "      <td>139.000</td>\n",
       "      <td>5496.000</td>\n",
       "      <td>6971010.000</td>\n",
       "      <td>6111.000</td>\n",
       "      <td>97344.000</td>\n",
       "      <td>3100000.000</td>\n",
       "      <td>61992.630</td>\n",
       "    </tr>\n",
       "  </tbody>\n",
       "</table>\n",
       "</div>"
      ],
      "text/plain": [
       "       bathrooms  bedrooms       age  square_feet    lot_size      fips  \\\n",
       "count  30259.000 30259.000 30259.000    30259.000   30259.000 30259.000   \n",
       "mean       2.309     3.167    48.126     1843.995   30609.348  6047.488   \n",
       "std        0.865     0.947    22.481      811.673  114494.717    20.048   \n",
       "min        1.000     1.000     1.000      700.000     236.000  6037.000   \n",
       "25%        2.000     3.000    31.000     1254.000    5854.500  6037.000   \n",
       "50%        2.000     3.000    48.000     1638.000    7380.000  6037.000   \n",
       "75%        3.000     4.000    63.000     2240.000   12455.500  6059.000   \n",
       "max        6.000     7.000   139.000     5496.000 6971010.000  6111.000   \n",
       "\n",
       "       zip_code   tax_value     taxes  \n",
       "count 30259.000   30259.000 30259.000  \n",
       "mean  96524.673  506419.954  6183.252  \n",
       "std     404.214  399716.440  4651.652  \n",
       "min   95982.000   90035.000    62.440  \n",
       "25%   96204.000  248916.000  3256.365  \n",
       "50%   96383.000  400941.000  4944.940  \n",
       "75%   96982.000  624139.000  7460.365  \n",
       "max   97344.000 3100000.000 61992.630  "
      ]
     },
     "execution_count": 19,
     "metadata": {},
     "output_type": "execute_result"
    }
   ],
   "source": [
    "#checking statistics on our data set.\n",
    "df.describe()"
   ]
  },
  {
   "cell_type": "markdown",
   "metadata": {},
   "source": [
    "### ```Takeaways on Cleaned Data Set:```\n",
    "\n",
    "- The resulting data frame has 30,259 observations and 9 features.\n",
    "- Some additional observations with incorrect zip codes were removed.\n",
    "- New data frame has no null, missing or invalid values.\n",
    "- Minimum Tax value is $90,035.00, maximum is $3,100,000.\n",
    "- Three counties included in data: Ventura County, Los Angeles County, Orange County\n",
    "- The observations include 382 unique zip codes\n",
    "- Square footage ranges from 700 to 5,496\n",
    "- Newest home is within one year of construction, age of the oldest home is 139 years.\n"
   ]
  },
  {
   "cell_type": "markdown",
   "metadata": {},
   "source": [
    "<a id='SD'></a>\n",
    "## ```Split Data```"
   ]
  },
  {
   "cell_type": "code",
   "execution_count": 20,
   "metadata": {},
   "outputs": [
    {
     "name": "stdout",
     "output_type": "stream",
     "text": [
      "My original dataframe is coming in with 30259 rows and 9 columns.\n"
     ]
    }
   ],
   "source": [
    " print(f'My original dataframe is coming in with {df.shape[0]} rows and {df.shape[ 1]} columns.')"
   ]
  },
  {
   "cell_type": "code",
   "execution_count": 21,
   "metadata": {},
   "outputs": [],
   "source": [
    "# Data is split into X_ and y_ train, test and validate data sets\n",
    "\n",
    "X_train, X_validate, X_test, y_train, y_validate, y_test = wrangle_zillow.train_validate_test_split(df, 'tax_value')"
   ]
  },
  {
   "cell_type": "code",
   "execution_count": 22,
   "metadata": {},
   "outputs": [
    {
     "data": {
      "text/plain": [
       "((16944, 8), (7263, 8), (6052, 8))"
      ]
     },
     "execution_count": 22,
     "metadata": {},
     "output_type": "execute_result"
    }
   ],
   "source": [
    "X_train.shape, X_validate.shape, X_test.shape"
   ]
  },
  {
   "cell_type": "code",
   "execution_count": 23,
   "metadata": {},
   "outputs": [
    {
     "data": {
      "text/plain": [
       "((16944,), (7263,), (6052,))"
      ]
     },
     "execution_count": 23,
     "metadata": {},
     "output_type": "execute_result"
    }
   ],
   "source": [
    "y_train.shape, y_validate.shape, y_test.shape"
   ]
  },
  {
   "cell_type": "code",
   "execution_count": 24,
   "metadata": {},
   "outputs": [
    {
     "data": {
      "text/html": [
       "<div>\n",
       "<style scoped>\n",
       "    .dataframe tbody tr th:only-of-type {\n",
       "        vertical-align: middle;\n",
       "    }\n",
       "\n",
       "    .dataframe tbody tr th {\n",
       "        vertical-align: top;\n",
       "    }\n",
       "\n",
       "    .dataframe thead th {\n",
       "        text-align: right;\n",
       "    }\n",
       "</style>\n",
       "<table border=\"1\" class=\"dataframe\">\n",
       "  <thead>\n",
       "    <tr style=\"text-align: right;\">\n",
       "      <th></th>\n",
       "      <th>bathrooms</th>\n",
       "      <th>bedrooms</th>\n",
       "      <th>age</th>\n",
       "      <th>square_feet</th>\n",
       "      <th>lot_size</th>\n",
       "      <th>fips</th>\n",
       "      <th>zip_code</th>\n",
       "      <th>taxes</th>\n",
       "    </tr>\n",
       "    <tr>\n",
       "      <th>parcel_id</th>\n",
       "      <th></th>\n",
       "      <th></th>\n",
       "      <th></th>\n",
       "      <th></th>\n",
       "      <th></th>\n",
       "      <th></th>\n",
       "      <th></th>\n",
       "      <th></th>\n",
       "    </tr>\n",
       "  </thead>\n",
       "  <tbody>\n",
       "    <tr>\n",
       "      <th>11640078</th>\n",
       "      <td>6</td>\n",
       "      <td>4</td>\n",
       "      <td>65</td>\n",
       "      <td>3614</td>\n",
       "      <td>25587.000</td>\n",
       "      <td>6037</td>\n",
       "      <td>96086</td>\n",
       "      <td>5662.800</td>\n",
       "    </tr>\n",
       "    <tr>\n",
       "      <th>10728405</th>\n",
       "      <td>2</td>\n",
       "      <td>3</td>\n",
       "      <td>57</td>\n",
       "      <td>1466</td>\n",
       "      <td>8149.000</td>\n",
       "      <td>6037</td>\n",
       "      <td>96342</td>\n",
       "      <td>7435.650</td>\n",
       "    </tr>\n",
       "    <tr>\n",
       "      <th>17239776</th>\n",
       "      <td>2</td>\n",
       "      <td>3</td>\n",
       "      <td>53</td>\n",
       "      <td>1623</td>\n",
       "      <td>8300.000</td>\n",
       "      <td>6111</td>\n",
       "      <td>97116</td>\n",
       "      <td>6278.580</td>\n",
       "    </tr>\n",
       "    <tr>\n",
       "      <th>11473641</th>\n",
       "      <td>2</td>\n",
       "      <td>3</td>\n",
       "      <td>74</td>\n",
       "      <td>1624</td>\n",
       "      <td>6544.000</td>\n",
       "      <td>6037</td>\n",
       "      <td>96103</td>\n",
       "      <td>1395.380</td>\n",
       "    </tr>\n",
       "    <tr>\n",
       "      <th>12551066</th>\n",
       "      <td>2</td>\n",
       "      <td>3</td>\n",
       "      <td>64</td>\n",
       "      <td>1286</td>\n",
       "      <td>3268.000</td>\n",
       "      <td>6037</td>\n",
       "      <td>96245</td>\n",
       "      <td>2955.920</td>\n",
       "    </tr>\n",
       "  </tbody>\n",
       "</table>\n",
       "</div>"
      ],
      "text/plain": [
       "           bathrooms  bedrooms  age  square_feet  lot_size  fips  zip_code  \\\n",
       "parcel_id                                                                    \n",
       "11640078           6         4   65         3614 25587.000  6037     96086   \n",
       "10728405           2         3   57         1466  8149.000  6037     96342   \n",
       "17239776           2         3   53         1623  8300.000  6111     97116   \n",
       "11473641           2         3   74         1624  6544.000  6037     96103   \n",
       "12551066           2         3   64         1286  3268.000  6037     96245   \n",
       "\n",
       "             taxes  \n",
       "parcel_id           \n",
       "11640078  5662.800  \n",
       "10728405  7435.650  \n",
       "17239776  6278.580  \n",
       "11473641  1395.380  \n",
       "12551066  2955.920  "
      ]
     },
     "execution_count": 24,
     "metadata": {},
     "output_type": "execute_result"
    }
   ],
   "source": [
    "X_train.head()"
   ]
  },
  {
   "cell_type": "code",
   "execution_count": 25,
   "metadata": {},
   "outputs": [
    {
     "data": {
      "text/plain": [
       "parcel_id\n",
       "11640078   475281.000\n",
       "10728405   605000.000\n",
       "17239776   542864.000\n",
       "11473641   120656.000\n",
       "12551066   234048.000\n",
       "Name: tax_value, dtype: float64"
      ]
     },
     "execution_count": 25,
     "metadata": {},
     "output_type": "execute_result"
    }
   ],
   "source": [
    "y_train.head()"
   ]
  },
  {
   "cell_type": "code",
   "execution_count": 26,
   "metadata": {},
   "outputs": [
    {
     "data": {
      "text/html": [
       "<div>\n",
       "<style scoped>\n",
       "    .dataframe tbody tr th:only-of-type {\n",
       "        vertical-align: middle;\n",
       "    }\n",
       "\n",
       "    .dataframe tbody tr th {\n",
       "        vertical-align: top;\n",
       "    }\n",
       "\n",
       "    .dataframe thead th {\n",
       "        text-align: right;\n",
       "    }\n",
       "</style>\n",
       "<table border=\"1\" class=\"dataframe\">\n",
       "  <thead>\n",
       "    <tr style=\"text-align: right;\">\n",
       "      <th></th>\n",
       "      <th>tax_value</th>\n",
       "    </tr>\n",
       "    <tr>\n",
       "      <th>parcel_id</th>\n",
       "      <th></th>\n",
       "    </tr>\n",
       "  </thead>\n",
       "  <tbody>\n",
       "    <tr>\n",
       "      <th>11640078</th>\n",
       "      <td>475281.000</td>\n",
       "    </tr>\n",
       "  </tbody>\n",
       "</table>\n",
       "</div>"
      ],
      "text/plain": [
       "           tax_value\n",
       "parcel_id           \n",
       "11640078  475281.000"
      ]
     },
     "execution_count": 26,
     "metadata": {},
     "output_type": "execute_result"
    }
   ],
   "source": [
    "#Creating dataframes for target variable sets\n",
    "\n",
    "y_train = pd.DataFrame(y_train)\n",
    "y_validate = pd.DataFrame(y_validate)\n",
    "y_test = pd.DataFrame(y_test)\n",
    "y_train.head(1)"
   ]
  },
  {
   "cell_type": "code",
   "execution_count": 27,
   "metadata": {},
   "outputs": [
    {
     "data": {
      "text/html": [
       "<div>\n",
       "<style scoped>\n",
       "    .dataframe tbody tr th:only-of-type {\n",
       "        vertical-align: middle;\n",
       "    }\n",
       "\n",
       "    .dataframe tbody tr th {\n",
       "        vertical-align: top;\n",
       "    }\n",
       "\n",
       "    .dataframe thead th {\n",
       "        text-align: right;\n",
       "    }\n",
       "</style>\n",
       "<table border=\"1\" class=\"dataframe\">\n",
       "  <thead>\n",
       "    <tr style=\"text-align: right;\">\n",
       "      <th></th>\n",
       "      <th>tax_value</th>\n",
       "    </tr>\n",
       "    <tr>\n",
       "      <th>parcel_id</th>\n",
       "      <th></th>\n",
       "    </tr>\n",
       "  </thead>\n",
       "  <tbody>\n",
       "    <tr>\n",
       "      <th>11344899</th>\n",
       "      <td>568000.000</td>\n",
       "    </tr>\n",
       "  </tbody>\n",
       "</table>\n",
       "</div>"
      ],
      "text/plain": [
       "           tax_value\n",
       "parcel_id           \n",
       "11344899  568000.000"
      ]
     },
     "execution_count": 27,
     "metadata": {},
     "output_type": "execute_result"
    }
   ],
   "source": [
    "y_validate.head(1)"
   ]
  },
  {
   "cell_type": "code",
   "execution_count": 28,
   "metadata": {},
   "outputs": [
    {
     "data": {
      "text/html": [
       "<div>\n",
       "<style scoped>\n",
       "    .dataframe tbody tr th:only-of-type {\n",
       "        vertical-align: middle;\n",
       "    }\n",
       "\n",
       "    .dataframe tbody tr th {\n",
       "        vertical-align: top;\n",
       "    }\n",
       "\n",
       "    .dataframe thead th {\n",
       "        text-align: right;\n",
       "    }\n",
       "</style>\n",
       "<table border=\"1\" class=\"dataframe\">\n",
       "  <thead>\n",
       "    <tr style=\"text-align: right;\">\n",
       "      <th></th>\n",
       "      <th>tax_value</th>\n",
       "    </tr>\n",
       "    <tr>\n",
       "      <th>parcel_id</th>\n",
       "      <th></th>\n",
       "    </tr>\n",
       "  </thead>\n",
       "  <tbody>\n",
       "    <tr>\n",
       "      <th>14383004</th>\n",
       "      <td>673097.000</td>\n",
       "    </tr>\n",
       "  </tbody>\n",
       "</table>\n",
       "</div>"
      ],
      "text/plain": [
       "           tax_value\n",
       "parcel_id           \n",
       "14383004  673097.000"
      ]
     },
     "execution_count": 28,
     "metadata": {},
     "output_type": "execute_result"
    }
   ],
   "source": [
    "y_test.head(1)"
   ]
  },
  {
   "cell_type": "markdown",
   "metadata": {},
   "source": [
    "### ```Takeaways:```\n",
    "- The function ```train_validate_test_split(df, 'tax_value')``` was called to split data into train, validate and test sets\n",
    "- Target variable (actual tax value) is isolated as sole column in y_train, y_validate, and y_test.\n",
    "- Observations are split as follows:  train - 16,944; validate - 7263, test - 6052\n"
   ]
  },
  {
   "cell_type": "markdown",
   "metadata": {},
   "source": [
    "<a id='Scale'></a>\n",
    "### ```Scale Data```"
   ]
  },
  {
   "cell_type": "code",
   "execution_count": 29,
   "metadata": {},
   "outputs": [
    {
     "data": {
      "text/plain": [
       "((16944, 7), (7263, 7), (6052, 7))"
      ]
     },
     "execution_count": 29,
     "metadata": {},
     "output_type": "execute_result"
    }
   ],
   "source": [
    "# Scale the data using MinMaxScaler function\n",
    "\n",
    "num_cols = ['bedrooms','bathrooms','age','square_feet', 'lot_size','zip_code', 'fips']\n",
    "X_train_scaled, X_validate_scaled, X_test_scaled = wrangle_zillow.min_max_scale(X_train, X_validate, X_test, num_cols)\n",
    "\n",
    "X_train_scaled.shape, X_validate_scaled.shape, X_test_scaled.shape"
   ]
  },
  {
   "cell_type": "markdown",
   "metadata": {},
   "source": [
    "```Takeaways:```\n",
    "- The MinMax Scaler was applied by calling the ```min_max_scale``` function.\n",
    "- All numeric columns were scaled from 0 to 1"
   ]
  },
  {
   "cell_type": "markdown",
   "metadata": {},
   "source": [
    "<a id='Explore'></a>\n",
    "### ```Explore Data```"
   ]
  },
  {
   "cell_type": "code",
   "execution_count": 30,
   "metadata": {},
   "outputs": [
    {
     "data": {
      "text/plain": [
       "array([[<AxesSubplot:title={'center':'bathrooms'}>,\n",
       "        <AxesSubplot:title={'center':'bedrooms'}>,\n",
       "        <AxesSubplot:title={'center':'age'}>],\n",
       "       [<AxesSubplot:title={'center':'square_feet'}>,\n",
       "        <AxesSubplot:title={'center':'lot_size'}>,\n",
       "        <AxesSubplot:title={'center':'fips'}>],\n",
       "       [<AxesSubplot:title={'center':'zip_code'}>,\n",
       "        <AxesSubplot:title={'center':'tax_value'}>,\n",
       "        <AxesSubplot:title={'center':'taxes'}>]], dtype=object)"
      ]
     },
     "execution_count": 30,
     "metadata": {},
     "output_type": "execute_result"
    },
    {
     "data": {
      "image/png": "[encoded data removed]",
      "text/plain": [
       "<Figure size 1152x864 with 9 Axes>"
      ]
     },
     "metadata": {
      "needs_background": "light"
     },
     "output_type": "display_data"
    }
   ],
   "source": [
    "#Exploring distribution of all numeric columns in entire df\n",
    "\n",
    "df.hist(grid=False, figsize=(16,12), color='magenta')"
   ]
  },
  {
   "cell_type": "code",
   "execution_count": 31,
   "metadata": {},
   "outputs": [
    {
     "data": {
      "text/plain": [
       "48.0"
      ]
     },
     "execution_count": 31,
     "metadata": {},
     "output_type": "execute_result"
    }
   ],
   "source": [
    "df.age.median()"
   ]
  },
  {
   "cell_type": "markdown",
   "metadata": {},
   "source": [
    "#### ```Takeaways:```\n",
    "- Explorations done on unscaled data to check distribution of data.\n",
    "- Majority of properties in FIPS 6040\n",
    "- Zip codes are appropriate for area.\n",
    "- Square footage is right skewed, with the majority of observations between ~1000 and 2500 square feet.\n",
    "- Bedroom and bathroom counts have a normall distribution\n",
    "- Age of homes is right skewed. Majority of homes < 60 years."
   ]
  },
  {
   "cell_type": "code",
   "execution_count": 32,
   "metadata": {},
   "outputs": [
    {
     "data": {
      "text/plain": [
       "<AxesSubplot:xlabel='fips', ylabel='Density'>"
      ]
     },
     "execution_count": 32,
     "metadata": {},
     "output_type": "execute_result"
    },
    {
     "data": {
      "image/png": "[encoded data removed]",
      "text/plain": [
       "<Figure size 432x288 with 1 Axes>"
      ]
     },
     "metadata": {
      "needs_background": "light"
     },
     "output_type": "display_data"
    }
   ],
   "source": [
    "#Create a distplot to explore the distribution of Pandas Series\n",
    "\n",
    "sns.distplot(df.fips)"
   ]
  },
  {
   "cell_type": "markdown",
   "metadata": {},
   "source": [
    "#### ```Takeaways:```\n",
    "- Majority of properties are in FIPS 6040 - Los Angeles County.\n",
    "- Properties in Ventura County (6111) are by far the smallest set."
   ]
  },
  {
   "cell_type": "code",
   "execution_count": 33,
   "metadata": {},
   "outputs": [
    {
     "data": {
      "text/plain": [
       "<AxesSubplot:>"
      ]
     },
     "execution_count": 33,
     "metadata": {},
     "output_type": "execute_result"
    },
    {
     "data": {
      "image/png": "[encoded data removed]",
      "text/plain": [
       "<Figure size 720x720 with 2 Axes>"
      ]
     },
     "metadata": {
      "needs_background": "light"
     },
     "output_type": "display_data"
    }
   ],
   "source": [
    "# Create heatmap to look for correlations between variables\n",
    "plt.subplots(figsize=(10,10))\n",
    "sns.heatmap(X_train_scaled.corr(), cmap='gist_earth',annot=True)"
   ]
  },
  {
   "cell_type": "markdown",
   "metadata": {},
   "source": [
    "#### ```Takeaways:```\n",
    "- Heatmap was prepared on scaled data\n",
    "- High correlation between: bathrooms/square_feet, bedroom/bathroom, bedrooms/square feet \n",
    "- Low/no association between: lot_size/county or zip_code, age/county, lot_size/square_feet, zip_code/square_feet"
   ]
  },
  {
   "cell_type": "code",
   "execution_count": 34,
   "metadata": {},
   "outputs": [
    {
     "data": {
      "text/plain": [
       "<seaborn.axisgrid.PairGrid at 0x7f8fda7c8a00>"
      ]
     },
     "execution_count": 34,
     "metadata": {},
     "output_type": "execute_result"
    },
    {
     "data": {
      "image/png": "[encoded data removed]",
      "text/plain": [
       "<Figure size 1260x1260 with 56 Axes>"
      ]
     },
     "metadata": {
      "needs_background": "light"
     },
     "output_type": "display_data"
    }
   ],
   "source": [
    "# Create pair plot to look at how each variable relates to other individual variables\n",
    "plot_kws={'line_kws':{'color':'red'},'scatter_kws': {'alpha': 0.7}}    \n",
    "sns.pairplot(X_train_scaled, kind=\"reg\", plot_kws={'line_kws':{'color':'red'},'scatter_kws': {'alpha': 0.1} })\n"
   ]
  },
  {
   "cell_type": "markdown",
   "metadata": {},
   "source": [
    "```Takeaways:```\n",
    "- Since we are comparing variables of different units, we are using scaled data.\n",
    "- High correlation between: bathrooms/square_feet, bedroom/bathroom, bedrooms/square feet \n",
    "- Low/no association between: lot_size/county or zip_code, age/county, lot_size/square_feet, zip_code/square_feet"
   ]
  },
  {
   "cell_type": "code",
   "execution_count": 36,
   "metadata": {},
   "outputs": [
    {
     "name": "stdout",
     "output_type": "stream",
     "text": [
      "The p-value is: 0.0. There is 0.0% chance that we see these results by chance.\n",
      "r = 0.53\n"
     ]
    },
    {
     "data": {
      "image/png": "[encoded data removed]",
      "text/plain": [
       "<Figure size 432x288 with 1 Axes>"
      ]
     },
     "metadata": {
      "needs_background": "light"
     },
     "output_type": "display_data"
    }
   ],
   "source": [
    "def correlation_exploration(train, x_string, y_string):\n",
    "    '''\n",
    "    This function takes in a df, a string for an x-axis variable in the df, \n",
    "    and a string for a y-axis variable in the df and displays a scatter plot, the r-\n",
    "    squared value, and the p-value. It explores the correlation between input the x \n",
    "    and y variables.\n",
    "    '''\n",
    "    r, p = stats.pearsonr(train[x_string], train[y_string])\n",
    "    df.plot.scatter(x_string, y_string)\n",
    "    plt.title(f\"{x_string}'s Relationship with {y_string}\")\n",
    "    print(f'The p-value is: {p}. There is {round(p,3)}% chance that we see these results by chance.')\n",
    "    print(f'r = {round(r, 2)}')\n",
    "    plt.show()\n",
    "\n",
    "correlation_exploration(X_train_scaled, 'bedrooms', 'bathrooms')"
   ]
  },
  {
   "cell_type": "code",
   "execution_count": 37,
   "metadata": {},
   "outputs": [
    {
     "name": "stdout",
     "output_type": "stream",
     "text": [
      "The p-value is: 2.6491141113499226e-294. There is 0.0% chance that we see these results by chance.\n",
      "r = 0.28\n"
     ]
    },
    {
     "data": {
      "image/png": "[encoded data removed]",
      "text/plain": [
       "<Figure size 432x288 with 1 Axes>"
      ]
     },
     "metadata": {
      "needs_background": "light"
     },
     "output_type": "display_data"
    }
   ],
   "source": [
    "correlation_exploration(X_train, 'bedrooms', 'taxes')"
   ]
  },
  {
   "cell_type": "code",
   "execution_count": 38,
   "metadata": {},
   "outputs": [
    {
     "name": "stdout",
     "output_type": "stream",
     "text": [
      "The p-value is: 3.739425368089971e-21. There is 0.0% chance that we see these results by chance.\n",
      "r = -0.07\n"
     ]
    },
    {
     "data": {
      "image/png": "[encoded data removed]",
      "text/plain": [
       "<Figure size 432x288 with 1 Axes>"
      ]
     },
     "metadata": {
      "needs_background": "light"
     },
     "output_type": "display_data"
    }
   ],
   "source": [
    "correlation_exploration(X_train, 'zip_code', 'taxes')"
   ]
  },
  {
   "cell_type": "code",
   "execution_count": 39,
   "metadata": {},
   "outputs": [
    {
     "name": "stdout",
     "output_type": "stream",
     "text": [
      "The p-value is: 0.0015609357743409356. There is 0.002% chance that we see these results by chance.\n",
      "r = 0.02\n"
     ]
    },
    {
     "data": {
      "image/png": "[encoded data removed]",
      "text/plain": [
       "<Figure size 432x288 with 1 Axes>"
      ]
     },
     "metadata": {
      "needs_background": "light"
     },
     "output_type": "display_data"
    }
   ],
   "source": [
    "correlation_exploration(X_train, 'fips', 'taxes')"
   ]
  },
  {
   "cell_type": "code",
   "execution_count": 40,
   "metadata": {},
   "outputs": [
    {
     "name": "stdout",
     "output_type": "stream",
     "text": [
      "The p-value is: 1.3282308202057336e-78. There is 0.0% chance that we see these results by chance.\n",
      "r = -0.14\n"
     ]
    },
    {
     "data": {
      "image/png": "[encoded data removed]",
      "text/plain": [
       "<Figure size 432x288 with 1 Axes>"
      ]
     },
     "metadata": {
      "needs_background": "light"
     },
     "output_type": "display_data"
    }
   ],
   "source": [
    "correlation_exploration(X_train, 'age', 'taxes')"
   ]
  },
  {
   "cell_type": "code",
   "execution_count": 41,
   "metadata": {},
   "outputs": [
    {
     "data": {
      "image/png": "[encoded data removed]",
      "text/plain": [
       "<Figure size 576x144 with 2 Axes>"
      ]
     },
     "metadata": {
      "needs_background": "light"
     },
     "output_type": "display_data"
    },
    {
     "name": "stdout",
     "output_type": "stream",
     "text": [
      "count   30259.000\n",
      "mean        2.309\n",
      "std         0.865\n",
      "min         1.000\n",
      "25%         2.000\n",
      "50%         2.000\n",
      "75%         3.000\n",
      "max         6.000\n",
      "Name: bathrooms, dtype: float64\n"
     ]
    },
    {
     "data": {
      "image/png": "[encoded data removed]",
      "text/plain": [
       "<Figure size 576x144 with 2 Axes>"
      ]
     },
     "metadata": {
      "needs_background": "light"
     },
     "output_type": "display_data"
    },
    {
     "name": "stdout",
     "output_type": "stream",
     "text": [
      "count   30259.000\n",
      "mean        3.167\n",
      "std         0.947\n",
      "min         1.000\n",
      "25%         3.000\n",
      "50%         3.000\n",
      "75%         4.000\n",
      "max         7.000\n",
      "Name: bedrooms, dtype: float64\n"
     ]
    },
    {
     "data": {
      "image/png": "[encoded data removed]",
      "text/plain": [
       "<Figure size 576x144 with 2 Axes>"
      ]
     },
     "metadata": {
      "needs_background": "light"
     },
     "output_type": "display_data"
    },
    {
     "name": "stdout",
     "output_type": "stream",
     "text": [
      "count   30259.000\n",
      "mean       48.126\n",
      "std        22.481\n",
      "min         1.000\n",
      "25%        31.000\n",
      "50%        48.000\n",
      "75%        63.000\n",
      "max       139.000\n",
      "Name: age, dtype: float64\n"
     ]
    },
    {
     "data": {
      "image/png": "[encoded data removed]",
      "text/plain": [
       "<Figure size 576x144 with 2 Axes>"
      ]
     },
     "metadata": {
      "needs_background": "light"
     },
     "output_type": "display_data"
    },
    {
     "name": "stdout",
     "output_type": "stream",
     "text": [
      "count   30259.000\n",
      "mean     1843.995\n",
      "std       811.673\n",
      "min       700.000\n",
      "25%      1254.000\n",
      "50%      1638.000\n",
      "75%      2240.000\n",
      "max      5496.000\n",
      "Name: square_feet, dtype: float64\n"
     ]
    },
    {
     "data": {
      "image/png": "[encoded data removed]",
      "text/plain": [
       "<Figure size 576x144 with 2 Axes>"
      ]
     },
     "metadata": {
      "needs_background": "light"
     },
     "output_type": "display_data"
    },
    {
     "name": "stdout",
     "output_type": "stream",
     "text": [
      "count     30259.000\n",
      "mean      30609.348\n",
      "std      114494.717\n",
      "min         236.000\n",
      "25%        5854.500\n",
      "50%        7380.000\n",
      "75%       12455.500\n",
      "max     6971010.000\n",
      "Name: lot_size, dtype: float64\n"
     ]
    },
    {
     "data": {
      "image/png": "[encoded data removed]",
      "text/plain": [
       "<Figure size 576x144 with 2 Axes>"
      ]
     },
     "metadata": {
      "needs_background": "light"
     },
     "output_type": "display_data"
    },
    {
     "name": "stdout",
     "output_type": "stream",
     "text": [
      "count   30259.000\n",
      "mean    96524.673\n",
      "std       404.214\n",
      "min     95982.000\n",
      "25%     96204.000\n",
      "50%     96383.000\n",
      "75%     96982.000\n",
      "max     97344.000\n",
      "Name: zip_code, dtype: float64\n"
     ]
    },
    {
     "data": {
      "image/png": "[encoded data removed]",
      "text/plain": [
       "<Figure size 576x144 with 2 Axes>"
      ]
     },
     "metadata": {
      "needs_background": "light"
     },
     "output_type": "display_data"
    },
    {
     "name": "stdout",
     "output_type": "stream",
     "text": [
      "count     30259.000\n",
      "mean     506419.954\n",
      "std      399716.440\n",
      "min       90035.000\n",
      "25%      248916.000\n",
      "50%      400941.000\n",
      "75%      624139.000\n",
      "max     3100000.000\n",
      "Name: tax_value, dtype: float64\n"
     ]
    },
    {
     "data": {
      "image/png": "[encoded data removed]",
      "text/plain": [
       "<Figure size 576x144 with 2 Axes>"
      ]
     },
     "metadata": {
      "needs_background": "light"
     },
     "output_type": "display_data"
    },
    {
     "name": "stdout",
     "output_type": "stream",
     "text": [
      "count   30259.000\n",
      "mean     6183.252\n",
      "std      4651.652\n",
      "min        62.440\n",
      "25%      3256.365\n",
      "50%      4944.940\n",
      "75%      7460.365\n",
      "max     61992.630\n",
      "Name: taxes, dtype: float64\n"
     ]
    }
   ],
   "source": [
    "# def plot_cat_by_target(train, target, cat_var):\n",
    "#     p = plt.figure(figsize=(8,8))\n",
    "#     p = sns.barplot(cat_var, target, data=train, alpha=.8, color='lightseagreen')\n",
    "#     overall_rate = train[target].mean()\n",
    "#     p = plt.axhline(overall_rate, ls='--', color='gray')\n",
    "#     return p \n",
    "\n",
    "# plot_cat_by_target(df, df.tax_value, df.bedrooms)\n",
    "cat_vars = []\n",
    "quant_vars = ['bathrooms', 'bedrooms', 'age', 'square_feet', 'lot_size', 'zip_code', 'tax_value', 'taxes']\n",
    "def explore_univariate_quant(train, quant_var):\n",
    "    '''\n",
    "    takes in a dataframe and a quantitative variable and returns\n",
    "    descriptive stats table, histogram, and boxplot of the distributions. \n",
    "    '''\n",
    "    descriptive_stats = train[quant_var].describe()\n",
    "    plt.figure(figsize=(8,2))\n",
    "\n",
    "    p = plt.subplot(1, 2, 1)\n",
    "    p = plt.hist(train[quant_var], color='lightseagreen')\n",
    "    p = plt.title(quant_var)\n",
    "\n",
    "    # second plot: box plot\n",
    "    p = plt.subplot(1, 2, 2)\n",
    "    p = plt.boxplot(train[quant_var])\n",
    "    p = plt.title(quant_var)\n",
    "    return p, descriptive_stats\n",
    "\n",
    "def explore_univariate(train, cat_vars, quant_vars):\n",
    "    for var in cat_vars:\n",
    "        explore_univariate_categorical(train, var)\n",
    "        print('_________________________________________________________________')\n",
    "    for col in quant_vars:\n",
    "        p, descriptive_stats = explore_univariate_quant(train, col)\n",
    "        plt.show(p)\n",
    "        print(descriptive_stats)\n",
    "        \n",
    "explore_univariate(df, cat_vars, quant_vars)"
   ]
  },
  {
   "cell_type": "markdown",
   "metadata": {},
   "source": [
    "<a id='HypoCorr'></a>\n",
    "### ```Hypothesis Testing - Correlation #1 - County/Tax Value: ```\n",
    "    \n",
    "#### Does the county a home is located in affect the tax value?\n",
    "\n",
    "- H$_{0}$: There is no relationship between the county is located in and its tax value.  --> <font color = 'red'> **REJECTED**<font color = 'black'>\n",
    "\n",
    "- H$_{a}$: There is a dependent relationship between county and tax value.  "
   ]
  },
  {
   "cell_type": "markdown",
   "metadata": {},
   "source": [
    "#### Takeaways: \n",
    "- The 'r' correlation coefficient is 0.06468945085502781\n",
    "- The p-value (probability of seeing the data given the null hypothesis is true) is  3.492977794581021e-17\n",
    "\n",
    "**Therefore, we reject the null hypothesis that there is no relationship between county and tax value.**"
   ]
  },
  {
   "cell_type": "code",
   "execution_count": 42,
   "metadata": {},
   "outputs": [
    {
     "name": "stdout",
     "output_type": "stream",
     "text": [
      "'r' correlation coefficient is 0.06468945085502781\n",
      "p-value (probability of seeing the data given the null hypothesis is true) is  3.492977794581021e-17\n",
      "We reject the null hypothesis that there is no relationship between county and tax value.\n"
     ]
    }
   ],
   "source": [
    "α = .05\n",
    "\n",
    "x = X_train.fips\n",
    "y = y_train.tax_value\n",
    "\n",
    "r, p = stats.pearsonr(x,y)\n",
    "\n",
    "\n",
    "print(\"'r' correlation coefficient is\", r)\n",
    "print(\"p-value (probability of seeing the data given the null hypothesis is true) is \", p)\n",
    "\n",
    "if p < α:\n",
    "    print(\"We reject the null hypothesis that there is no relationship between county and tax value.\")\n",
    "else:\n",
    "    print(\"We fail to reject the null hypothesis\")\n"
   ]
  },
  {
   "cell_type": "markdown",
   "metadata": {},
   "source": [
    "### ```Hypothesis Testing - Correlation #2 - Lot Size/Tax Value: ```\n",
    "    \n",
    "#### Does the size of the lot a home is located on affect the tax value?\n",
    "\n",
    "- H$_{0}$: There is no relationship between the size of the lot a home is located on and its tax value.  --> <font color = 'red'> **REJECTED**<font color = 'black'>\n",
    "\n",
    "- H$_{a}$: There is a relationship between lot size and tax value.  "
   ]
  },
  {
   "cell_type": "markdown",
   "metadata": {},
   "source": [
    "#### Takeaways: \n",
    "- The 'r' correlation coefficient is -0.057867045752652856\n",
    "- The p-value (probability of seeing the data given the null hypothesis is true) is  4.76270361809467e-14\n",
    "\n",
    "**Therefore, we reject the null hypothesis that there is no relationship between lot_size and tax value.**"
   ]
  },
  {
   "cell_type": "code",
   "execution_count": 43,
   "metadata": {},
   "outputs": [
    {
     "name": "stdout",
     "output_type": "stream",
     "text": [
      "'r' correlation coefficient is -0.057867045752652856\n",
      "p-value (probability of seeing the data given the null hypothesis is true) is  4.76270361809467e-14\n",
      "We reject the null hypothesis that there is no relationship between lot_size and tax value.\n"
     ]
    }
   ],
   "source": [
    "α = .05\n",
    "\n",
    "x3 = X_train.lot_size\n",
    "y = y_train.tax_value\n",
    "\n",
    "r, p = stats.pearsonr(x3,y)\n",
    "\n",
    "\n",
    "print(\"'r' correlation coefficient is\", r)\n",
    "print(\"p-value (probability of seeing the data given the null hypothesis is true) is \", p)\n",
    "\n",
    "if p < α:\n",
    "    print(\"We reject the null hypothesis that there is no relationship between lot_size and tax value.\")\n",
    "else:\n",
    "    print(\"We fail to reject the null hypothesis\")\n"
   ]
  },
  {
   "cell_type": "markdown",
   "metadata": {},
   "source": [
    "<a id='HypoTt'></a>\n",
    "### ```Hypothesis Testing - T-Test #1 - County/Tax Value:```\n",
    "\n",
    "#### Does the county that a home is located in affect its tax value?**\n",
    "\n",
    "- H$_{0}$: There is no difference in mean tax value between homes in Los Angeles County and the remainder of the counties.--> <font color = 'red'>**REJECTED** <font color = 'black'>\n",
    "    \n",
    "- H$_{a}$: There is a difference in mean tax value between homes in Los Angeles County and the remainder of the counties.  "
   ]
  },
  {
   "cell_type": "markdown",
   "metadata": {},
   "source": [
    "#### Takeaways: \n",
    "- The t-stat is: -22.463860331538726, the p-value is: 7.568156691971651e-111.\n",
    "- We reject the null hypothesis that there is no difference in mean tax value between homes in Los Angeles County and the remainder of the counties.\n",
    "- We move forward with the alternative hypothesis."
   ]
  },
  {
   "cell_type": "code",
   "execution_count": 44,
   "metadata": {},
   "outputs": [
    {
     "name": "stdout",
     "output_type": "stream",
     "text": [
      "The t-stat is: -22.463860331538726, the p-value is: 7.568156691971651e-111.\n",
      "We reject the null hypothesis that they are the same\n",
      "We move forward with the alternative hypothesis.\n"
     ]
    }
   ],
   "source": [
    "x1a = df[df.fips == 6037].tax_value\n",
    "x2a = df[df.fips != 6037].tax_value\n",
    "\n",
    "confidence_level = 0.95\n",
    "a = 0.5\n",
    "\n",
    "t, p = stats.ttest_ind(x1a, x2a)\n",
    "t,p\n",
    "\n",
    "\n",
    "if p < a:\n",
    "    print (f'The t-stat is: {t}, the p-value is: {p}.')\n",
    "    print(\"We reject the null hypothesis that they are the same\")\n",
    "    print(\"We move forward with the alternative hypothesis.\")\n",
    "else: \n",
    "    print(f'The t-stat is: {t}, the p-value is: {p}.')\n",
    "    print(\"We fail to reject the null hypothesis that there is no difference in tax value of a home based on an age over 30 years.\")\n"
   ]
  },
  {
   "cell_type": "markdown",
   "metadata": {},
   "source": [
    "### ```Hypothesis Testing - T-Test - Age/Tax Value: ```\n",
    "    \n",
    "**Does the age of a home affect its tax value?**\n",
    "\n",
    "- H$_{0}$: There is no difference between the mean tax value of a home that is over 30 years old and one that is under 30.  --> <font color = 'red'>**REJECTED** <font color = 'black'>\n",
    "    \n",
    "- H$_{a}$: There is a difference in mean tax value of a home based on its age.  \n"
   ]
  },
  {
   "cell_type": "markdown",
   "metadata": {},
   "source": [
    "### Takeaways: \n",
    "- The t-stat is: 36.46646257972798, the p-value is: 36.46646257972798.\n",
    "- **We reject the null hypothesis that there is no difference in tax value of a home based on an age over 30 years.**\n",
    "- We move forward with the alternative hypothesis.\n",
    "\n"
   ]
  },
  {
   "cell_type": "code",
   "execution_count": 45,
   "metadata": {},
   "outputs": [
    {
     "name": "stdout",
     "output_type": "stream",
     "text": [
      "The t-stat is: 36.46646257972798, the p-value is: 5.644500960279063e-285.\n",
      "We reject the null hypothesis that they are the same\n",
      "We move forward with the alternative hypothesis.\n"
     ]
    }
   ],
   "source": [
    "x1 = df[df.age < 30].tax_value\n",
    "x2 = df[df.age >= 30].tax_value\n",
    "\n",
    "confidence_level = 0.95\n",
    "a = 0.5\n",
    "\n",
    "t, p = stats.ttest_ind(x1, x2)\n",
    "t,p\n",
    "\n",
    "if p < a:\n",
    "    print (f'The t-stat is: {t}, the p-value is: {p}.')\n",
    "    print(\"We reject the null hypothesis that they are the same\")\n",
    "    print(\"We move forward with the alternative hypothesis.\")\n",
    "else: \n",
    "#   print (f'The t-stat is: {t}, the p-value is: {p}.')\n",
    "    print(\"We fail to reject the null hypothesis that there is no difference in tax value of a home based on an age over 30 years.\")"
   ]
  },
  {
   "cell_type": "markdown",
   "metadata": {},
   "source": [
    "<a id='Baseline'></a>\n",
    "### ```Create a Baseline```"
   ]
  },
  {
   "cell_type": "markdown",
   "metadata": {},
   "source": [
    "#### Takeaways:\n",
    "- Mean and median tax values were evaluated for error using Root Mean Squared Error.  \n",
    "- The mean tax value had a smaller error value, therefore, I choose to use the mean of tax values as a baseline for modeling.\n",
    "- Our baseline value for modeling is $505,045.81\n",
    "\n",
    "RMSE using Mean Baseline\n",
    "Train/In-Sample:   398280.82 \n",
    "Validate/Out-of-Sample:   402221.78\n",
    "RMSE using Median Baseline\n",
    "Train/In-Sample:   412156.92 \n",
    "Validate/Out-of-Sample:   416300.83"
   ]
  },
  {
   "cell_type": "code",
   "execution_count": 46,
   "metadata": {},
   "outputs": [
    {
     "data": {
      "text/html": [
       "<div>\n",
       "<style scoped>\n",
       "    .dataframe tbody tr th:only-of-type {\n",
       "        vertical-align: middle;\n",
       "    }\n",
       "\n",
       "    .dataframe tbody tr th {\n",
       "        vertical-align: top;\n",
       "    }\n",
       "\n",
       "    .dataframe thead th {\n",
       "        text-align: right;\n",
       "    }\n",
       "</style>\n",
       "<table border=\"1\" class=\"dataframe\">\n",
       "  <thead>\n",
       "    <tr style=\"text-align: right;\">\n",
       "      <th></th>\n",
       "      <th>tax_value</th>\n",
       "      <th>y_pred_mean</th>\n",
       "      <th>y_pred_median</th>\n",
       "    </tr>\n",
       "    <tr>\n",
       "      <th>parcel_id</th>\n",
       "      <th></th>\n",
       "      <th></th>\n",
       "      <th></th>\n",
       "    </tr>\n",
       "  </thead>\n",
       "  <tbody>\n",
       "    <tr>\n",
       "      <th>11640078</th>\n",
       "      <td>475281.000</td>\n",
       "      <td>505045.807</td>\n",
       "      <td>399000.000</td>\n",
       "    </tr>\n",
       "    <tr>\n",
       "      <th>10728405</th>\n",
       "      <td>605000.000</td>\n",
       "      <td>505045.807</td>\n",
       "      <td>399000.000</td>\n",
       "    </tr>\n",
       "    <tr>\n",
       "      <th>17239776</th>\n",
       "      <td>542864.000</td>\n",
       "      <td>505045.807</td>\n",
       "      <td>399000.000</td>\n",
       "    </tr>\n",
       "    <tr>\n",
       "      <th>11473641</th>\n",
       "      <td>120656.000</td>\n",
       "      <td>505045.807</td>\n",
       "      <td>399000.000</td>\n",
       "    </tr>\n",
       "    <tr>\n",
       "      <th>12551066</th>\n",
       "      <td>234048.000</td>\n",
       "      <td>505045.807</td>\n",
       "      <td>399000.000</td>\n",
       "    </tr>\n",
       "  </tbody>\n",
       "</table>\n",
       "</div>"
      ],
      "text/plain": [
       "           tax_value  y_pred_mean  y_pred_median\n",
       "parcel_id                                       \n",
       "11640078  475281.000   505045.807     399000.000\n",
       "10728405  605000.000   505045.807     399000.000\n",
       "17239776  542864.000   505045.807     399000.000\n",
       "11473641  120656.000   505045.807     399000.000\n",
       "12551066  234048.000   505045.807     399000.000"
      ]
     },
     "execution_count": 46,
     "metadata": {},
     "output_type": "execute_result"
    }
   ],
   "source": [
    "# Create dataframes of y_train and y_validate , so we can append new columns with predicted values\n",
    "y_train = pd.DataFrame(y_train)\n",
    "y_validate = pd.DataFrame(y_validate)\n",
    "\n",
    "# Predict mean\n",
    "y_pred_mean = y_train['tax_value'].mean()\n",
    "y_train['y_pred_mean'] = y_pred_mean\n",
    "y_validate['y_pred_mean']= y_pred_mean\n",
    "\n",
    "\n",
    "# Predict mean\n",
    "y_pred_median = y_train['tax_value'].median()\n",
    "y_train['y_pred_median'] = y_pred_median\n",
    "y_validate['y_pred_median']= y_pred_median\n",
    "\n",
    "\n",
    "y_train.head()\n",
    "\n",
    "# # Make a copy of y_train dataframe, named ols_eval, with renamed column for actual value\n",
    "\n",
    "ols_eval = y_train.copy()\n",
    "ols_eval.head()\n",
    "\n"
   ]
  },
  {
   "cell_type": "code",
   "execution_count": 47,
   "metadata": {},
   "outputs": [
    {
     "name": "stdout",
     "output_type": "stream",
     "text": [
      "RMSE using Mean Baseline\n",
      "Train/In-Sample:   398280.82 \n",
      "Validate/Out-of-Sample:   402221.78\n",
      "RMSE using Median Baseline\n",
      "Train/In-Sample:   412156.92 \n",
      "Validate/Out-of-Sample:   416300.83\n"
     ]
    }
   ],
   "source": [
    "# Find RMSE of IM_pred_mean\n",
    "rmse_train = mean_squared_error(y_train.tax_value, y_train.y_pred_mean)**(1/2)\n",
    "rmse_validate = mean_squared_error(y_validate.tax_value, y_validate.y_pred_mean)**(1/2)\n",
    "\n",
    "print(\"RMSE using Mean Baseline\\nTrain/In-Sample:  \", round(rmse_train, 2),\n",
    "     \"\\nValidate/Out-of-Sample:  \", round(rmse_validate, 2,))\n",
    "\n",
    "# Find RMSE of IM_pred_median\n",
    "rmse_train = mean_squared_error(y_train.tax_value, y_train.y_pred_median)**(1/2)\n",
    "rmse_validate = mean_squared_error(y_validate.tax_value, y_validate.y_pred_median)**(1/2)\n",
    "\n",
    "print(\"RMSE using Median Baseline\\nTrain/In-Sample:  \", round(rmse_train, 2),\n",
    "     \"\\nValidate/Out-of-Sample:  \", round(rmse_validate, 2))"
   ]
  },
  {
   "cell_type": "markdown",
   "metadata": {},
   "source": [
    "#### Adding the mean tax value to the y-dataframe as baseline/yhat:"
   ]
  },
  {
   "cell_type": "code",
   "execution_count": 48,
   "metadata": {},
   "outputs": [
    {
     "data": {
      "text/html": [
       "<div>\n",
       "<style scoped>\n",
       "    .dataframe tbody tr th:only-of-type {\n",
       "        vertical-align: middle;\n",
       "    }\n",
       "\n",
       "    .dataframe tbody tr th {\n",
       "        vertical-align: top;\n",
       "    }\n",
       "\n",
       "    .dataframe thead th {\n",
       "        text-align: right;\n",
       "    }\n",
       "</style>\n",
       "<table border=\"1\" class=\"dataframe\">\n",
       "  <thead>\n",
       "    <tr style=\"text-align: right;\">\n",
       "      <th></th>\n",
       "      <th>actual</th>\n",
       "      <th>baseline_yhat</th>\n",
       "    </tr>\n",
       "    <tr>\n",
       "      <th>parcel_id</th>\n",
       "      <th></th>\n",
       "      <th></th>\n",
       "    </tr>\n",
       "  </thead>\n",
       "  <tbody>\n",
       "    <tr>\n",
       "      <th>11640078</th>\n",
       "      <td>475281.000</td>\n",
       "      <td>505045.807</td>\n",
       "    </tr>\n",
       "    <tr>\n",
       "      <th>10728405</th>\n",
       "      <td>605000.000</td>\n",
       "      <td>505045.807</td>\n",
       "    </tr>\n",
       "    <tr>\n",
       "      <th>17239776</th>\n",
       "      <td>542864.000</td>\n",
       "      <td>505045.807</td>\n",
       "    </tr>\n",
       "    <tr>\n",
       "      <th>11473641</th>\n",
       "      <td>120656.000</td>\n",
       "      <td>505045.807</td>\n",
       "    </tr>\n",
       "    <tr>\n",
       "      <th>12551066</th>\n",
       "      <td>234048.000</td>\n",
       "      <td>505045.807</td>\n",
       "    </tr>\n",
       "  </tbody>\n",
       "</table>\n",
       "</div>"
      ],
      "text/plain": [
       "              actual  baseline_yhat\n",
       "parcel_id                          \n",
       "11640078  475281.000     505045.807\n",
       "10728405  605000.000     505045.807\n",
       "17239776  542864.000     505045.807\n",
       "11473641  120656.000     505045.807\n",
       "12551066  234048.000     505045.807"
      ]
     },
     "execution_count": 48,
     "metadata": {},
     "output_type": "execute_result"
    }
   ],
   "source": [
    "ols_eval.rename(columns = {'tax_value':'actual', 'y_pred_mean':'baseline_yhat'}, inplace=True)\n",
    "ols_eval = ols_eval.drop(columns=['y_pred_median'])\n",
    "ols_eval.head()"
   ]
  },
  {
   "cell_type": "code",
   "execution_count": 49,
   "metadata": {},
   "outputs": [
    {
     "data": {
      "image/png": "[encoded data removed]",
      "text/plain": [
       "<Figure size 432x288 with 1 Axes>"
      ]
     },
     "metadata": {
      "needs_background": "light"
     },
     "output_type": "display_data"
    }
   ],
   "source": [
    "# plot to visualize actual v. predicted\n",
    "# plot to visualize actual v. predicted\n",
    "\n",
    "plt.hist(y_train.tax_value, color = 'red', alpha = .5, label = \"Actual Tax Value\")\n",
    "plt.hist(y_train.y_pred_mean, bins=7, color = 'blue', rwidth=100, label = \"Predicted Value - Mean\")\n",
    "plt.hist(y_train.y_pred_median, bins=7, color = 'gold', alpha = .5, rwidth=100, label = \"Predicted Value - Median\")\n",
    "plt.legend()\n",
    "plt.show()\n"
   ]
  },
  {
   "cell_type": "markdown",
   "metadata": {},
   "source": [
    "<a id='Model'></a>\n",
    "### ```Model Data - Explore```"
   ]
  },
  {
   "cell_type": "markdown",
   "metadata": {},
   "source": [
    "```Takeaways from Modeling:```"
   ]
  },
  {
   "cell_type": "markdown",
   "metadata": {},
   "source": [
    "####  Ordinary Lease Squares (OLS) Model"
   ]
  },
  {
   "cell_type": "code",
   "execution_count": 52,
   "metadata": {},
   "outputs": [],
   "source": [
    "# make the model\n",
    "lm = LinearRegression(normalize=True)\n",
    "\n",
    "#fit the model to training data. \n",
    "lm.fit(X_train_scaled, y_train.tax_value)\n",
    "\n",
    "#predict train\n",
    "y_train['tax_value_pred_lm'] = lm.predict(X_train_scaled)"
   ]
  },
  {
   "cell_type": "code",
   "execution_count": 53,
   "metadata": {},
   "outputs": [
    {
     "name": "stdout",
     "output_type": "stream",
     "text": [
      "RMSE for OLS using LinearRegression\n",
      "Training In-Sample:   315829.64771309856 \n",
      "Validation/Out-of-Sample:   317944.22022041975\n",
      "  \n",
      "Baseline RMSE using Mean  \n",
      "Train/In-Sample:   398280.82 \n",
      "Validate/Out-of-Sample:   402221.78\n"
     ]
    }
   ],
   "source": [
    "#evaluate: RMSE\n",
    "rmse_train = mean_squared_error(y_train.tax_value, y_train.tax_value_pred_lm)**(1/2)\n",
    "\n",
    "#predict validate\n",
    "y_validate['tax_value_pred_lm'] = lm.predict(X_validate_scaled)\n",
    "\n",
    "# evaluate: RMSE\n",
    "rmse_validate = mean_squared_error(y_validate.tax_value, y_validate.tax_value_pred_lm)**(1/2)\n",
    "\n",
    "print(\"RMSE for OLS using LinearRegression\\nTraining In-Sample:  \", rmse_train, \"\\nValidation/Out-of-Sample:  \", rmse_validate)\n",
    "print(\"  \")\n",
    "print(\"Baseline RMSE using Mean \", \"\\nTrain/In-Sample:   398280.82\", \"\\nValidate/Out-of-Sample:   402221.78\")"
   ]
  },
  {
   "cell_type": "code",
   "execution_count": 54,
   "metadata": {},
   "outputs": [
    {
     "name": "stdout",
     "output_type": "stream",
     "text": [
      "R^2 for OLS Model = 0.371179057231505\n"
     ]
    }
   ],
   "source": [
    "#calculate R-squared value\n",
    "r_ols = r2_score(y_train.tax_value, y_train.tax_value_pred_lm)\n",
    "print(f\"R^2 for OLS Model = {r_ols}\")"
   ]
  },
  {
   "cell_type": "markdown",
   "metadata": {},
   "source": [
    "####  LassoLars Model"
   ]
  },
  {
   "cell_type": "code",
   "execution_count": 55,
   "metadata": {},
   "outputs": [
    {
     "name": "stdout",
     "output_type": "stream",
     "text": [
      "RMSE for Lasso + Lars\n",
      "Training\\In-Sample:   315830.0267456726 \n",
      "Validation/Out-of-Sample:   317951.08368831535\n",
      "  \n",
      "Baseline RMSE using Mean  \n",
      "Train/In-Sample:   398280.82 \n",
      "Validate/Out-of-Sample:   402221.78\n"
     ]
    }
   ],
   "source": [
    "#create the model\n",
    "lars = LassoLars(alpha = 1.0)\n",
    "\n",
    "#fit the model to training data\n",
    "lars.fit(X_train_scaled, y_train.tax_value)\n",
    "\n",
    "#predict train\n",
    "y_train['tax_value_pred_lars'] = lars.predict(X_train_scaled)\n",
    "\n",
    "#evaluate: rmse\n",
    "rmse_train = mean_squared_error(y_train.tax_value,y_train.tax_value_pred_lars)**(1/2)\n",
    "\n",
    "#predict validate\n",
    "y_validate['tax_value_pred_lars'] = lars.predict(X_validate_scaled)\n",
    "\n",
    "#evaluate: rmse\n",
    "rmse_validate = mean_squared_error(y_validate.tax_value,y_validate.tax_value_pred_lars)**(1/2)\n",
    "\n",
    "print(\"RMSE for Lasso + Lars\\nTraining\\In-Sample:  \", rmse_train, \"\\nValidation/Out-of-Sample:  \", rmse_validate)\n",
    "print(\"  \")\n",
    "print(\"Baseline RMSE using Mean \", \"\\nTrain/In-Sample:   398280.82\", \"\\nValidate/Out-of-Sample:   402221.78\")"
   ]
  },
  {
   "cell_type": "code",
   "execution_count": 56,
   "metadata": {},
   "outputs": [
    {
     "name": "stdout",
     "output_type": "stream",
     "text": [
      "R^2 for LassoLars Model = 0.3711775479130145\n"
     ]
    }
   ],
   "source": [
    "#calculate R-squared value\n",
    "r_lars = r2_score(y_train.tax_value, y_train.tax_value_pred_lars)\n",
    "print(f\"R^2 for LassoLars Model = {r_lars}\")"
   ]
  },
  {
   "cell_type": "markdown",
   "metadata": {},
   "source": [
    "#### TweedieRegressor (GLM - Generalized Linear Model)"
   ]
  },
  {
   "cell_type": "code",
   "execution_count": 57,
   "metadata": {},
   "outputs": [
    {
     "name": "stdout",
     "output_type": "stream",
     "text": [
      "RMSE for GLM using Tweedie, power = 1 & alpha = 0\n",
      "Training/In-Sample:   319254.9152606865 \n",
      "Validation/Out-of-Sample:   319824.04540014896\n",
      "  \n",
      "Baseline RMSE using Mean  \n",
      "Train/In-Sample:   398280.82 \n",
      "Validate/Out-of-Sample:   402221.78\n"
     ]
    }
   ],
   "source": [
    "#create the model object\n",
    "glm = TweedieRegressor(power=1, alpha=0)\n",
    "\n",
    "#fit the model to training data\n",
    "glm.fit(X_train_scaled,y_train.tax_value)\n",
    "\n",
    "#predict train\n",
    "y_train['tax_value_pred_glm']=glm.predict(X_train_scaled)\n",
    "\n",
    "#evaluate: rmse\n",
    "rmse_train = mean_squared_error(y_train.tax_value,y_train.tax_value_pred_glm)**(1/2)\n",
    "\n",
    "#predict validate\n",
    "y_validate['tax_value_pred_glm']=glm.predict(X_validate_scaled)\n",
    "\n",
    "#evaluate: rmse\n",
    "rmse_validate = mean_squared_error(y_validate.tax_value,y_validate.tax_value_pred_glm)**(1/2)\n",
    "\n",
    "print(\"RMSE for GLM using Tweedie, power = 1 & alpha = 0\\nTraining/In-Sample:  \", rmse_train, \"\\nValidation/Out-of-Sample:  \", rmse_validate)\n",
    "print(\"  \")\n",
    "print(\"Baseline RMSE using Mean \", \"\\nTrain/In-Sample:   398280.82\", \"\\nValidate/Out-of-Sample:   402221.78\")"
   ]
  },
  {
   "cell_type": "code",
   "execution_count": 58,
   "metadata": {},
   "outputs": [
    {
     "name": "stdout",
     "output_type": "stream",
     "text": [
      "R^2 for TweedieRegressor / Generalized Linear Model = 0.3574655903526446\n"
     ]
    }
   ],
   "source": [
    "#calculate R-squared value\n",
    "r_glm = r2_score(y_train.tax_value, y_train.tax_value_pred_glm)\n",
    "print(f\"R^2 for TweedieRegressor / Generalized Linear Model = {r_glm}\")"
   ]
  },
  {
   "cell_type": "markdown",
   "metadata": {},
   "source": [
    "### Polynomial Regression - Create Polynomial Features, Then Linear Regression"
   ]
  },
  {
   "cell_type": "code",
   "execution_count": 59,
   "metadata": {},
   "outputs": [
    {
     "name": "stdout",
     "output_type": "stream",
     "text": [
      "RMSE for Polynomial Model, degrees=2\n",
      "Training In-Sample:   303548.2524948342 \n",
      "Validation/Out-of-Sample:   304596.6650769751\n",
      "  \n",
      "Baseline RMSE using Mean  \n",
      "Train/In-Sample:   398280.82 \n",
      "Validate/Out-of-Sample:   402221.78\n"
     ]
    }
   ],
   "source": [
    "# make the polynomial fetures to get a new set of features\n",
    "pf = PolynomialFeatures(degree=2)\n",
    "\n",
    "#fit and transform X_train_scaled\n",
    "X_train_degree2 = pf.fit_transform(X_train_scaled)\n",
    "\n",
    "#transform X_validate_scaled & X_test_scaled\n",
    "X_validate_degree2 = pf.transform(X_validate_scaled)\n",
    "X_test_degree2 = pf.transform(X_test_scaled)\n",
    "\n",
    "# make the model\n",
    "lm2 = LinearRegression(normalize=True)\n",
    "\n",
    "#fit the model to training data. \n",
    "lm2.fit(X_train_degree2, y_train.tax_value)\n",
    "\n",
    "#predict train\n",
    "y_train['tax_value_pred_lm2'] = lm2.predict(X_train_degree2)\n",
    "\n",
    "# evaluate: RMSE\n",
    "rmse_train = mean_squared_error(y_train.tax_value, y_train.tax_value_pred_lm2)**(1/2)\n",
    "\n",
    "#predict validate\n",
    "y_validate['tax_value_pred_lm2'] = lm2.predict(X_validate_degree2)\n",
    "\n",
    "# evaluate: RMSE\n",
    "rmse_validate = mean_squared_error(y_validate.tax_value, y_validate.tax_value_pred_lm2)**(1/2)\n",
    "\n",
    "print(\"RMSE for Polynomial Model, degrees=2\\nTraining In-Sample:  \", rmse_train, \"\\nValidation/Out-of-Sample:  \", rmse_validate)\n",
    "print(\"  \")\n",
    "print(\"Baseline RMSE using Mean \", \"\\nTrain/In-Sample:   398280.82\", \"\\nValidate/Out-of-Sample:   402221.78\")"
   ]
  },
  {
   "cell_type": "code",
   "execution_count": 60,
   "metadata": {},
   "outputs": [
    {
     "name": "stdout",
     "output_type": "stream",
     "text": [
      "R^2 for Polynomial Regression Model = 0.3711775479130145\n"
     ]
    }
   ],
   "source": [
    "#calculate R-squared value\n",
    "r_prm = r2_score(y_train.tax_value, y_train.tax_value_pred_lars)\n",
    "print(f\"R^2 for Polynomial Regression Model = {r_prm}\")"
   ]
  },
  {
   "cell_type": "markdown",
   "metadata": {},
   "source": [
    "<a id='Feature'></a>\n",
    "### ```Feature Engineering```"
   ]
  },
  {
   "cell_type": "markdown",
   "metadata": {},
   "source": [
    "### ```Takeaways:```\n",
    "- The five best predictors, according to **k best** are: bedrooms, bathrooms, age, square feet and county.\n",
    "- The five best predictors, according to **recursive feature elimination** are: bedrooms, bathrooms, square feet, lot size, and zip code. \n",
    "\n",
    "    \n",
    "<font color = 'green'> **I will use the following features to select the best model: Bathrooms, Age of Home, Square Feet, Zip Code**\n",
    "\n"
   ]
  },
  {
   "cell_type": "code",
   "execution_count": 61,
   "metadata": {},
   "outputs": [
    {
     "data": {
      "text/html": [
       "<div>\n",
       "<style scoped>\n",
       "    .dataframe tbody tr th:only-of-type {\n",
       "        vertical-align: middle;\n",
       "    }\n",
       "\n",
       "    .dataframe tbody tr th {\n",
       "        vertical-align: top;\n",
       "    }\n",
       "\n",
       "    .dataframe thead th {\n",
       "        text-align: right;\n",
       "    }\n",
       "</style>\n",
       "<table border=\"1\" class=\"dataframe\">\n",
       "  <thead>\n",
       "    <tr style=\"text-align: right;\">\n",
       "      <th></th>\n",
       "      <th>tax_value</th>\n",
       "      <th>tax_value_pred_lars</th>\n",
       "      <th>tax_value_pred_glm</th>\n",
       "      <th>tax_value_pred_lm2</th>\n",
       "    </tr>\n",
       "    <tr>\n",
       "      <th>parcel_id</th>\n",
       "      <th></th>\n",
       "      <th></th>\n",
       "      <th></th>\n",
       "      <th></th>\n",
       "    </tr>\n",
       "  </thead>\n",
       "  <tbody>\n",
       "    <tr>\n",
       "      <th>11640078</th>\n",
       "      <td>475281.000</td>\n",
       "      <td>1213008.410</td>\n",
       "      <td>1381808.886</td>\n",
       "      <td>1677163.601</td>\n",
       "    </tr>\n",
       "    <tr>\n",
       "      <th>10728405</th>\n",
       "      <td>605000.000</td>\n",
       "      <td>410234.147</td>\n",
       "      <td>407809.461</td>\n",
       "      <td>365010.917</td>\n",
       "    </tr>\n",
       "    <tr>\n",
       "      <th>17239776</th>\n",
       "      <td>542864.000</td>\n",
       "      <td>435780.909</td>\n",
       "      <td>421591.981</td>\n",
       "      <td>361595.721</td>\n",
       "    </tr>\n",
       "    <tr>\n",
       "      <th>11473641</th>\n",
       "      <td>120656.000</td>\n",
       "      <td>514764.849</td>\n",
       "      <td>479987.895</td>\n",
       "      <td>504671.620</td>\n",
       "    </tr>\n",
       "    <tr>\n",
       "      <th>12551066</th>\n",
       "      <td>234048.000</td>\n",
       "      <td>375898.528</td>\n",
       "      <td>390583.705</td>\n",
       "      <td>359513.309</td>\n",
       "    </tr>\n",
       "  </tbody>\n",
       "</table>\n",
       "</div>"
      ],
      "text/plain": [
       "           tax_value  tax_value_pred_lars  tax_value_pred_glm  \\\n",
       "parcel_id                                                       \n",
       "11640078  475281.000          1213008.410         1381808.886   \n",
       "10728405  605000.000           410234.147          407809.461   \n",
       "17239776  542864.000           435780.909          421591.981   \n",
       "11473641  120656.000           514764.849          479987.895   \n",
       "12551066  234048.000           375898.528          390583.705   \n",
       "\n",
       "           tax_value_pred_lm2  \n",
       "parcel_id                      \n",
       "11640078          1677163.601  \n",
       "10728405           365010.917  \n",
       "17239776           361595.721  \n",
       "11473641           504671.620  \n",
       "12551066           359513.309  "
      ]
     },
     "execution_count": 61,
     "metadata": {},
     "output_type": "execute_result"
    }
   ],
   "source": [
    "# cleaned up y_train\n",
    "y_train = y_train.drop(columns=['y_pred_median', 'y_pred_mean', \"tax_value_pred_lm\"])\n",
    "y_train.head()"
   ]
  },
  {
   "cell_type": "code",
   "execution_count": 62,
   "metadata": {},
   "outputs": [
    {
     "data": {
      "text/html": [
       "<div>\n",
       "<style scoped>\n",
       "    .dataframe tbody tr th:only-of-type {\n",
       "        vertical-align: middle;\n",
       "    }\n",
       "\n",
       "    .dataframe tbody tr th {\n",
       "        vertical-align: top;\n",
       "    }\n",
       "\n",
       "    .dataframe thead th {\n",
       "        text-align: right;\n",
       "    }\n",
       "</style>\n",
       "<table border=\"1\" class=\"dataframe\">\n",
       "  <thead>\n",
       "    <tr style=\"text-align: right;\">\n",
       "      <th></th>\n",
       "      <th>bedrooms</th>\n",
       "      <th>bathrooms</th>\n",
       "      <th>age</th>\n",
       "      <th>square_feet</th>\n",
       "      <th>lot_size</th>\n",
       "      <th>zip_code</th>\n",
       "      <th>fips</th>\n",
       "    </tr>\n",
       "  </thead>\n",
       "  <tbody>\n",
       "    <tr>\n",
       "      <th>11640078</th>\n",
       "      <td>0.500</td>\n",
       "      <td>1.000</td>\n",
       "      <td>0.464</td>\n",
       "      <td>0.608</td>\n",
       "      <td>0.004</td>\n",
       "      <td>0.076</td>\n",
       "      <td>0.000</td>\n",
       "    </tr>\n",
       "    <tr>\n",
       "      <th>10728405</th>\n",
       "      <td>0.333</td>\n",
       "      <td>0.200</td>\n",
       "      <td>0.406</td>\n",
       "      <td>0.160</td>\n",
       "      <td>0.001</td>\n",
       "      <td>0.264</td>\n",
       "      <td>0.000</td>\n",
       "    </tr>\n",
       "    <tr>\n",
       "      <th>17239776</th>\n",
       "      <td>0.333</td>\n",
       "      <td>0.200</td>\n",
       "      <td>0.377</td>\n",
       "      <td>0.192</td>\n",
       "      <td>0.001</td>\n",
       "      <td>0.833</td>\n",
       "      <td>1.000</td>\n",
       "    </tr>\n",
       "    <tr>\n",
       "      <th>11473641</th>\n",
       "      <td>0.333</td>\n",
       "      <td>0.200</td>\n",
       "      <td>0.529</td>\n",
       "      <td>0.193</td>\n",
       "      <td>0.001</td>\n",
       "      <td>0.089</td>\n",
       "      <td>0.000</td>\n",
       "    </tr>\n",
       "    <tr>\n",
       "      <th>12551066</th>\n",
       "      <td>0.333</td>\n",
       "      <td>0.200</td>\n",
       "      <td>0.457</td>\n",
       "      <td>0.122</td>\n",
       "      <td>0.000</td>\n",
       "      <td>0.193</td>\n",
       "      <td>0.000</td>\n",
       "    </tr>\n",
       "  </tbody>\n",
       "</table>\n",
       "</div>"
      ],
      "text/plain": [
       "          bedrooms  bathrooms   age  square_feet  lot_size  zip_code  fips\n",
       "11640078     0.500      1.000 0.464        0.608     0.004     0.076 0.000\n",
       "10728405     0.333      0.200 0.406        0.160     0.001     0.264 0.000\n",
       "17239776     0.333      0.200 0.377        0.192     0.001     0.833 1.000\n",
       "11473641     0.333      0.200 0.529        0.193     0.001     0.089 0.000\n",
       "12551066     0.333      0.200 0.457        0.122     0.000     0.193 0.000"
      ]
     },
     "execution_count": 62,
     "metadata": {},
     "output_type": "execute_result"
    }
   ],
   "source": [
    "# X_train_scaled = X_train_scaled.drop(columns=['taxes'])\n",
    "X_train_scaled.head()"
   ]
  },
  {
   "cell_type": "code",
   "execution_count": 63,
   "metadata": {},
   "outputs": [
    {
     "data": {
      "text/html": [
       "<div>\n",
       "<style scoped>\n",
       "    .dataframe tbody tr th:only-of-type {\n",
       "        vertical-align: middle;\n",
       "    }\n",
       "\n",
       "    .dataframe tbody tr th {\n",
       "        vertical-align: top;\n",
       "    }\n",
       "\n",
       "    .dataframe thead th {\n",
       "        text-align: right;\n",
       "    }\n",
       "</style>\n",
       "<table border=\"1\" class=\"dataframe\">\n",
       "  <thead>\n",
       "    <tr style=\"text-align: right;\">\n",
       "      <th></th>\n",
       "      <th>tax_value</th>\n",
       "      <th>tax_value_pred_lars</th>\n",
       "      <th>tax_value_pred_glm</th>\n",
       "      <th>tax_value_pred_lm2</th>\n",
       "    </tr>\n",
       "    <tr>\n",
       "      <th>parcel_id</th>\n",
       "      <th></th>\n",
       "      <th></th>\n",
       "      <th></th>\n",
       "      <th></th>\n",
       "    </tr>\n",
       "  </thead>\n",
       "  <tbody>\n",
       "    <tr>\n",
       "      <th>11640078</th>\n",
       "      <td>475281.000</td>\n",
       "      <td>1213008.410</td>\n",
       "      <td>1381808.886</td>\n",
       "      <td>1677163.601</td>\n",
       "    </tr>\n",
       "    <tr>\n",
       "      <th>10728405</th>\n",
       "      <td>605000.000</td>\n",
       "      <td>410234.147</td>\n",
       "      <td>407809.461</td>\n",
       "      <td>365010.917</td>\n",
       "    </tr>\n",
       "    <tr>\n",
       "      <th>17239776</th>\n",
       "      <td>542864.000</td>\n",
       "      <td>435780.909</td>\n",
       "      <td>421591.981</td>\n",
       "      <td>361595.721</td>\n",
       "    </tr>\n",
       "    <tr>\n",
       "      <th>11473641</th>\n",
       "      <td>120656.000</td>\n",
       "      <td>514764.849</td>\n",
       "      <td>479987.895</td>\n",
       "      <td>504671.620</td>\n",
       "    </tr>\n",
       "    <tr>\n",
       "      <th>12551066</th>\n",
       "      <td>234048.000</td>\n",
       "      <td>375898.528</td>\n",
       "      <td>390583.705</td>\n",
       "      <td>359513.309</td>\n",
       "    </tr>\n",
       "  </tbody>\n",
       "</table>\n",
       "</div>"
      ],
      "text/plain": [
       "           tax_value  tax_value_pred_lars  tax_value_pred_glm  \\\n",
       "parcel_id                                                       \n",
       "11640078  475281.000          1213008.410         1381808.886   \n",
       "10728405  605000.000           410234.147          407809.461   \n",
       "17239776  542864.000           435780.909          421591.981   \n",
       "11473641  120656.000           514764.849          479987.895   \n",
       "12551066  234048.000           375898.528          390583.705   \n",
       "\n",
       "           tax_value_pred_lm2  \n",
       "parcel_id                      \n",
       "11640078          1677163.601  \n",
       "10728405           365010.917  \n",
       "17239776           361595.721  \n",
       "11473641           504671.620  \n",
       "12551066           359513.309  "
      ]
     },
     "execution_count": 63,
     "metadata": {},
     "output_type": "execute_result"
    }
   ],
   "source": [
    "y_train.head()"
   ]
  },
  {
   "cell_type": "code",
   "execution_count": 64,
   "metadata": {},
   "outputs": [
    {
     "name": "stdout",
     "output_type": "stream",
     "text": [
      "The five best predictors, according to k best are: ['bedrooms', 'bathrooms', 'age', 'square_feet', 'fips'].\n"
     ]
    }
   ],
   "source": [
    "from sklearn.feature_selection import SelectKBest, f_regression\n",
    "\n",
    "# parameters: f_regression stats test, give me 5 features\n",
    "f_selector = SelectKBest(f_regression, k=5)\n",
    "\n",
    "# drop additional columns in y_train\n",
    "y_train_org = y_train.drop(columns = [\"tax_value_pred_lars\", \"tax_value_pred_glm\", \"tax_value_pred_lm2\"])\n",
    "\n",
    "# find the top 2 X's correlated with y\n",
    "f_selector.fit(X_train_scaled, y_train_org)\n",
    "\n",
    "# boolean mask of whether the column was selected or not. \n",
    "#get_support() produces an array of booleans, so we can filter out the column names that matter the most\n",
    "feature_mask = f_selector.get_support()\n",
    "\n",
    "# get list of top 2 features. \n",
    "f_feature = X_validate_scaled.iloc[:,feature_mask].columns.tolist()\n",
    "f_feature\n",
    "print(f'The five best predictors, according to k best are: {f_feature}.')"
   ]
  },
  {
   "cell_type": "code",
   "execution_count": 65,
   "metadata": {},
   "outputs": [
    {
     "name": "stdout",
     "output_type": "stream",
     "text": [
      "The five best predictors, according to recursive feature elimination are: ['bedrooms', 'bathrooms', 'square_feet', 'lot_size', 'zip_code'].\n"
     ]
    }
   ],
   "source": [
    "from sklearn.linear_model import LinearRegression\n",
    "from sklearn.feature_selection import RFE\n",
    "\n",
    "# initialize the ML algorithm\n",
    "lm = LinearRegression()\n",
    "\n",
    "# create the rfe object, indicating the ML object (lm) and the number of features I want to end up with. \n",
    "rfe = RFE(lm, 5)\n",
    "\n",
    "# fit the data using RFE\n",
    "rfe.fit(X_train_scaled,y_train)  \n",
    "\n",
    "# get the mask of the columns selected\n",
    "feature_mask = rfe.support_\n",
    "\n",
    "# get list of the column names. \n",
    "rfe_feature = X_train_scaled.iloc[:,feature_mask].columns.tolist()\n",
    "\n",
    "rfe_feature\n",
    "print(f'The five best predictors, according to recursive feature elimination are: {rfe_feature}.')"
   ]
  },
  {
   "cell_type": "markdown",
   "metadata": {},
   "source": [
    "# Rerun all models using Engineered Features"
   ]
  },
  {
   "cell_type": "markdown",
   "metadata": {},
   "source": [
    "### ```Takeaways using Engineered Features:```\n",
    "\n",
    "**Modeling on Engineered Features:**\n",
    "- Bathrooms, Age of Home, Square Feet, Zip Code\n",
    "- All models beat baseline\n",
    "- **Polynomial Regression (degree of 2) had the smallest error**\n",
    "\n",
    "- **Use Polynomial Regression (degree of 2) to predict values on test data.**\n",
    "\n",
    "**Comparing RMSE on Validate (Out-of-Sample) Data Set with Engineered Features**\n",
    "\n",
    "<font color = 'blue'>**402221.78 = Baseline RMSE using Mean** \n",
    "\n",
    "<font color = 'green'>**316093.75 = Polynomial Regression, Degree of 2**\n",
    "    \n",
    "322795.49 = GLM using Tweedie Regressor\n",
    "    \n",
    "323047.03 = OLS using LinearRegression\n",
    "    \n",
    "323050.96 = Lasso + Lars\n",
    "    "
   ]
  },
  {
   "cell_type": "code",
   "execution_count": 66,
   "metadata": {},
   "outputs": [],
   "source": [
    "X_train_scaled.head()\n",
    "X_train_fe = X_train_scaled.drop(columns=['fips','bedrooms','lot_size'])\n",
    "X_validate_fe = X_validate_scaled.drop(columns=['fips', 'bedrooms','lot_size'])\n",
    "X_test_fe = X_test_scaled.drop(columns=['fips', 'bedrooms','lot_size'])\n",
    "X_test_final = X_test.drop(columns=['fips', 'bedrooms','lot_size'])"
   ]
  },
  {
   "cell_type": "markdown",
   "metadata": {},
   "source": [
    "####  ```Ordinary Lease Squares (OLS) Model after Feature Engineering```"
   ]
  },
  {
   "cell_type": "code",
   "execution_count": 67,
   "metadata": {},
   "outputs": [],
   "source": [
    "# make the model\n",
    "lm = LinearRegression(normalize=True)\n",
    "\n",
    "#fit the model to training data. \n",
    "lm.fit(X_train_fe, y_train.tax_value)\n",
    "\n",
    "#predict train\n",
    "y_train['tax_value_pred_lm'] = lm.predict(X_train_fe)"
   ]
  },
  {
   "cell_type": "code",
   "execution_count": 68,
   "metadata": {},
   "outputs": [
    {
     "name": "stdout",
     "output_type": "stream",
     "text": [
      "RMSE for OLS using LinearRegression\n",
      "Training In-Sample after Feature Engineering:   320456.31984663004 \n",
      "Validation/Out-of-Sample after Feature Engineering:   323047.0301683315\n",
      "  \n",
      "Baseline RMSE using Mean  \n",
      "Train/In-Sample:   398280.82 \n",
      "Validate/Out-of-Sample:   402221.78\n"
     ]
    }
   ],
   "source": [
    "#predict train\n",
    "y_train['tax_value_pred_lm'] = lm.predict(X_train_fe)\n",
    "\n",
    "#evaluate: RMSE\n",
    "rmse_train = mean_squared_error(y_train.tax_value, y_train.tax_value_pred_lm)**(1/2)\n",
    "\n",
    "#predict validate\n",
    "y_validate['tax_value_pred_lm'] = lm.predict(X_validate_fe)\n",
    "\n",
    "# evaluate: RMSE\n",
    "rmse_validate = mean_squared_error(y_validate.tax_value, y_validate.tax_value_pred_lm)**(1/2)\n",
    "\n",
    "print(\"RMSE for OLS using LinearRegression\\nTraining In-Sample after Feature Engineering:  \", rmse_train, \"\\nValidation/Out-of-Sample after Feature Engineering:  \", rmse_validate)\n",
    "print(\"  \")\n",
    "print(\"Baseline RMSE using Mean \", \"\\nTrain/In-Sample:   398280.82\", \"\\nValidate/Out-of-Sample:   402221.78\")"
   ]
  },
  {
   "cell_type": "code",
   "execution_count": 69,
   "metadata": {},
   "outputs": [
    {
     "name": "stdout",
     "output_type": "stream",
     "text": [
      "R^2 for OLS Model after Feature Engineering = 0.3526205826795683\n"
     ]
    }
   ],
   "source": [
    "#calculate R-squared value\n",
    "r_ols = r2_score(y_train.tax_value, y_train.tax_value_pred_lm)\n",
    "print(f\"R^2 for OLS Model after Feature Engineering = {r_ols}\")"
   ]
  },
  {
   "cell_type": "markdown",
   "metadata": {},
   "source": [
    "####  ```LassoLars Model after Feature Engineering```"
   ]
  },
  {
   "cell_type": "code",
   "execution_count": 70,
   "metadata": {},
   "outputs": [
    {
     "name": "stdout",
     "output_type": "stream",
     "text": [
      "RMSE for Lasso + Lars\n",
      "Training\\In-Sample after Feature Engineering:   320456.430274938 \n",
      "Validation/Out-of-Sample after Feature Engineering:   323050.96145580575\n",
      "  \n",
      "Baseline RMSE using Mean  \n",
      "Train/In-Sample:   398280.82 \n",
      "Validate/Out-of-Sample:   402221.78\n"
     ]
    }
   ],
   "source": [
    "#create the model\n",
    "lars = LassoLars(alpha = 1.0)\n",
    "\n",
    "#fit the model to training data\n",
    "lars.fit(X_train_fe, y_train.tax_value)\n",
    "\n",
    "#predict train\n",
    "y_train['tax_value_pred_lars'] = lars.predict(X_train_fe)\n",
    "\n",
    "#evaluate: rmse\n",
    "rmse_train = mean_squared_error(y_train.tax_value,y_train.tax_value_pred_lars)**(1/2)\n",
    "\n",
    "#predict validate\n",
    "y_validate['tax_value_pred_lars'] = lars.predict(X_validate_fe)\n",
    "\n",
    "#evaluate: rmse\n",
    "rmse_validate = mean_squared_error(y_validate.tax_value,y_validate.tax_value_pred_lars)**(1/2)\n",
    "\n",
    "print(\"RMSE for Lasso + Lars\\nTraining\\In-Sample after Feature Engineering:  \", rmse_train, \"\\nValidation/Out-of-Sample after Feature Engineering:  \", rmse_validate)\n",
    "print(\"  \")\n",
    "print(\"Baseline RMSE using Mean \", \"\\nTrain/In-Sample:   398280.82\", \"\\nValidate/Out-of-Sample:   402221.78\")"
   ]
  },
  {
   "cell_type": "code",
   "execution_count": 71,
   "metadata": {},
   "outputs": [
    {
     "name": "stdout",
     "output_type": "stream",
     "text": [
      "R^2 for LassoLars Model after Feature Engineering = 0.3526201365093944\n"
     ]
    }
   ],
   "source": [
    "#calculate R-squared value\n",
    "r_lars = r2_score(y_train.tax_value, y_train.tax_value_pred_lars)\n",
    "print(f\"R^2 for LassoLars Model after Feature Engineering = {r_lars}\")"
   ]
  },
  {
   "cell_type": "markdown",
   "metadata": {},
   "source": [
    "#### ```TweedieRegressor (GLM - Generalized Linear Model) after Feature Engineering```"
   ]
  },
  {
   "cell_type": "code",
   "execution_count": 72,
   "metadata": {},
   "outputs": [
    {
     "name": "stdout",
     "output_type": "stream",
     "text": [
      "RMSE for GLM using Tweedie, power = 1 & alpha = 0\n",
      "Training/In-Sample after Feature Engineering:   321999.60182000115 \n",
      "Validation/Out-of-Sample after Feature Engineering:   322795.49413647124\n",
      "  \n",
      "Baseline RMSE using Mean  \n",
      "Train/In-Sample:   398280.82 \n",
      "Validate/Out-of-Sample:   402221.78\n"
     ]
    }
   ],
   "source": [
    "#create the model object\n",
    "glm = TweedieRegressor(power=1, alpha=.5)\n",
    "\n",
    "#fit the model to training data\n",
    "glm.fit(X_train_fe,y_train.tax_value)\n",
    "\n",
    "#predict train\n",
    "y_train['tax_value_pred_glm']=glm.predict(X_train_fe)\n",
    "\n",
    "#evaluate: rmse\n",
    "rmse_train = mean_squared_error(y_train.tax_value,y_train.tax_value_pred_glm)**(1/2)\n",
    "\n",
    "#predict validate\n",
    "y_validate['tax_value_pred_glm']=glm.predict(X_validate_fe)\n",
    "\n",
    "#evaluate: rmse\n",
    "rmse_validate = mean_squared_error(y_validate.tax_value,y_validate.tax_value_pred_glm)**(1/2)\n",
    "\n",
    "print(\"RMSE for GLM using Tweedie, power = 1 & alpha = 0\\nTraining/In-Sample after Feature Engineering:  \", rmse_train, \"\\nValidation/Out-of-Sample after Feature Engineering:  \", rmse_validate)\n",
    "print(\"  \")\n",
    "print(\"Baseline RMSE using Mean \", \"\\nTrain/In-Sample:   398280.82\", \"\\nValidate/Out-of-Sample:   402221.78\")"
   ]
  },
  {
   "cell_type": "code",
   "execution_count": 73,
   "metadata": {},
   "outputs": [
    {
     "name": "stdout",
     "output_type": "stream",
     "text": [
      "R^2 for TweedieRegressor / Generalized Linear Model after Feature Engineering = 0.3463701536922845\n"
     ]
    }
   ],
   "source": [
    "#calculate R-squared value\n",
    "r_glm = r2_score(y_train.tax_value, y_train.tax_value_pred_glm)\n",
    "print(f\"R^2 for TweedieRegressor / Generalized Linear Model after Feature Engineering = {r_glm}\")"
   ]
  },
  {
   "cell_type": "markdown",
   "metadata": {},
   "source": [
    "### ```Polynomial Regression Model after Feature Engineering - Create Polynomial Features, Then Linear Regression```"
   ]
  },
  {
   "cell_type": "code",
   "execution_count": 74,
   "metadata": {},
   "outputs": [
    {
     "name": "stdout",
     "output_type": "stream",
     "text": [
      "RMSE for Polynomial Model, degrees=2\n",
      "Training In-Sample after Feature Engineering:   314806.81569003756 \n",
      "Validation/Out-of-Sample after Feature Engineering:   316093.75115403073\n",
      "  \n",
      "Baseline RMSE using Mean  \n",
      "Train/In-Sample:   398280.82 \n",
      "Validate/Out-of-Sample:   402221.78\n"
     ]
    }
   ],
   "source": [
    "# make the polynomial fetures to get a new set of features\n",
    "pf = PolynomialFeatures(degree=2)\n",
    "\n",
    "#fit and transform X_train_scaled\n",
    "X_train_degree2 = pf.fit_transform(X_train_fe)\n",
    "\n",
    "#transform X_validate_scaled & X_test_scaled\n",
    "X_validate_degree2 = pf.transform(X_validate_fe)\n",
    "X_test_degree2 = pf.transform(X_test_fe)\n",
    "\n",
    "# make the model\n",
    "lm2 = LinearRegression(normalize=True)\n",
    "\n",
    "#fit the model to training data. \n",
    "lm2.fit(X_train_degree2, y_train.tax_value)\n",
    "\n",
    "#predict train\n",
    "y_train['tax_value_pred_lm2'] = lm2.predict(X_train_degree2)\n",
    "\n",
    "# evaluate: RMSE\n",
    "rmse_train = mean_squared_error(y_train.tax_value, y_train.tax_value_pred_lm2)**(1/2)\n",
    "\n",
    "#predict validate\n",
    "y_validate['tax_value_pred_lm2'] = lm2.predict(X_validate_degree2)\n",
    "\n",
    "# evaluate: RMSE\n",
    "rmse_validate = mean_squared_error(y_validate.tax_value, y_validate.tax_value_pred_lm2)**(1/2)\n",
    "\n",
    "print(\"RMSE for Polynomial Model, degrees=2\\nTraining In-Sample after Feature Engineering:  \", rmse_train, \"\\nValidation/Out-of-Sample after Feature Engineering:  \", rmse_validate)\n",
    "print(\"  \")\n",
    "print(\"Baseline RMSE using Mean \", \"\\nTrain/In-Sample:   398280.82\", \"\\nValidate/Out-of-Sample:   402221.78\")"
   ]
  },
  {
   "cell_type": "code",
   "execution_count": 75,
   "metadata": {},
   "outputs": [
    {
     "name": "stdout",
     "output_type": "stream",
     "text": [
      "R^2 for Polynomial Regression Model after Feature Engineering= 0.3526201365093944\n"
     ]
    }
   ],
   "source": [
    "#calculate R-squared value\n",
    "r_prm = r2_score(y_train.tax_value, y_train.tax_value_pred_lars)\n",
    "print(f\"R^2 for Polynomial Regression Model after Feature Engineering= {r_prm}\")"
   ]
  },
  {
   "cell_type": "markdown",
   "metadata": {},
   "source": [
    "<a id='Test'></a>\n",
    "### ```Modeling on the Test Data Set```"
   ]
  },
  {
   "cell_type": "code",
   "execution_count": 76,
   "metadata": {},
   "outputs": [
    {
     "data": {
      "text/html": [
       "<div>\n",
       "<style scoped>\n",
       "    .dataframe tbody tr th:only-of-type {\n",
       "        vertical-align: middle;\n",
       "    }\n",
       "\n",
       "    .dataframe tbody tr th {\n",
       "        vertical-align: top;\n",
       "    }\n",
       "\n",
       "    .dataframe thead th {\n",
       "        text-align: right;\n",
       "    }\n",
       "</style>\n",
       "<table border=\"1\" class=\"dataframe\">\n",
       "  <thead>\n",
       "    <tr style=\"text-align: right;\">\n",
       "      <th></th>\n",
       "      <th>bathrooms</th>\n",
       "      <th>age</th>\n",
       "      <th>square_feet</th>\n",
       "      <th>zip_code</th>\n",
       "    </tr>\n",
       "  </thead>\n",
       "  <tbody>\n",
       "    <tr>\n",
       "      <th>14383004</th>\n",
       "      <td>0.200</td>\n",
       "      <td>0.283</td>\n",
       "      <td>0.535</td>\n",
       "      <td>0.726</td>\n",
       "    </tr>\n",
       "    <tr>\n",
       "      <th>12121210</th>\n",
       "      <td>0.000</td>\n",
       "      <td>0.630</td>\n",
       "      <td>0.101</td>\n",
       "      <td>0.230</td>\n",
       "    </tr>\n",
       "    <tr>\n",
       "      <th>12548132</th>\n",
       "      <td>0.200</td>\n",
       "      <td>0.196</td>\n",
       "      <td>0.127</td>\n",
       "      <td>0.186</td>\n",
       "    </tr>\n",
       "    <tr>\n",
       "      <th>11089278</th>\n",
       "      <td>0.400</td>\n",
       "      <td>0.406</td>\n",
       "      <td>0.356</td>\n",
       "      <td>0.274</td>\n",
       "    </tr>\n",
       "    <tr>\n",
       "      <th>10795677</th>\n",
       "      <td>0.200</td>\n",
       "      <td>0.428</td>\n",
       "      <td>0.206</td>\n",
       "      <td>0.299</td>\n",
       "    </tr>\n",
       "  </tbody>\n",
       "</table>\n",
       "</div>"
      ],
      "text/plain": [
       "          bathrooms   age  square_feet  zip_code\n",
       "14383004      0.200 0.283        0.535     0.726\n",
       "12121210      0.000 0.630        0.101     0.230\n",
       "12548132      0.200 0.196        0.127     0.186\n",
       "11089278      0.400 0.406        0.356     0.274\n",
       "10795677      0.200 0.428        0.206     0.299"
      ]
     },
     "execution_count": 76,
     "metadata": {},
     "output_type": "execute_result"
    }
   ],
   "source": [
    "# verify we are using the same, scaled and engineered features as were used on train and validate models\n",
    "X_test_fe.head()"
   ]
  },
  {
   "cell_type": "markdown",
   "metadata": {},
   "source": [
    "### ```Polynomial Regression Model on Test (degree of 2) Data```"
   ]
  },
  {
   "cell_type": "markdown",
   "metadata": {},
   "source": [
    "#### ```Takeaways from Evaluating Test Data on RMSE for Polynomial Model, degrees=2```\n",
    "\n",
    "RMSE of Test/Out-of-Sample after Feature Engineering:   316093.75\n",
    "  \n",
    "Baseline RMSE using Mean: 402221.78\n",
    "\n",
    "**Our model performs better than baseline and can be used to predict home values based on bathroom count, age of home, square footage and zip code.**"
   ]
  },
  {
   "cell_type": "code",
   "execution_count": 77,
   "metadata": {},
   "outputs": [
    {
     "name": "stdout",
     "output_type": "stream",
     "text": [
      "RMSE for Polynomial Model, degrees=2\n",
      "Test/Out-of-Sample after Feature Engineering:   316093.75115403073\n",
      "  \n",
      "Baseline RMSE using Mean  \n",
      "Test/Out-of-Sample:   402221.78\n"
     ]
    }
   ],
   "source": [
    "# make the polynomial fetures to get a new set of features\n",
    "pf = PolynomialFeatures(degree=2)\n",
    "\n",
    "#fit and transform X_train_scaled\n",
    "X_train_degree2 = pf.fit_transform(X_train_fe)\n",
    "\n",
    "#transform X_validate_scaled & X_test_scaled\n",
    "X_validate_degree2 = pf.transform(X_validate_fe)\n",
    "X_test_degree2 = pf.transform(X_test_fe)\n",
    "\n",
    "\n",
    "# make the model\n",
    "lm2 = LinearRegression(normalize=True)\n",
    "\n",
    "#fit the model to training data. \n",
    "lm2a = lm2.fit(X_train_degree2, y_train.tax_value)\n",
    "\n",
    "#predict test\n",
    "y_test['tax_value_pred_lm2'] = lm2a.predict(X_test_degree2)\n",
    "\n",
    "# evaluate: RMSE\n",
    "rmse_test = mean_squared_error(y_test.tax_value, y_test.tax_value_pred_lm2)**(1/2)\n",
    "\n",
    "print(\"RMSE for Polynomial Model, degrees=2\\nTest/Out-of-Sample after Feature Engineering:  \", rmse_validate)\n",
    "print(\"  \")\n",
    "print(\"Baseline RMSE using Mean \", \"\\nTest/Out-of-Sample:   402221.78\")"
   ]
  },
  {
   "cell_type": "markdown",
   "metadata": {},
   "source": [
    "<a id='Visual'></a>\n",
    "### ```Final Model Visualizations```"
   ]
  },
  {
   "cell_type": "code",
   "execution_count": 78,
   "metadata": {},
   "outputs": [
    {
     "data": {
      "image/png": "[encoded data removed]",
      "text/plain": [
       "<Figure size 1152x576 with 1 Axes>"
      ]
     },
     "metadata": {
      "needs_background": "light"
     },
     "output_type": "display_data"
    }
   ],
   "source": [
    "plt.figure(figsize=(16,8))\n",
    "plt.plot(y_validate.tax_value, y_validate.y_pred_mean, alpha=.5, color=\"gray\", label='Baseline (predicted = mean tax value')\n",
    "plt.plot(y_validate.tax_value, y_validate.tax_value, alpha=.999, color=\"blue\", label='Ideal Line (predicted = actual)')\n",
    "# plt.scatter(y_validate.tax_value, y_validate.tax_value_pred_lm, \n",
    "#             alpha=.75, color=\"red\", s=100, label=\"Model: LinearRegression\")\n",
    "# plt.scatter(y_validate.tax_value, y_validate.tax_value_pred_glm, \n",
    "#             alpha=.25, color=\"blue\", s=100, label=\"Model: TweedieRegressor\")\n",
    "plt.scatter(y_test.tax_value, y_test.tax_value_pred_lm2, \n",
    "            alpha=.45, color=\"yellow\", s=100, label=\"Model 2nd degree Polynomial\")\n",
    "plt.legend()\n",
    "plt.xlabel(\"Actual Tax Value\")\n",
    "plt.ylabel(\"Predicted Tax Value\")\n",
    "plt.title(\"Predicting Tax Values using Polynomial Regression Model on Test Data\")\n",
    "plt.show()"
   ]
  },
  {
   "cell_type": "markdown",
   "metadata": {},
   "source": [
    "### ```Takeaways:```\n",
    "The scatterplot demonstrates that our model tends to under-value homes that exceed the median tax value of ~$408,000."
   ]
  },
  {
   "cell_type": "code",
   "execution_count": 79,
   "metadata": {},
   "outputs": [
    {
     "data": {
      "text/plain": [
       "407557.5"
      ]
     },
     "execution_count": 79,
     "metadata": {},
     "output_type": "execute_result"
    }
   ],
   "source": [
    "# Check for median tax value (because it should ~ 1.5 scaled value)\n",
    "y_test.tax_value.median()"
   ]
  },
  {
   "cell_type": "code",
   "execution_count": 80,
   "metadata": {},
   "outputs": [
    {
     "data": {
      "image/png": "[encoded data removed]",
      "text/plain": [
       "<Figure size 1152x576 with 1 Axes>"
      ]
     },
     "metadata": {
      "needs_background": "light"
     },
     "output_type": "display_data"
    }
   ],
   "source": [
    "# y_validate.head()\n",
    "plt.figure(figsize=(16,8))\n",
    "plt.axhline(label=\"No Error\")\n",
    "plt.scatter(y_test.tax_value, y_test.tax_value_pred_lm2 - y_test.tax_value, \n",
    "            alpha=.45, color=\"yellow\", s=100, label=\"Model 2nd degree Polynomial\")\n",
    "plt.legend()\n",
    "plt.xlabel(\"Actual Tax Value\")\n",
    "plt.ylabel(\"Residual/Error: Predicted Tax Value - Tax Value\")\n",
    "plt.title(\"Do the size of errors change as the actual value changes?\")\n",
    "plt.show()"
   ]
  },
  {
   "cell_type": "code",
   "execution_count": 81,
   "metadata": {},
   "outputs": [
    {
     "data": {
      "text/html": [
       "<div>\n",
       "<style scoped>\n",
       "    .dataframe tbody tr th:only-of-type {\n",
       "        vertical-align: middle;\n",
       "    }\n",
       "\n",
       "    .dataframe tbody tr th {\n",
       "        vertical-align: top;\n",
       "    }\n",
       "\n",
       "    .dataframe thead th {\n",
       "        text-align: right;\n",
       "    }\n",
       "</style>\n",
       "<table border=\"1\" class=\"dataframe\">\n",
       "  <thead>\n",
       "    <tr style=\"text-align: right;\">\n",
       "      <th></th>\n",
       "      <th>tax_value</th>\n",
       "      <th>tax_value_pred_lm2</th>\n",
       "      <th>errors</th>\n",
       "    </tr>\n",
       "    <tr>\n",
       "      <th>parcel_id</th>\n",
       "      <th></th>\n",
       "      <th></th>\n",
       "      <th></th>\n",
       "    </tr>\n",
       "  </thead>\n",
       "  <tbody>\n",
       "    <tr>\n",
       "      <th>14383004</th>\n",
       "      <td>673097.000</td>\n",
       "      <td>814394.455</td>\n",
       "      <td>141297.455</td>\n",
       "    </tr>\n",
       "    <tr>\n",
       "      <th>12121210</th>\n",
       "      <td>179190.000</td>\n",
       "      <td>393283.430</td>\n",
       "      <td>214093.430</td>\n",
       "    </tr>\n",
       "    <tr>\n",
       "      <th>12548132</th>\n",
       "      <td>665144.000</td>\n",
       "      <td>383719.339</td>\n",
       "      <td>-281424.661</td>\n",
       "    </tr>\n",
       "    <tr>\n",
       "      <th>11089278</th>\n",
       "      <td>163714.000</td>\n",
       "      <td>652049.835</td>\n",
       "      <td>488335.835</td>\n",
       "    </tr>\n",
       "    <tr>\n",
       "      <th>10795677</th>\n",
       "      <td>246828.000</td>\n",
       "      <td>442847.683</td>\n",
       "      <td>196019.683</td>\n",
       "    </tr>\n",
       "    <tr>\n",
       "      <th>...</th>\n",
       "      <td>...</td>\n",
       "      <td>...</td>\n",
       "      <td>...</td>\n",
       "    </tr>\n",
       "    <tr>\n",
       "      <th>17224893</th>\n",
       "      <td>920959.000</td>\n",
       "      <td>1500363.415</td>\n",
       "      <td>579404.415</td>\n",
       "    </tr>\n",
       "    <tr>\n",
       "      <th>13085759</th>\n",
       "      <td>370734.000</td>\n",
       "      <td>397794.392</td>\n",
       "      <td>27060.392</td>\n",
       "    </tr>\n",
       "    <tr>\n",
       "      <th>14015760</th>\n",
       "      <td>133624.000</td>\n",
       "      <td>352380.406</td>\n",
       "      <td>218756.406</td>\n",
       "    </tr>\n",
       "    <tr>\n",
       "      <th>12342691</th>\n",
       "      <td>367771.000</td>\n",
       "      <td>336162.747</td>\n",
       "      <td>-31608.253</td>\n",
       "    </tr>\n",
       "    <tr>\n",
       "      <th>14221978</th>\n",
       "      <td>140644.000</td>\n",
       "      <td>626339.266</td>\n",
       "      <td>485695.266</td>\n",
       "    </tr>\n",
       "  </tbody>\n",
       "</table>\n",
       "<p>6052 rows × 3 columns</p>\n",
       "</div>"
      ],
      "text/plain": [
       "           tax_value  tax_value_pred_lm2      errors\n",
       "parcel_id                                           \n",
       "14383004  673097.000          814394.455  141297.455\n",
       "12121210  179190.000          393283.430  214093.430\n",
       "12548132  665144.000          383719.339 -281424.661\n",
       "11089278  163714.000          652049.835  488335.835\n",
       "10795677  246828.000          442847.683  196019.683\n",
       "...              ...                 ...         ...\n",
       "17224893  920959.000         1500363.415  579404.415\n",
       "13085759  370734.000          397794.392   27060.392\n",
       "14015760  133624.000          352380.406  218756.406\n",
       "12342691  367771.000          336162.747  -31608.253\n",
       "14221978  140644.000          626339.266  485695.266\n",
       "\n",
       "[6052 rows x 3 columns]"
      ]
     },
     "execution_count": 81,
     "metadata": {},
     "output_type": "execute_result"
    }
   ],
   "source": [
    "\n",
    "y_test['errors'] = (y_test.tax_value_pred_lm2 - y_test.tax_value)\n",
    "y_test"
   ]
  },
  {
   "cell_type": "markdown",
   "metadata": {},
   "source": [
    "# ```Distribution of Tax Rates by County```"
   ]
  },
  {
   "cell_type": "code",
   "execution_count": 82,
   "metadata": {},
   "outputs": [],
   "source": [
    "# created a new data frame to calculate tax distribution\n",
    "tax_rates = df"
   ]
  },
  {
   "cell_type": "code",
   "execution_count": 83,
   "metadata": {},
   "outputs": [
    {
     "data": {
      "text/html": [
       "<div>\n",
       "<style scoped>\n",
       "    .dataframe tbody tr th:only-of-type {\n",
       "        vertical-align: middle;\n",
       "    }\n",
       "\n",
       "    .dataframe tbody tr th {\n",
       "        vertical-align: top;\n",
       "    }\n",
       "\n",
       "    .dataframe thead th {\n",
       "        text-align: right;\n",
       "    }\n",
       "</style>\n",
       "<table border=\"1\" class=\"dataframe\">\n",
       "  <thead>\n",
       "    <tr style=\"text-align: right;\">\n",
       "      <th></th>\n",
       "      <th>fips</th>\n",
       "      <th>tax_value</th>\n",
       "      <th>taxes</th>\n",
       "    </tr>\n",
       "    <tr>\n",
       "      <th>parcel_id</th>\n",
       "      <th></th>\n",
       "      <th></th>\n",
       "      <th></th>\n",
       "    </tr>\n",
       "  </thead>\n",
       "  <tbody>\n",
       "    <tr>\n",
       "      <th>11721753</th>\n",
       "      <td>6037</td>\n",
       "      <td>205123.000</td>\n",
       "      <td>2627.480</td>\n",
       "    </tr>\n",
       "  </tbody>\n",
       "</table>\n",
       "</div>"
      ],
      "text/plain": [
       "           fips  tax_value    taxes\n",
       "parcel_id                          \n",
       "11721753   6037 205123.000 2627.480"
      ]
     },
     "execution_count": 83,
     "metadata": {},
     "output_type": "execute_result"
    }
   ],
   "source": [
    "# removing outliers in tax rates\n",
    "\n",
    "def remove_tax_value_outliers(df):\n",
    "    # Calculate the interquartile range for your column\n",
    "\n",
    "    q1, q3 = df.tax_value.quantile([.25, .75])\n",
    "    \n",
    "    iqr = q3 - q1\n",
    "    \n",
    "    # Create variables holding upper and lower cutoff values using common formula. Tweak as you like.\n",
    "    \n",
    "    tax_upperbound = q3 + 3.5 * iqr\n",
    "    \n",
    "    #tax_lowerbound = q1 - 3 * iqr ==> The lowerbound is negative and since there are no negative values, \n",
    "    # there are no lowerbound outliers\n",
    "    \n",
    "    # Filter the column using variables and reassign to your dataframe.\n",
    "    tax_dist_a = tax_rates[tax_rates.tax_value < tax_upperbound]\n",
    "    return tax_dist_a\n",
    "\n",
    "\n",
    "#regenerate tax rates without outliers\n",
    "tax_rates = remove_tax_value_outliers(tax_rates)\n",
    "tax_rates = tax_rates.drop(columns = ['bathrooms','bedrooms','age','square_feet','lot_size', 'zip_code'])\n",
    "tax_rates.head(1)"
   ]
  },
  {
   "cell_type": "markdown",
   "metadata": {},
   "source": [
    "### ```Takeaways for data set: ```\n",
    "- Data was adjusted for outliers using IQR \n",
    "- The mean tax rate of all 29,754 observations in our sample is 1.276%\n",
    "- The median tax rate is 1.22%. (The 50th percentile)\n",
    "- The minimum tax rate is 0.010% and the maximum is 18.26%"
   ]
  },
  {
   "cell_type": "code",
   "execution_count": 84,
   "metadata": {},
   "outputs": [
    {
     "data": {
      "text/html": [
       "<div>\n",
       "<style scoped>\n",
       "    .dataframe tbody tr th:only-of-type {\n",
       "        vertical-align: middle;\n",
       "    }\n",
       "\n",
       "    .dataframe tbody tr th {\n",
       "        vertical-align: top;\n",
       "    }\n",
       "\n",
       "    .dataframe thead th {\n",
       "        text-align: right;\n",
       "    }\n",
       "</style>\n",
       "<table border=\"1\" class=\"dataframe\">\n",
       "  <thead>\n",
       "    <tr style=\"text-align: right;\">\n",
       "      <th></th>\n",
       "      <th>fips</th>\n",
       "      <th>tax_value</th>\n",
       "      <th>taxes</th>\n",
       "      <th>tax_rate</th>\n",
       "    </tr>\n",
       "    <tr>\n",
       "      <th>parcel_id</th>\n",
       "      <th></th>\n",
       "      <th></th>\n",
       "      <th></th>\n",
       "      <th></th>\n",
       "    </tr>\n",
       "  </thead>\n",
       "  <tbody>\n",
       "    <tr>\n",
       "      <th>11721753</th>\n",
       "      <td>6037</td>\n",
       "      <td>205123.000</td>\n",
       "      <td>2627.480</td>\n",
       "      <td>1.280</td>\n",
       "    </tr>\n",
       "    <tr>\n",
       "      <th>11289917</th>\n",
       "      <td>6037</td>\n",
       "      <td>136104.000</td>\n",
       "      <td>2319.900</td>\n",
       "      <td>1.700</td>\n",
       "    </tr>\n",
       "    <tr>\n",
       "      <th>11637029</th>\n",
       "      <td>6037</td>\n",
       "      <td>810694.000</td>\n",
       "      <td>9407.010</td>\n",
       "      <td>1.160</td>\n",
       "    </tr>\n",
       "    <tr>\n",
       "      <th>14269464</th>\n",
       "      <td>6059</td>\n",
       "      <td>880456.000</td>\n",
       "      <td>9819.720</td>\n",
       "      <td>1.120</td>\n",
       "    </tr>\n",
       "    <tr>\n",
       "      <th>11446756</th>\n",
       "      <td>6037</td>\n",
       "      <td>107110.000</td>\n",
       "      <td>1399.270</td>\n",
       "      <td>1.310</td>\n",
       "    </tr>\n",
       "  </tbody>\n",
       "</table>\n",
       "</div>"
      ],
      "text/plain": [
       "           fips  tax_value    taxes  tax_rate\n",
       "parcel_id                                    \n",
       "11721753   6037 205123.000 2627.480     1.280\n",
       "11289917   6037 136104.000 2319.900     1.700\n",
       "11637029   6037 810694.000 9407.010     1.160\n",
       "14269464   6059 880456.000 9819.720     1.120\n",
       "11446756   6037 107110.000 1399.270     1.310"
      ]
     },
     "execution_count": 84,
     "metadata": {},
     "output_type": "execute_result"
    }
   ],
   "source": [
    "# create a column that displays calculated tax rate for each observation \n",
    "tax_rates['tax_rate'] = round(((tax_rates.taxes / tax_rates.tax_value) * 100),2)\n",
    "tax_rates.head()"
   ]
  },
  {
   "cell_type": "code",
   "execution_count": 85,
   "metadata": {},
   "outputs": [
    {
     "data": {
      "text/html": [
       "<div>\n",
       "<style scoped>\n",
       "    .dataframe tbody tr th:only-of-type {\n",
       "        vertical-align: middle;\n",
       "    }\n",
       "\n",
       "    .dataframe tbody tr th {\n",
       "        vertical-align: top;\n",
       "    }\n",
       "\n",
       "    .dataframe thead th {\n",
       "        text-align: right;\n",
       "    }\n",
       "</style>\n",
       "<table border=\"1\" class=\"dataframe\">\n",
       "  <thead>\n",
       "    <tr style=\"text-align: right;\">\n",
       "      <th></th>\n",
       "      <th>fips</th>\n",
       "      <th>tax_value</th>\n",
       "      <th>taxes</th>\n",
       "      <th>tax_rate</th>\n",
       "    </tr>\n",
       "  </thead>\n",
       "  <tbody>\n",
       "    <tr>\n",
       "      <th>count</th>\n",
       "      <td>29831.000</td>\n",
       "      <td>29831.000</td>\n",
       "      <td>29831.000</td>\n",
       "      <td>29831.000</td>\n",
       "    </tr>\n",
       "    <tr>\n",
       "      <th>mean</th>\n",
       "      <td>6047.538</td>\n",
       "      <td>479095.725</td>\n",
       "      <td>5874.394</td>\n",
       "      <td>1.276</td>\n",
       "    </tr>\n",
       "    <tr>\n",
       "      <th>std</th>\n",
       "      <td>20.130</td>\n",
       "      <td>328198.569</td>\n",
       "      <td>3865.428</td>\n",
       "      <td>0.282</td>\n",
       "    </tr>\n",
       "    <tr>\n",
       "      <th>min</th>\n",
       "      <td>6037.000</td>\n",
       "      <td>90035.000</td>\n",
       "      <td>62.440</td>\n",
       "      <td>0.010</td>\n",
       "    </tr>\n",
       "    <tr>\n",
       "      <th>25%</th>\n",
       "      <td>6037.000</td>\n",
       "      <td>247319.500</td>\n",
       "      <td>3229.455</td>\n",
       "      <td>1.170</td>\n",
       "    </tr>\n",
       "    <tr>\n",
       "      <th>50%</th>\n",
       "      <td>6037.000</td>\n",
       "      <td>396137.000</td>\n",
       "      <td>4894.000</td>\n",
       "      <td>1.220</td>\n",
       "    </tr>\n",
       "    <tr>\n",
       "      <th>75%</th>\n",
       "      <td>6059.000</td>\n",
       "      <td>609177.500</td>\n",
       "      <td>7291.490</td>\n",
       "      <td>1.310</td>\n",
       "    </tr>\n",
       "    <tr>\n",
       "      <th>max</th>\n",
       "      <td>6111.000</td>\n",
       "      <td>1936324.000</td>\n",
       "      <td>61992.630</td>\n",
       "      <td>18.260</td>\n",
       "    </tr>\n",
       "  </tbody>\n",
       "</table>\n",
       "</div>"
      ],
      "text/plain": [
       "           fips   tax_value     taxes  tax_rate\n",
       "count 29831.000   29831.000 29831.000 29831.000\n",
       "mean   6047.538  479095.725  5874.394     1.276\n",
       "std      20.130  328198.569  3865.428     0.282\n",
       "min    6037.000   90035.000    62.440     0.010\n",
       "25%    6037.000  247319.500  3229.455     1.170\n",
       "50%    6037.000  396137.000  4894.000     1.220\n",
       "75%    6059.000  609177.500  7291.490     1.310\n",
       "max    6111.000 1936324.000 61992.630    18.260"
      ]
     },
     "execution_count": 85,
     "metadata": {},
     "output_type": "execute_result"
    }
   ],
   "source": [
    "# view at statistics about tax rates\n",
    "tax_rates.describe()"
   ]
  },
  {
   "cell_type": "markdown",
   "metadata": {},
   "source": [
    "<a id='Rates'></a>\n",
    "### ```Analyzing Tax Rates by County```"
   ]
  },
  {
   "cell_type": "code",
   "execution_count": 86,
   "metadata": {},
   "outputs": [
    {
     "data": {
      "text/html": [
       "<div>\n",
       "<style scoped>\n",
       "    .dataframe tbody tr th:only-of-type {\n",
       "        vertical-align: middle;\n",
       "    }\n",
       "\n",
       "    .dataframe tbody tr th {\n",
       "        vertical-align: top;\n",
       "    }\n",
       "\n",
       "    .dataframe thead th {\n",
       "        text-align: right;\n",
       "    }\n",
       "</style>\n",
       "<table border=\"1\" class=\"dataframe\">\n",
       "  <thead>\n",
       "    <tr style=\"text-align: right;\">\n",
       "      <th></th>\n",
       "      <th>fips</th>\n",
       "      <th>tax_value</th>\n",
       "      <th>taxes</th>\n",
       "      <th>tax_rate</th>\n",
       "    </tr>\n",
       "    <tr>\n",
       "      <th>parcel_id</th>\n",
       "      <th></th>\n",
       "      <th></th>\n",
       "      <th></th>\n",
       "      <th></th>\n",
       "    </tr>\n",
       "  </thead>\n",
       "  <tbody>\n",
       "    <tr>\n",
       "      <th>17165634</th>\n",
       "      <td>6111</td>\n",
       "      <td>94344.000</td>\n",
       "      <td>1082.460</td>\n",
       "      <td>1.150</td>\n",
       "    </tr>\n",
       "  </tbody>\n",
       "</table>\n",
       "</div>"
      ],
      "text/plain": [
       "           fips  tax_value    taxes  tax_rate\n",
       "parcel_id                                    \n",
       "17165634   6111  94344.000 1082.460     1.150"
      ]
     },
     "execution_count": 86,
     "metadata": {},
     "output_type": "execute_result"
    }
   ],
   "source": [
    "#group data by FIPS to get county tax rates\n",
    "grouped = tax_rates.groupby(tax_rates.fips)\n",
    "Ventura = grouped.get_group(6111)\n",
    "Orange = grouped.get_group(6059)\n",
    "LA = grouped.get_group(6037)\n",
    "Ventura.head(1)"
   ]
  },
  {
   "cell_type": "markdown",
   "metadata": {},
   "source": [
    "### ```Takeaways for Ventura County: ```\n",
    "- The mean tax rate of all 2,204 observations in Venture County is 1.163%\n",
    "- The median tax rate is 1.12%. (The 50th percentile)\n",
    "- The minimum tax rate is 0.010% and the maximum is 2.91%\n",
    "- Standard deviation is 0.183\n",
    "- Distribution is right skewed with heaviest concentration between ~ 1.00% and 1.25%."
   ]
  },
  {
   "cell_type": "code",
   "execution_count": 87,
   "metadata": {},
   "outputs": [
    {
     "data": {
      "text/html": [
       "<div>\n",
       "<style scoped>\n",
       "    .dataframe tbody tr th:only-of-type {\n",
       "        vertical-align: middle;\n",
       "    }\n",
       "\n",
       "    .dataframe tbody tr th {\n",
       "        vertical-align: top;\n",
       "    }\n",
       "\n",
       "    .dataframe thead th {\n",
       "        text-align: right;\n",
       "    }\n",
       "</style>\n",
       "<table border=\"1\" class=\"dataframe\">\n",
       "  <thead>\n",
       "    <tr style=\"text-align: right;\">\n",
       "      <th></th>\n",
       "      <th>fips</th>\n",
       "      <th>tax_value</th>\n",
       "      <th>taxes</th>\n",
       "      <th>tax_rate</th>\n",
       "    </tr>\n",
       "  </thead>\n",
       "  <tbody>\n",
       "    <tr>\n",
       "      <th>count</th>\n",
       "      <td>2205.000</td>\n",
       "      <td>2205.000</td>\n",
       "      <td>2205.000</td>\n",
       "      <td>2205.000</td>\n",
       "    </tr>\n",
       "    <tr>\n",
       "      <th>mean</th>\n",
       "      <td>6111.000</td>\n",
       "      <td>516495.032</td>\n",
       "      <td>5947.236</td>\n",
       "      <td>1.163</td>\n",
       "    </tr>\n",
       "    <tr>\n",
       "      <th>std</th>\n",
       "      <td>0.000</td>\n",
       "      <td>276695.455</td>\n",
       "      <td>3227.339</td>\n",
       "      <td>0.183</td>\n",
       "    </tr>\n",
       "    <tr>\n",
       "      <th>min</th>\n",
       "      <td>6111.000</td>\n",
       "      <td>90206.000</td>\n",
       "      <td>62.440</td>\n",
       "      <td>0.010</td>\n",
       "    </tr>\n",
       "    <tr>\n",
       "      <th>25%</th>\n",
       "      <td>6111.000</td>\n",
       "      <td>326530.000</td>\n",
       "      <td>3725.420</td>\n",
       "      <td>1.070</td>\n",
       "    </tr>\n",
       "    <tr>\n",
       "      <th>50%</th>\n",
       "      <td>6111.000</td>\n",
       "      <td>462316.000</td>\n",
       "      <td>5212.720</td>\n",
       "      <td>1.120</td>\n",
       "    </tr>\n",
       "    <tr>\n",
       "      <th>75%</th>\n",
       "      <td>6111.000</td>\n",
       "      <td>644612.000</td>\n",
       "      <td>7356.200</td>\n",
       "      <td>1.190</td>\n",
       "    </tr>\n",
       "    <tr>\n",
       "      <th>max</th>\n",
       "      <td>6111.000</td>\n",
       "      <td>1918000.000</td>\n",
       "      <td>25839.640</td>\n",
       "      <td>2.910</td>\n",
       "    </tr>\n",
       "  </tbody>\n",
       "</table>\n",
       "</div>"
      ],
      "text/plain": [
       "          fips   tax_value     taxes  tax_rate\n",
       "count 2205.000    2205.000  2205.000  2205.000\n",
       "mean  6111.000  516495.032  5947.236     1.163\n",
       "std      0.000  276695.455  3227.339     0.183\n",
       "min   6111.000   90206.000    62.440     0.010\n",
       "25%   6111.000  326530.000  3725.420     1.070\n",
       "50%   6111.000  462316.000  5212.720     1.120\n",
       "75%   6111.000  644612.000  7356.200     1.190\n",
       "max   6111.000 1918000.000 25839.640     2.910"
      ]
     },
     "execution_count": 87,
     "metadata": {},
     "output_type": "execute_result"
    }
   ],
   "source": [
    "# get statistics on tax rates of each county\n",
    "Ventura.describe()"
   ]
  },
  {
   "cell_type": "code",
   "execution_count": 88,
   "metadata": {},
   "outputs": [
    {
     "data": {
      "image/png": "[encoded data removed]",
      "text/plain": [
       "<Figure size 360x360 with 1 Axes>"
      ]
     },
     "metadata": {
      "needs_background": "light"
     },
     "output_type": "display_data"
    }
   ],
   "source": [
    "plt.figure(figsize=(5, 5))\n",
    "plt.hist(Ventura.tax_rate, color = 'goldenrod', edgecolor='darkblue', bins = 50, alpha = 0.75, rwidth=600)\n",
    "plt.title(\"Ventura County\")\n",
    "\n",
    "plt.xlabel('T a x  R a t e')\n",
    "plt.ylabel('F r e q u e n c y')\n",
    "plt.xlim([0.8, 2])\n",
    "plt.show()"
   ]
  },
  {
   "cell_type": "markdown",
   "metadata": {},
   "source": [
    "### ```Takeaways for Los Angeles County: ```\n",
    "- The mean tax rate of all 20,705 observations in Los Angeles County is 1.322%\n",
    "- The median tax rate is 1.24%. (The 50th percentile)\n",
    "- The minimum tax rate is 0.09% and the maximum is 18.26%\n",
    "- Standard deviation is 0.297\n",
    "- Heaviest concentration between ~ 1.2% and 1.55%."
   ]
  },
  {
   "cell_type": "code",
   "execution_count": 89,
   "metadata": {},
   "outputs": [
    {
     "data": {
      "text/html": [
       "<div>\n",
       "<style scoped>\n",
       "    .dataframe tbody tr th:only-of-type {\n",
       "        vertical-align: middle;\n",
       "    }\n",
       "\n",
       "    .dataframe tbody tr th {\n",
       "        vertical-align: top;\n",
       "    }\n",
       "\n",
       "    .dataframe thead th {\n",
       "        text-align: right;\n",
       "    }\n",
       "</style>\n",
       "<table border=\"1\" class=\"dataframe\">\n",
       "  <thead>\n",
       "    <tr style=\"text-align: right;\">\n",
       "      <th></th>\n",
       "      <th>fips</th>\n",
       "      <th>tax_value</th>\n",
       "      <th>taxes</th>\n",
       "      <th>tax_rate</th>\n",
       "    </tr>\n",
       "  </thead>\n",
       "  <tbody>\n",
       "    <tr>\n",
       "      <th>count</th>\n",
       "      <td>20754.000</td>\n",
       "      <td>20754.000</td>\n",
       "      <td>20754.000</td>\n",
       "      <td>20754.000</td>\n",
       "    </tr>\n",
       "    <tr>\n",
       "      <th>mean</th>\n",
       "      <td>6037.000</td>\n",
       "      <td>443934.544</td>\n",
       "      <td>5622.924</td>\n",
       "      <td>1.321</td>\n",
       "    </tr>\n",
       "    <tr>\n",
       "      <th>std</th>\n",
       "      <td>0.000</td>\n",
       "      <td>318935.675</td>\n",
       "      <td>3824.833</td>\n",
       "      <td>0.297</td>\n",
       "    </tr>\n",
       "    <tr>\n",
       "      <th>min</th>\n",
       "      <td>6037.000</td>\n",
       "      <td>90035.000</td>\n",
       "      <td>150.060</td>\n",
       "      <td>0.090</td>\n",
       "    </tr>\n",
       "    <tr>\n",
       "      <th>25%</th>\n",
       "      <td>6037.000</td>\n",
       "      <td>225264.250</td>\n",
       "      <td>3068.412</td>\n",
       "      <td>1.210</td>\n",
       "    </tr>\n",
       "    <tr>\n",
       "      <th>50%</th>\n",
       "      <td>6037.000</td>\n",
       "      <td>356451.500</td>\n",
       "      <td>4599.130</td>\n",
       "      <td>1.240</td>\n",
       "    </tr>\n",
       "    <tr>\n",
       "      <th>75%</th>\n",
       "      <td>6037.000</td>\n",
       "      <td>550000.000</td>\n",
       "      <td>6859.320</td>\n",
       "      <td>1.340</td>\n",
       "    </tr>\n",
       "    <tr>\n",
       "      <th>max</th>\n",
       "      <td>6037.000</td>\n",
       "      <td>1936324.000</td>\n",
       "      <td>61992.630</td>\n",
       "      <td>18.260</td>\n",
       "    </tr>\n",
       "  </tbody>\n",
       "</table>\n",
       "</div>"
      ],
      "text/plain": [
       "           fips   tax_value     taxes  tax_rate\n",
       "count 20754.000   20754.000 20754.000 20754.000\n",
       "mean   6037.000  443934.544  5622.924     1.321\n",
       "std       0.000  318935.675  3824.833     0.297\n",
       "min    6037.000   90035.000   150.060     0.090\n",
       "25%    6037.000  225264.250  3068.412     1.210\n",
       "50%    6037.000  356451.500  4599.130     1.240\n",
       "75%    6037.000  550000.000  6859.320     1.340\n",
       "max    6037.000 1936324.000 61992.630    18.260"
      ]
     },
     "execution_count": 89,
     "metadata": {},
     "output_type": "execute_result"
    }
   ],
   "source": [
    "LA.describe()"
   ]
  },
  {
   "cell_type": "code",
   "execution_count": 90,
   "metadata": {},
   "outputs": [
    {
     "data": {
      "image/png": "[encoded data removed]",
      "text/plain": [
       "<Figure size 504x504 with 1 Axes>"
      ]
     },
     "metadata": {
      "needs_background": "light"
     },
     "output_type": "display_data"
    }
   ],
   "source": [
    "plt.figure(figsize=(7, 7))\n",
    "plt.hist(LA.tax_rate, color = 'goldenrod', edgecolor='darkblue', bins = 50, alpha = 0.75, rwidth=600)\n",
    "plt.title(\"Los Angeles County\")\n",
    "\n",
    "plt.xlabel('T a x  R a t e')\n",
    "plt.ylabel('F r e q u e n c y')\n",
    "plt.xlim([0.8, 2])\n",
    "plt.show()"
   ]
  },
  {
   "cell_type": "markdown",
   "metadata": {},
   "source": [
    "### ```Takeaways for Orange County: ```\n",
    "- The mean tax rate of all 6,847 observations in Orange County is 1.176%\n",
    "- The median tax rate is 1.150%. (The 50th percentile)\n",
    "- The minimum tax rate is 0.12% and the maximum is 7.58%\n",
    "- Standard deviation is 0.215\n",
    "- Distribution is right skewed with the heaviest concentration between ~ 1.1% and 1.3%."
   ]
  },
  {
   "cell_type": "code",
   "execution_count": 91,
   "metadata": {},
   "outputs": [
    {
     "data": {
      "text/html": [
       "<div>\n",
       "<style scoped>\n",
       "    .dataframe tbody tr th:only-of-type {\n",
       "        vertical-align: middle;\n",
       "    }\n",
       "\n",
       "    .dataframe tbody tr th {\n",
       "        vertical-align: top;\n",
       "    }\n",
       "\n",
       "    .dataframe thead th {\n",
       "        text-align: right;\n",
       "    }\n",
       "</style>\n",
       "<table border=\"1\" class=\"dataframe\">\n",
       "  <thead>\n",
       "    <tr style=\"text-align: right;\">\n",
       "      <th></th>\n",
       "      <th>fips</th>\n",
       "      <th>tax_value</th>\n",
       "      <th>taxes</th>\n",
       "      <th>tax_rate</th>\n",
       "    </tr>\n",
       "  </thead>\n",
       "  <tbody>\n",
       "    <tr>\n",
       "      <th>count</th>\n",
       "      <td>6872.000</td>\n",
       "      <td>6872.000</td>\n",
       "      <td>6872.000</td>\n",
       "      <td>6872.000</td>\n",
       "    </tr>\n",
       "    <tr>\n",
       "      <th>mean</th>\n",
       "      <td>6059.000</td>\n",
       "      <td>573285.142</td>\n",
       "      <td>6610.482</td>\n",
       "      <td>1.176</td>\n",
       "    </tr>\n",
       "    <tr>\n",
       "      <th>std</th>\n",
       "      <td>0.000</td>\n",
       "      <td>350411.040</td>\n",
       "      <td>4075.035</td>\n",
       "      <td>0.215</td>\n",
       "    </tr>\n",
       "    <tr>\n",
       "      <th>min</th>\n",
       "      <td>6059.000</td>\n",
       "      <td>90056.000</td>\n",
       "      <td>343.520</td>\n",
       "      <td>0.120</td>\n",
       "    </tr>\n",
       "    <tr>\n",
       "      <th>25%</th>\n",
       "      <td>6059.000</td>\n",
       "      <td>326192.000</td>\n",
       "      <td>3750.110</td>\n",
       "      <td>1.050</td>\n",
       "    </tr>\n",
       "    <tr>\n",
       "      <th>50%</th>\n",
       "      <td>6059.000</td>\n",
       "      <td>500392.500</td>\n",
       "      <td>5721.400</td>\n",
       "      <td>1.150</td>\n",
       "    </tr>\n",
       "    <tr>\n",
       "      <th>75%</th>\n",
       "      <td>6059.000</td>\n",
       "      <td>737171.500</td>\n",
       "      <td>8315.215</td>\n",
       "      <td>1.230</td>\n",
       "    </tr>\n",
       "    <tr>\n",
       "      <th>max</th>\n",
       "      <td>6059.000</td>\n",
       "      <td>1931835.000</td>\n",
       "      <td>27447.100</td>\n",
       "      <td>7.580</td>\n",
       "    </tr>\n",
       "  </tbody>\n",
       "</table>\n",
       "</div>"
      ],
      "text/plain": [
       "          fips   tax_value     taxes  tax_rate\n",
       "count 6872.000    6872.000  6872.000  6872.000\n",
       "mean  6059.000  573285.142  6610.482     1.176\n",
       "std      0.000  350411.040  4075.035     0.215\n",
       "min   6059.000   90056.000   343.520     0.120\n",
       "25%   6059.000  326192.000  3750.110     1.050\n",
       "50%   6059.000  500392.500  5721.400     1.150\n",
       "75%   6059.000  737171.500  8315.215     1.230\n",
       "max   6059.000 1931835.000 27447.100     7.580"
      ]
     },
     "execution_count": 91,
     "metadata": {},
     "output_type": "execute_result"
    }
   ],
   "source": [
    "Orange.describe()"
   ]
  },
  {
   "cell_type": "code",
   "execution_count": 92,
   "metadata": {},
   "outputs": [
    {
     "data": {
      "image/png": "[encoded data removed]",
      "text/plain": [
       "<Figure size 504x504 with 1 Axes>"
      ]
     },
     "metadata": {
      "needs_background": "light"
     },
     "output_type": "display_data"
    }
   ],
   "source": [
    "plt.figure(figsize=(7, 7))\n",
    "plt.hist(Orange.tax_rate, color = 'goldenrod', edgecolor='darkblue', bins = 50, alpha = 0.75, rwidth=600)\n",
    "plt.title(\"Distribution of Property Tax Rates in Orange County\")\n",
    "\n",
    "plt.xlabel('T a x  R a t e')\n",
    "plt.ylabel('F r e q u e n c y')\n",
    "plt.xlim([0.8, 2])\n",
    "plt.show()"
   ]
  },
  {
   "cell_type": "markdown",
   "metadata": {},
   "source": [
    "<a id='Recommends'></a>\n",
    "\n",
    "### ```Final Recommendation and Takeaways:``` "
   ]
  },
  {
   "cell_type": "markdown",
   "metadata": {},
   "source": [
    "#### ```Takeaways from Evaluating Test Data on RMSE for Polynomial Model, degrees=2```\n",
    "\n",
    "* **Recommend using the Polynomial Regression Model (degree of 2) to predict home values based on bathroom count, age of home, square footage and zip code.** \n",
    "\n",
    "* Note: Scatterplot visualization demonstrates that our model tends to under-value homes that exceed the median tax value of ~$408,000."
   ]
  },
  {
   "cell_type": "markdown",
   "metadata": {},
   "source": [
    "#### ```Given more Time and Resources, I would:```\n",
    "\n",
    "- Fine tune feature engineering, perhaps combining some features, to increase accuracy.\n",
    "- Since there was little difference in the RMSE for mean and median, I would re-run models using median as baseline, whereas median was $399,000 which may be more representativae\n",
    "- Reconfigure many of my explorations and modeling code into as functions, to clean up notebook and increase reproducibility of results\n",
    "\n",
    "\n"
   ]
  },
  {
   "cell_type": "code",
   "execution_count": null,
   "metadata": {},
   "outputs": [],
   "source": []
  }
 ],
 "metadata": {
  "kernelspec": {
   "display_name": "Python 3",
   "language": "python",
   "name": "python3"
  },
  "language_info": {
   "codemirror_mode": {
    "name": "ipython",
    "version": 3
   },
   "file_extension": ".py",
   "mimetype": "text/x-python",
   "name": "python",
   "nbconvert_exporter": "python",
   "pygments_lexer": "ipython3",
   "version": "3.8.5"
  }
 },
 "nbformat": 4,
 "nbformat_minor": 4
}
